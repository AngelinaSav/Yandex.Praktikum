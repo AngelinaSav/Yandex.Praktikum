{
 "cells": [
  {
   "cell_type": "markdown",
   "metadata": {},
   "source": [
    "# Исследование надёжности заёмщиков\n",
    "\n",
    "Заказчик — кредитный отдел банка. Нужно разобраться, влияет ли семейное положение и количество детей клиента на факт погашения кредита в срок. Входные данные от банка — статистика о платёжеспособности клиентов.\n",
    "\n",
    "Результаты исследования будут учтены при построении модели **кредитного скоринга** — специальной системы, которая оценивает способность потенциального заёмщика вернуть кредит банку."
   ]
  },
  {
   "cell_type": "markdown",
   "metadata": {},
   "source": [
    "## Шаг 1. Откройте файл с данными и изучите общую информацию"
   ]
  },
  {
   "cell_type": "code",
   "execution_count": 1,
   "metadata": {},
   "outputs": [],
   "source": [
    "import pandas as pd"
   ]
  },
  {
   "cell_type": "code",
   "execution_count": 2,
   "metadata": {
    "scrolled": true
   },
   "outputs": [
    {
     "data": {
      "text/html": [
       "<div>\n",
       "<style scoped>\n",
       "    .dataframe tbody tr th:only-of-type {\n",
       "        vertical-align: middle;\n",
       "    }\n",
       "\n",
       "    .dataframe tbody tr th {\n",
       "        vertical-align: top;\n",
       "    }\n",
       "\n",
       "    .dataframe thead th {\n",
       "        text-align: right;\n",
       "    }\n",
       "</style>\n",
       "<table border=\"1\" class=\"dataframe\">\n",
       "  <thead>\n",
       "    <tr style=\"text-align: right;\">\n",
       "      <th></th>\n",
       "      <th>children</th>\n",
       "      <th>days_employed</th>\n",
       "      <th>dob_years</th>\n",
       "      <th>education</th>\n",
       "      <th>education_id</th>\n",
       "      <th>family_status</th>\n",
       "      <th>family_status_id</th>\n",
       "      <th>gender</th>\n",
       "      <th>income_type</th>\n",
       "      <th>debt</th>\n",
       "      <th>total_income</th>\n",
       "      <th>purpose</th>\n",
       "    </tr>\n",
       "  </thead>\n",
       "  <tbody>\n",
       "    <tr>\n",
       "      <th>0</th>\n",
       "      <td>1</td>\n",
       "      <td>-8437.673028</td>\n",
       "      <td>42</td>\n",
       "      <td>высшее</td>\n",
       "      <td>0</td>\n",
       "      <td>женат / замужем</td>\n",
       "      <td>0</td>\n",
       "      <td>F</td>\n",
       "      <td>сотрудник</td>\n",
       "      <td>0</td>\n",
       "      <td>253875.639453</td>\n",
       "      <td>покупка жилья</td>\n",
       "    </tr>\n",
       "    <tr>\n",
       "      <th>1</th>\n",
       "      <td>1</td>\n",
       "      <td>-4024.803754</td>\n",
       "      <td>36</td>\n",
       "      <td>среднее</td>\n",
       "      <td>1</td>\n",
       "      <td>женат / замужем</td>\n",
       "      <td>0</td>\n",
       "      <td>F</td>\n",
       "      <td>сотрудник</td>\n",
       "      <td>0</td>\n",
       "      <td>112080.014102</td>\n",
       "      <td>приобретение автомобиля</td>\n",
       "    </tr>\n",
       "    <tr>\n",
       "      <th>2</th>\n",
       "      <td>0</td>\n",
       "      <td>-5623.422610</td>\n",
       "      <td>33</td>\n",
       "      <td>Среднее</td>\n",
       "      <td>1</td>\n",
       "      <td>женат / замужем</td>\n",
       "      <td>0</td>\n",
       "      <td>M</td>\n",
       "      <td>сотрудник</td>\n",
       "      <td>0</td>\n",
       "      <td>145885.952297</td>\n",
       "      <td>покупка жилья</td>\n",
       "    </tr>\n",
       "    <tr>\n",
       "      <th>3</th>\n",
       "      <td>3</td>\n",
       "      <td>-4124.747207</td>\n",
       "      <td>32</td>\n",
       "      <td>среднее</td>\n",
       "      <td>1</td>\n",
       "      <td>женат / замужем</td>\n",
       "      <td>0</td>\n",
       "      <td>M</td>\n",
       "      <td>сотрудник</td>\n",
       "      <td>0</td>\n",
       "      <td>267628.550329</td>\n",
       "      <td>дополнительное образование</td>\n",
       "    </tr>\n",
       "    <tr>\n",
       "      <th>4</th>\n",
       "      <td>0</td>\n",
       "      <td>340266.072047</td>\n",
       "      <td>53</td>\n",
       "      <td>среднее</td>\n",
       "      <td>1</td>\n",
       "      <td>гражданский брак</td>\n",
       "      <td>1</td>\n",
       "      <td>F</td>\n",
       "      <td>пенсионер</td>\n",
       "      <td>0</td>\n",
       "      <td>158616.077870</td>\n",
       "      <td>сыграть свадьбу</td>\n",
       "    </tr>\n",
       "    <tr>\n",
       "      <th>5</th>\n",
       "      <td>0</td>\n",
       "      <td>-926.185831</td>\n",
       "      <td>27</td>\n",
       "      <td>высшее</td>\n",
       "      <td>0</td>\n",
       "      <td>гражданский брак</td>\n",
       "      <td>1</td>\n",
       "      <td>M</td>\n",
       "      <td>компаньон</td>\n",
       "      <td>0</td>\n",
       "      <td>255763.565419</td>\n",
       "      <td>покупка жилья</td>\n",
       "    </tr>\n",
       "    <tr>\n",
       "      <th>6</th>\n",
       "      <td>0</td>\n",
       "      <td>-2879.202052</td>\n",
       "      <td>43</td>\n",
       "      <td>высшее</td>\n",
       "      <td>0</td>\n",
       "      <td>женат / замужем</td>\n",
       "      <td>0</td>\n",
       "      <td>F</td>\n",
       "      <td>компаньон</td>\n",
       "      <td>0</td>\n",
       "      <td>240525.971920</td>\n",
       "      <td>операции с жильем</td>\n",
       "    </tr>\n",
       "    <tr>\n",
       "      <th>7</th>\n",
       "      <td>0</td>\n",
       "      <td>-152.779569</td>\n",
       "      <td>50</td>\n",
       "      <td>СРЕДНЕЕ</td>\n",
       "      <td>1</td>\n",
       "      <td>женат / замужем</td>\n",
       "      <td>0</td>\n",
       "      <td>M</td>\n",
       "      <td>сотрудник</td>\n",
       "      <td>0</td>\n",
       "      <td>135823.934197</td>\n",
       "      <td>образование</td>\n",
       "    </tr>\n",
       "    <tr>\n",
       "      <th>8</th>\n",
       "      <td>2</td>\n",
       "      <td>-6929.865299</td>\n",
       "      <td>35</td>\n",
       "      <td>ВЫСШЕЕ</td>\n",
       "      <td>0</td>\n",
       "      <td>гражданский брак</td>\n",
       "      <td>1</td>\n",
       "      <td>F</td>\n",
       "      <td>сотрудник</td>\n",
       "      <td>0</td>\n",
       "      <td>95856.832424</td>\n",
       "      <td>на проведение свадьбы</td>\n",
       "    </tr>\n",
       "    <tr>\n",
       "      <th>9</th>\n",
       "      <td>0</td>\n",
       "      <td>-2188.756445</td>\n",
       "      <td>41</td>\n",
       "      <td>среднее</td>\n",
       "      <td>1</td>\n",
       "      <td>женат / замужем</td>\n",
       "      <td>0</td>\n",
       "      <td>M</td>\n",
       "      <td>сотрудник</td>\n",
       "      <td>0</td>\n",
       "      <td>144425.938277</td>\n",
       "      <td>покупка жилья для семьи</td>\n",
       "    </tr>\n",
       "    <tr>\n",
       "      <th>10</th>\n",
       "      <td>2</td>\n",
       "      <td>-4171.483647</td>\n",
       "      <td>36</td>\n",
       "      <td>высшее</td>\n",
       "      <td>0</td>\n",
       "      <td>женат / замужем</td>\n",
       "      <td>0</td>\n",
       "      <td>M</td>\n",
       "      <td>компаньон</td>\n",
       "      <td>0</td>\n",
       "      <td>113943.491460</td>\n",
       "      <td>покупка недвижимости</td>\n",
       "    </tr>\n",
       "    <tr>\n",
       "      <th>11</th>\n",
       "      <td>0</td>\n",
       "      <td>-792.701887</td>\n",
       "      <td>40</td>\n",
       "      <td>среднее</td>\n",
       "      <td>1</td>\n",
       "      <td>женат / замужем</td>\n",
       "      <td>0</td>\n",
       "      <td>F</td>\n",
       "      <td>сотрудник</td>\n",
       "      <td>0</td>\n",
       "      <td>77069.234271</td>\n",
       "      <td>покупка коммерческой недвижимости</td>\n",
       "    </tr>\n",
       "    <tr>\n",
       "      <th>12</th>\n",
       "      <td>0</td>\n",
       "      <td>NaN</td>\n",
       "      <td>65</td>\n",
       "      <td>среднее</td>\n",
       "      <td>1</td>\n",
       "      <td>гражданский брак</td>\n",
       "      <td>1</td>\n",
       "      <td>M</td>\n",
       "      <td>пенсионер</td>\n",
       "      <td>0</td>\n",
       "      <td>NaN</td>\n",
       "      <td>сыграть свадьбу</td>\n",
       "    </tr>\n",
       "    <tr>\n",
       "      <th>13</th>\n",
       "      <td>0</td>\n",
       "      <td>-1846.641941</td>\n",
       "      <td>54</td>\n",
       "      <td>неоконченное высшее</td>\n",
       "      <td>2</td>\n",
       "      <td>женат / замужем</td>\n",
       "      <td>0</td>\n",
       "      <td>F</td>\n",
       "      <td>сотрудник</td>\n",
       "      <td>0</td>\n",
       "      <td>130458.228857</td>\n",
       "      <td>приобретение автомобиля</td>\n",
       "    </tr>\n",
       "    <tr>\n",
       "      <th>14</th>\n",
       "      <td>0</td>\n",
       "      <td>-1844.956182</td>\n",
       "      <td>56</td>\n",
       "      <td>высшее</td>\n",
       "      <td>0</td>\n",
       "      <td>гражданский брак</td>\n",
       "      <td>1</td>\n",
       "      <td>F</td>\n",
       "      <td>компаньон</td>\n",
       "      <td>1</td>\n",
       "      <td>165127.911772</td>\n",
       "      <td>покупка жилой недвижимости</td>\n",
       "    </tr>\n",
       "  </tbody>\n",
       "</table>\n",
       "</div>"
      ],
      "text/plain": [
       "    children  days_employed  dob_years            education  education_id  \\\n",
       "0          1   -8437.673028         42               высшее             0   \n",
       "1          1   -4024.803754         36              среднее             1   \n",
       "2          0   -5623.422610         33              Среднее             1   \n",
       "3          3   -4124.747207         32              среднее             1   \n",
       "4          0  340266.072047         53              среднее             1   \n",
       "5          0    -926.185831         27               высшее             0   \n",
       "6          0   -2879.202052         43               высшее             0   \n",
       "7          0    -152.779569         50              СРЕДНЕЕ             1   \n",
       "8          2   -6929.865299         35               ВЫСШЕЕ             0   \n",
       "9          0   -2188.756445         41              среднее             1   \n",
       "10         2   -4171.483647         36               высшее             0   \n",
       "11         0    -792.701887         40              среднее             1   \n",
       "12         0            NaN         65              среднее             1   \n",
       "13         0   -1846.641941         54  неоконченное высшее             2   \n",
       "14         0   -1844.956182         56               высшее             0   \n",
       "\n",
       "       family_status  family_status_id gender income_type  debt  \\\n",
       "0    женат / замужем                 0      F   сотрудник     0   \n",
       "1    женат / замужем                 0      F   сотрудник     0   \n",
       "2    женат / замужем                 0      M   сотрудник     0   \n",
       "3    женат / замужем                 0      M   сотрудник     0   \n",
       "4   гражданский брак                 1      F   пенсионер     0   \n",
       "5   гражданский брак                 1      M   компаньон     0   \n",
       "6    женат / замужем                 0      F   компаньон     0   \n",
       "7    женат / замужем                 0      M   сотрудник     0   \n",
       "8   гражданский брак                 1      F   сотрудник     0   \n",
       "9    женат / замужем                 0      M   сотрудник     0   \n",
       "10   женат / замужем                 0      M   компаньон     0   \n",
       "11   женат / замужем                 0      F   сотрудник     0   \n",
       "12  гражданский брак                 1      M   пенсионер     0   \n",
       "13   женат / замужем                 0      F   сотрудник     0   \n",
       "14  гражданский брак                 1      F   компаньон     1   \n",
       "\n",
       "     total_income                            purpose  \n",
       "0   253875.639453                      покупка жилья  \n",
       "1   112080.014102            приобретение автомобиля  \n",
       "2   145885.952297                      покупка жилья  \n",
       "3   267628.550329         дополнительное образование  \n",
       "4   158616.077870                    сыграть свадьбу  \n",
       "5   255763.565419                      покупка жилья  \n",
       "6   240525.971920                  операции с жильем  \n",
       "7   135823.934197                        образование  \n",
       "8    95856.832424              на проведение свадьбы  \n",
       "9   144425.938277            покупка жилья для семьи  \n",
       "10  113943.491460               покупка недвижимости  \n",
       "11   77069.234271  покупка коммерческой недвижимости  \n",
       "12            NaN                    сыграть свадьбу  \n",
       "13  130458.228857            приобретение автомобиля  \n",
       "14  165127.911772         покупка жилой недвижимости  "
      ]
     },
     "execution_count": 2,
     "metadata": {},
     "output_type": "execute_result"
    }
   ],
   "source": [
    "df = pd.read_csv('/datasets/data.csv')\n",
    "df.head(15)"
   ]
  },
  {
   "cell_type": "code",
   "execution_count": 3,
   "metadata": {
    "scrolled": true
   },
   "outputs": [
    {
     "name": "stdout",
     "output_type": "stream",
     "text": [
      "<class 'pandas.core.frame.DataFrame'>\n",
      "RangeIndex: 21525 entries, 0 to 21524\n",
      "Data columns (total 12 columns):\n",
      " #   Column            Non-Null Count  Dtype  \n",
      "---  ------            --------------  -----  \n",
      " 0   children          21525 non-null  int64  \n",
      " 1   days_employed     19351 non-null  float64\n",
      " 2   dob_years         21525 non-null  int64  \n",
      " 3   education         21525 non-null  object \n",
      " 4   education_id      21525 non-null  int64  \n",
      " 5   family_status     21525 non-null  object \n",
      " 6   family_status_id  21525 non-null  int64  \n",
      " 7   gender            21525 non-null  object \n",
      " 8   income_type       21525 non-null  object \n",
      " 9   debt              21525 non-null  int64  \n",
      " 10  total_income      19351 non-null  float64\n",
      " 11  purpose           21525 non-null  object \n",
      "dtypes: float64(2), int64(5), object(5)\n",
      "memory usage: 2.0+ MB\n"
     ]
    }
   ],
   "source": [
    "df.info()"
   ]
  },
  {
   "cell_type": "code",
   "execution_count": 4,
   "metadata": {
    "scrolled": false
   },
   "outputs": [
    {
     "data": {
      "text/html": [
       "<div>\n",
       "<style scoped>\n",
       "    .dataframe tbody tr th:only-of-type {\n",
       "        vertical-align: middle;\n",
       "    }\n",
       "\n",
       "    .dataframe tbody tr th {\n",
       "        vertical-align: top;\n",
       "    }\n",
       "\n",
       "    .dataframe thead th {\n",
       "        text-align: right;\n",
       "    }\n",
       "</style>\n",
       "<table border=\"1\" class=\"dataframe\">\n",
       "  <thead>\n",
       "    <tr style=\"text-align: right;\">\n",
       "      <th></th>\n",
       "      <th>children</th>\n",
       "      <th>days_employed</th>\n",
       "      <th>dob_years</th>\n",
       "      <th>education_id</th>\n",
       "      <th>family_status_id</th>\n",
       "      <th>debt</th>\n",
       "      <th>total_income</th>\n",
       "    </tr>\n",
       "  </thead>\n",
       "  <tbody>\n",
       "    <tr>\n",
       "      <th>count</th>\n",
       "      <td>21525.000000</td>\n",
       "      <td>19351.000000</td>\n",
       "      <td>21525.000000</td>\n",
       "      <td>21525.000000</td>\n",
       "      <td>21525.000000</td>\n",
       "      <td>21525.000000</td>\n",
       "      <td>1.935100e+04</td>\n",
       "    </tr>\n",
       "    <tr>\n",
       "      <th>mean</th>\n",
       "      <td>0.538908</td>\n",
       "      <td>63046.497661</td>\n",
       "      <td>43.293380</td>\n",
       "      <td>0.817236</td>\n",
       "      <td>0.972544</td>\n",
       "      <td>0.080883</td>\n",
       "      <td>1.674223e+05</td>\n",
       "    </tr>\n",
       "    <tr>\n",
       "      <th>std</th>\n",
       "      <td>1.381587</td>\n",
       "      <td>140827.311974</td>\n",
       "      <td>12.574584</td>\n",
       "      <td>0.548138</td>\n",
       "      <td>1.420324</td>\n",
       "      <td>0.272661</td>\n",
       "      <td>1.029716e+05</td>\n",
       "    </tr>\n",
       "    <tr>\n",
       "      <th>min</th>\n",
       "      <td>-1.000000</td>\n",
       "      <td>-18388.949901</td>\n",
       "      <td>0.000000</td>\n",
       "      <td>0.000000</td>\n",
       "      <td>0.000000</td>\n",
       "      <td>0.000000</td>\n",
       "      <td>2.066726e+04</td>\n",
       "    </tr>\n",
       "    <tr>\n",
       "      <th>25%</th>\n",
       "      <td>0.000000</td>\n",
       "      <td>-2747.423625</td>\n",
       "      <td>33.000000</td>\n",
       "      <td>1.000000</td>\n",
       "      <td>0.000000</td>\n",
       "      <td>0.000000</td>\n",
       "      <td>1.030532e+05</td>\n",
       "    </tr>\n",
       "    <tr>\n",
       "      <th>50%</th>\n",
       "      <td>0.000000</td>\n",
       "      <td>-1203.369529</td>\n",
       "      <td>42.000000</td>\n",
       "      <td>1.000000</td>\n",
       "      <td>0.000000</td>\n",
       "      <td>0.000000</td>\n",
       "      <td>1.450179e+05</td>\n",
       "    </tr>\n",
       "    <tr>\n",
       "      <th>75%</th>\n",
       "      <td>1.000000</td>\n",
       "      <td>-291.095954</td>\n",
       "      <td>53.000000</td>\n",
       "      <td>1.000000</td>\n",
       "      <td>1.000000</td>\n",
       "      <td>0.000000</td>\n",
       "      <td>2.034351e+05</td>\n",
       "    </tr>\n",
       "    <tr>\n",
       "      <th>max</th>\n",
       "      <td>20.000000</td>\n",
       "      <td>401755.400475</td>\n",
       "      <td>75.000000</td>\n",
       "      <td>4.000000</td>\n",
       "      <td>4.000000</td>\n",
       "      <td>1.000000</td>\n",
       "      <td>2.265604e+06</td>\n",
       "    </tr>\n",
       "  </tbody>\n",
       "</table>\n",
       "</div>"
      ],
      "text/plain": [
       "           children  days_employed     dob_years  education_id  \\\n",
       "count  21525.000000   19351.000000  21525.000000  21525.000000   \n",
       "mean       0.538908   63046.497661     43.293380      0.817236   \n",
       "std        1.381587  140827.311974     12.574584      0.548138   \n",
       "min       -1.000000  -18388.949901      0.000000      0.000000   \n",
       "25%        0.000000   -2747.423625     33.000000      1.000000   \n",
       "50%        0.000000   -1203.369529     42.000000      1.000000   \n",
       "75%        1.000000    -291.095954     53.000000      1.000000   \n",
       "max       20.000000  401755.400475     75.000000      4.000000   \n",
       "\n",
       "       family_status_id          debt  total_income  \n",
       "count      21525.000000  21525.000000  1.935100e+04  \n",
       "mean           0.972544      0.080883  1.674223e+05  \n",
       "std            1.420324      0.272661  1.029716e+05  \n",
       "min            0.000000      0.000000  2.066726e+04  \n",
       "25%            0.000000      0.000000  1.030532e+05  \n",
       "50%            0.000000      0.000000  1.450179e+05  \n",
       "75%            1.000000      0.000000  2.034351e+05  \n",
       "max            4.000000      1.000000  2.265604e+06  "
      ]
     },
     "execution_count": 4,
     "metadata": {},
     "output_type": "execute_result"
    }
   ],
   "source": [
    "df.describe()"
   ]
  },
  {
   "cell_type": "markdown",
   "metadata": {},
   "source": [
    "В таблице 12 столбцов. Согласно документации к данным:\n",
    "* `children` — количество детей в семье;\n",
    "* `days_employed` — общий трудовой стаж в днях;\n",
    "* `dob_years` — возраст клиента в годах;\n",
    "* `education` — уровень образования клиента;\n",
    "* `education_id` — идентификатор уровня образования;\n",
    "* `family_status` — семейное положение;\n",
    "* `family_status_id` — идентификатор семейного положения;\n",
    "* `gender` — пол клиента;\n",
    "* `income_type` — тип занятости;\n",
    "* `debt` — имел ли задолженность по возврату кредитов;\n",
    "* `total_income` — ежемесячный доход;\n",
    "* `purpose` — цель получения кредита."
   ]
  },
  {
   "cell_type": "markdown",
   "metadata": {},
   "source": [
    "**Вывод**"
   ]
  },
  {
   "cell_type": "markdown",
   "metadata": {},
   "source": [
    "В данных видны следующие проблемы:\n",
    "1. В столбце `days_employed` есть артефакты: отрицательные и очень больше положительные числа. Возможно, положительные числа соответствуют трудовому стажу в часах, а отрицательные достаточно взять по модулю;\n",
    "2. Уровни образования написаны разными регистрами;\n",
    "3. В столбцах `days_employed` и `total_income` есть пропущенные значения. Т.к. в этих столбцах одинаковое количество пропусков, можно предположить, что трудовой стаж и ежемесячный доход пропущены у одних и тех же клиентов;\n",
    "4. Трудовой стаж и ежемесячный доход — вещественные числа;\n",
    "5. Минимальное значение в столбце `children` — -1, а максимальное — 20. Возможно, это опечатки при вводе чисел \"1\" и \"2\";\n",
    "6. Минимальное значение в столбце `dob_years` — 0. Скорее всего, нулём заполнили пропуски.\n",
    "\n",
    "Для проверки гипотез нам понадобятся столбцы `children`, `family_status`, `family_status_id`, `debt`, `total_income` и `purpose`, поэтому нужно исправить ошибки в этих столбцах, если они есть."
   ]
  },
  {
   "cell_type": "markdown",
   "metadata": {},
   "source": [
    "## Шаг 2. Предобработка данных"
   ]
  },
  {
   "cell_type": "markdown",
   "metadata": {},
   "source": [
    "### Обработка пропусков"
   ]
  },
  {
   "cell_type": "markdown",
   "metadata": {},
   "source": [
    "Подсчитаем количество пропущенных значений и проверим, в одних и тех же строках пропущены значения трудового стажа и ежемесячного дохода или нет."
   ]
  },
  {
   "cell_type": "code",
   "execution_count": 5,
   "metadata": {
    "scrolled": true
   },
   "outputs": [
    {
     "name": "stdout",
     "output_type": "stream",
     "text": [
      "children               0\n",
      "days_employed       2174\n",
      "dob_years              0\n",
      "education              0\n",
      "education_id           0\n",
      "family_status          0\n",
      "family_status_id       0\n",
      "gender                 0\n",
      "income_type            0\n",
      "debt                   0\n",
      "total_income        2174\n",
      "purpose                0\n",
      "dtype: int64\n",
      "Количество строк с пропусками в обоих столбцах: 2174\n"
     ]
    }
   ],
   "source": [
    "print(df.isna().sum())\n",
    "print('Количество строк с пропусками в обоих столбцах:', df[df['days_employed'].isna() & df['total_income'].isna()].shape[0])"
   ]
  },
  {
   "cell_type": "markdown",
   "metadata": {},
   "source": [
    "Предположение подтвердилось. Трудовой стаж и ежемесячный доход пропущены у одних и тех же клиентов.\n",
    "\n",
    "Устраним артефакты в столбце `days_employed`. Сначала создадим сводную таблицу по каждому типу занятости, содержащую следующую информацию:\n",
    "1. Количество строк, соответствующих данному типу занятости;\n",
    "2. Средний трудовой стаж;\n",
    "3. Количество положительных значений в столбце `days_employed`."
   ]
  },
  {
   "cell_type": "code",
   "execution_count": 6,
   "metadata": {
    "scrolled": true
   },
   "outputs": [
    {
     "data": {
      "text/html": [
       "<div>\n",
       "<style scoped>\n",
       "    .dataframe tbody tr th:only-of-type {\n",
       "        vertical-align: middle;\n",
       "    }\n",
       "\n",
       "    .dataframe tbody tr th {\n",
       "        vertical-align: top;\n",
       "    }\n",
       "\n",
       "    .dataframe thead tr th {\n",
       "        text-align: left;\n",
       "    }\n",
       "\n",
       "    .dataframe thead tr:last-of-type th {\n",
       "        text-align: right;\n",
       "    }\n",
       "</style>\n",
       "<table border=\"1\" class=\"dataframe\">\n",
       "  <thead>\n",
       "    <tr>\n",
       "      <th></th>\n",
       "      <th colspan=\"3\" halign=\"left\">days_employed</th>\n",
       "    </tr>\n",
       "    <tr>\n",
       "      <th></th>\n",
       "      <th>number_of_rows</th>\n",
       "      <th>mean_days_employed</th>\n",
       "      <th>number_of_rows_&gt;0</th>\n",
       "    </tr>\n",
       "    <tr>\n",
       "      <th>income_type</th>\n",
       "      <th></th>\n",
       "      <th></th>\n",
       "      <th></th>\n",
       "    </tr>\n",
       "  </thead>\n",
       "  <tbody>\n",
       "    <tr>\n",
       "      <th>безработный</th>\n",
       "      <td>2</td>\n",
       "      <td>366413.652744</td>\n",
       "      <td>2.0</td>\n",
       "    </tr>\n",
       "    <tr>\n",
       "      <th>в декрете</th>\n",
       "      <td>1</td>\n",
       "      <td>-3296.759962</td>\n",
       "      <td>0.0</td>\n",
       "    </tr>\n",
       "    <tr>\n",
       "      <th>госслужащий</th>\n",
       "      <td>1312</td>\n",
       "      <td>-3399.896902</td>\n",
       "      <td>0.0</td>\n",
       "    </tr>\n",
       "    <tr>\n",
       "      <th>компаньон</th>\n",
       "      <td>4577</td>\n",
       "      <td>-2111.524398</td>\n",
       "      <td>0.0</td>\n",
       "    </tr>\n",
       "    <tr>\n",
       "      <th>пенсионер</th>\n",
       "      <td>3443</td>\n",
       "      <td>365003.491245</td>\n",
       "      <td>3443.0</td>\n",
       "    </tr>\n",
       "    <tr>\n",
       "      <th>предприниматель</th>\n",
       "      <td>1</td>\n",
       "      <td>-520.848083</td>\n",
       "      <td>0.0</td>\n",
       "    </tr>\n",
       "    <tr>\n",
       "      <th>сотрудник</th>\n",
       "      <td>10014</td>\n",
       "      <td>-2326.499216</td>\n",
       "      <td>0.0</td>\n",
       "    </tr>\n",
       "    <tr>\n",
       "      <th>студент</th>\n",
       "      <td>1</td>\n",
       "      <td>-578.751554</td>\n",
       "      <td>0.0</td>\n",
       "    </tr>\n",
       "  </tbody>\n",
       "</table>\n",
       "</div>"
      ],
      "text/plain": [
       "                 days_employed                                     \n",
       "                number_of_rows mean_days_employed number_of_rows_>0\n",
       "income_type                                                        \n",
       "безработный                  2      366413.652744               2.0\n",
       "в декрете                    1       -3296.759962               0.0\n",
       "госслужащий               1312       -3399.896902               0.0\n",
       "компаньон                 4577       -2111.524398               0.0\n",
       "пенсионер                 3443      365003.491245            3443.0\n",
       "предприниматель              1        -520.848083               0.0\n",
       "сотрудник                10014       -2326.499216               0.0\n",
       "студент                      1        -578.751554               0.0"
      ]
     },
     "execution_count": 6,
     "metadata": {},
     "output_type": "execute_result"
    }
   ],
   "source": [
    "df_pivot = df.groupby('income_type').agg({'days_employed':['count', 'mean', lambda x: sum(x>0)]})\n",
    "df_pivot = df_pivot.rename(columns={'count': 'number_of_rows', 'mean':'mean_days_employed', '<lambda_0>':'number_of_rows_>0'})\n",
    "df_pivot"
   ]
  },
  {
   "cell_type": "markdown",
   "metadata": {},
   "source": [
    "Заметим, что трудовой стаж безработных и пенсионеров — большие положительные числа. Трудовой стаж для остальных категорий указан в виде отрицательного числа. Заменим отрицательные числа положительными."
   ]
  },
  {
   "cell_type": "code",
   "execution_count": 7,
   "metadata": {},
   "outputs": [],
   "source": [
    "df['days_employed'] = abs(df['days_employed'])"
   ]
  },
  {
   "cell_type": "markdown",
   "metadata": {},
   "source": [
    "Узнаем средний возраст пенсионеров и безработных."
   ]
  },
  {
   "cell_type": "code",
   "execution_count": 8,
   "metadata": {},
   "outputs": [
    {
     "name": "stdout",
     "output_type": "stream",
     "text": [
      "Средний возраст пенсионеров: 59.06301867219917\n",
      "Средний возраст безработных: 38.0\n"
     ]
    }
   ],
   "source": [
    "print('Средний возраст пенсионеров:', df[df['income_type'] == 'пенсионер']['dob_years'].mean())\n",
    "print('Средний возраст безработных:', df[df['income_type'] == 'безработный']['dob_years'].mean())"
   ]
  },
  {
   "cell_type": "markdown",
   "metadata": {},
   "source": [
    "Узнаем, у людей с каким типом занятости есть пропущенные значения в столбцах."
   ]
  },
  {
   "cell_type": "code",
   "execution_count": 9,
   "metadata": {},
   "outputs": [
    {
     "data": {
      "text/plain": [
       "array(['пенсионер', 'госслужащий', 'компаньон', 'сотрудник',\n",
       "       'предприниматель'], dtype=object)"
      ]
     },
     "execution_count": 9,
     "metadata": {},
     "output_type": "execute_result"
    }
   ],
   "source": [
    "df[df['days_employed'].isna()]['income_type'].unique()"
   ]
  },
  {
   "cell_type": "markdown",
   "metadata": {},
   "source": [
    "Проверим предположение о том, что трудовой стаж пенсионеров записан в часах. Для этого переведём его в дни, а потом выведем средний трудовой стаж в годах."
   ]
  },
  {
   "cell_type": "code",
   "execution_count": 10,
   "metadata": {},
   "outputs": [
    {
     "data": {
      "text/plain": [
       "41.6670652106006"
      ]
     },
     "execution_count": 10,
     "metadata": {},
     "output_type": "execute_result"
    }
   ],
   "source": [
    "df.loc[df['income_type'] == 'пенсионер', 'days_employed'] = df['days_employed'] / 24\n",
    "df[df['income_type'] == 'пенсионер']['days_employed'].mean() / 365"
   ]
  },
  {
   "cell_type": "markdown",
   "metadata": {},
   "source": [
    "Средний возраст пенсионеров — 59 лет, а средний трудовой стаж — 41 год. Значит, трудовой стаж пенсионеров действительно мог быть записан в днях.\n",
    "\n",
    "Средний трудовой стаж у безработных больше, чем у пенсионеров, а возраст меньше. Значит, трудовой стаж безработных заполнен по какому-то другому принципу, но это не имеет для нас значения, т.к. у безработных нет пропусков в данных, а столбец с трудовым стажем не важен для проверки гипотез.\n",
    "\n",
    "Перейдём к устранению пропусков в столбце `days_employed` и `total_income`. На место пропущенных значений подставим медианное значение трудового стажа для каждого соответсвующего типа занятости."
   ]
  },
  {
   "cell_type": "code",
   "execution_count": 11,
   "metadata": {},
   "outputs": [],
   "source": [
    "for type in df['income_type'].unique():\n",
    "    columns_to_fill = ['days_employed', 'total_income']\n",
    "    for column in columns_to_fill:\n",
    "        median_value = df.loc[df['income_type'] == type, column].median()\n",
    "        df.loc[df['income_type'] == type, column] = df[column].fillna(median_value)"
   ]
  },
  {
   "cell_type": "markdown",
   "metadata": {},
   "source": [
    "Исправим странные значения в столбце `children`. Сначала узнаем, какие значения есть в этом столбце, затем устраним артефакты."
   ]
  },
  {
   "cell_type": "code",
   "execution_count": 12,
   "metadata": {},
   "outputs": [
    {
     "data": {
      "text/plain": [
       "array([ 1,  0,  3,  2, -1,  4, 20,  5])"
      ]
     },
     "execution_count": 12,
     "metadata": {},
     "output_type": "execute_result"
    }
   ],
   "source": [
    "df['children'].unique()"
   ]
  },
  {
   "cell_type": "code",
   "execution_count": 13,
   "metadata": {},
   "outputs": [],
   "source": [
    "df.loc[df['children'] == -1, 'children'] = 1\n",
    "df.loc[df['children'] == 20, 'children'] = 2"
   ]
  },
  {
   "cell_type": "markdown",
   "metadata": {},
   "source": [
    "Возраст некоторых клиентов равен 0. Заменим его на медианное значение по соответствующему типу занятости."
   ]
  },
  {
   "cell_type": "code",
   "execution_count": 14,
   "metadata": {},
   "outputs": [],
   "source": [
    "for i in df['income_type'].unique():\n",
    "    median_dob = int(df.loc[df['income_type'] == i, 'dob_years'].median())\n",
    "    df.loc[(df['dob_years'] == 0) & (df['income_type'] == i), 'dob_years'] = median_dob"
   ]
  },
  {
   "cell_type": "markdown",
   "metadata": {},
   "source": [
    "**Вывод**"
   ]
  },
  {
   "cell_type": "markdown",
   "metadata": {},
   "source": [
    "В столбцах `days_employed` и `total_income` были обнаружены пропущенные значения. Возможно, в этих столбцах есть пропуски, потому что некоторые клиенты банка решили скрыть свой трудовой стаж и доход. Пропуски были заполнены медианным значением по каждой группе, т.к. в данных могут встречаться значения, сильно отличающиеся от других, которые сдвинули бы среднее. "
   ]
  },
  {
   "cell_type": "markdown",
   "metadata": {},
   "source": [
    "### Замена типа данных"
   ]
  },
  {
   "cell_type": "code",
   "execution_count": 15,
   "metadata": {},
   "outputs": [],
   "source": [
    "df['days_employed'] = df['days_employed'].astype('int')\n",
    "df['total_income'] = df['total_income'].astype('int')"
   ]
  },
  {
   "cell_type": "markdown",
   "metadata": {},
   "source": [
    "**Вывод**"
   ]
  },
  {
   "cell_type": "markdown",
   "metadata": {},
   "source": [
    "Методом astype() удобно переводить столбцы с данными в нужный тип. С помощью этого метода перевели значения в столбцах с трудовым стажем и доходом в целочисленный тип."
   ]
  },
  {
   "cell_type": "markdown",
   "metadata": {},
   "source": [
    "### Обработка дубликатов"
   ]
  },
  {
   "cell_type": "markdown",
   "metadata": {},
   "source": [
    "Выведем уникальные значения в столбцах `education` и ` family_status`."
   ]
  },
  {
   "cell_type": "code",
   "execution_count": 16,
   "metadata": {},
   "outputs": [
    {
     "name": "stdout",
     "output_type": "stream",
     "text": [
      "['высшее' 'среднее' 'Среднее' 'СРЕДНЕЕ' 'ВЫСШЕЕ' 'неоконченное высшее'\n",
      " 'начальное' 'Высшее' 'НЕОКОНЧЕННОЕ ВЫСШЕЕ' 'Неоконченное высшее'\n",
      " 'НАЧАЛЬНОЕ' 'Начальное' 'Ученая степень' 'УЧЕНАЯ СТЕПЕНЬ'\n",
      " 'ученая степень']\n",
      "['женат / замужем' 'гражданский брак' 'вдовец / вдова' 'в разводе'\n",
      " 'Не женат / не замужем']\n"
     ]
    }
   ],
   "source": [
    "print(df['education'].unique())\n",
    "print(df['family_status'].unique())"
   ]
  },
  {
   "cell_type": "markdown",
   "metadata": {},
   "source": [
    "Данные об образовании и семейном статусе написаны разными регистрами. Приведём их к нижнему регистру."
   ]
  },
  {
   "cell_type": "code",
   "execution_count": 17,
   "metadata": {},
   "outputs": [],
   "source": [
    "df['education'] = df['education'].str.lower()\n",
    "df['family_status'] = df['family_status'].str.lower()"
   ]
  },
  {
   "cell_type": "markdown",
   "metadata": {},
   "source": [
    "Перейдём к удалению дубликатов. Сначала подсчитаем их количество."
   ]
  },
  {
   "cell_type": "code",
   "execution_count": 18,
   "metadata": {
    "scrolled": false
   },
   "outputs": [
    {
     "data": {
      "text/plain": [
       "71"
      ]
     },
     "execution_count": 18,
     "metadata": {},
     "output_type": "execute_result"
    }
   ],
   "source": [
    "df.duplicated().sum()"
   ]
  },
  {
   "cell_type": "markdown",
   "metadata": {},
   "source": [
    "Теперь удалим дубликаты с обновлением индексов и удалением старых."
   ]
  },
  {
   "cell_type": "code",
   "execution_count": 19,
   "metadata": {},
   "outputs": [],
   "source": [
    "df = df.drop_duplicates().reset_index(drop = True)"
   ]
  },
  {
   "cell_type": "markdown",
   "metadata": {},
   "source": [
    "**Вывод**"
   ]
  },
  {
   "cell_type": "markdown",
   "metadata": {},
   "source": [
    "Скорее всего, дубликаты появились из-за повторного внесения данных некоторых клиентов и ошибок при заполнении колонок. Дубликаты могут повлиять на выводы при проверке гипотез, поэтому их важно удалять."
   ]
  },
  {
   "cell_type": "markdown",
   "metadata": {},
   "source": [
    "### Лемматизация"
   ]
  },
  {
   "cell_type": "markdown",
   "metadata": {},
   "source": [
    "Выведем уникальные цели получения кредита"
   ]
  },
  {
   "cell_type": "code",
   "execution_count": 20,
   "metadata": {},
   "outputs": [
    {
     "data": {
      "text/plain": [
       "array(['покупка жилья', 'приобретение автомобиля',\n",
       "       'дополнительное образование', 'сыграть свадьбу',\n",
       "       'операции с жильем', 'образование', 'на проведение свадьбы',\n",
       "       'покупка жилья для семьи', 'покупка недвижимости',\n",
       "       'покупка коммерческой недвижимости', 'покупка жилой недвижимости',\n",
       "       'строительство собственной недвижимости', 'недвижимость',\n",
       "       'строительство недвижимости', 'на покупку подержанного автомобиля',\n",
       "       'на покупку своего автомобиля',\n",
       "       'операции с коммерческой недвижимостью',\n",
       "       'строительство жилой недвижимости', 'жилье',\n",
       "       'операции со своей недвижимостью', 'автомобили',\n",
       "       'заняться образованием', 'сделка с подержанным автомобилем',\n",
       "       'получение образования', 'автомобиль', 'свадьба',\n",
       "       'получение дополнительного образования', 'покупка своего жилья',\n",
       "       'операции с недвижимостью', 'получение высшего образования',\n",
       "       'свой автомобиль', 'сделка с автомобилем',\n",
       "       'профильное образование', 'высшее образование',\n",
       "       'покупка жилья для сдачи', 'на покупку автомобиля', 'ремонт жилью',\n",
       "       'заняться высшим образованием'], dtype=object)"
      ]
     },
     "execution_count": 20,
     "metadata": {},
     "output_type": "execute_result"
    }
   ],
   "source": [
    "df['purpose'].unique()"
   ]
  },
  {
   "cell_type": "markdown",
   "metadata": {},
   "source": [
    "Создадим столбец `purpose_category`, в котором будут храниться основные цели получения кредита: \"недвижимость\", \"свадьба\", \"автомобиль\" и \"образование\"."
   ]
  },
  {
   "cell_type": "code",
   "execution_count": 21,
   "metadata": {},
   "outputs": [],
   "source": [
    "from pymystem3 import Mystem\n",
    "m = Mystem()\n",
    "def purpose_category(purpose):\n",
    "    purpose_lemma = m.lemmatize(purpose)\n",
    "    if 'недвижимость' in purpose_lemma or 'жилье' in purpose_lemma:\n",
    "        return('недвижимость')\n",
    "    if 'образование' in purpose_lemma:\n",
    "        return('образование')\n",
    "    if 'автомобиль' in purpose_lemma:\n",
    "        return('автомобиль')\n",
    "    if 'свадьба' in purpose_lemma:\n",
    "        return('свадьба')\n",
    "    return('другое')\n",
    "    \n",
    "df['purpose_category'] = df['purpose'].apply(purpose_category)"
   ]
  },
  {
   "cell_type": "markdown",
   "metadata": {},
   "source": [
    "**Вывод**"
   ]
  },
  {
   "cell_type": "markdown",
   "metadata": {},
   "source": [
    "Благодаря лемматизации мы смогли создать столбец с короткой формулировкой цели кредита, который поможет нам в дальнейшем при проверке гипотез."
   ]
  },
  {
   "cell_type": "markdown",
   "metadata": {},
   "source": [
    "### Категоризация данных"
   ]
  },
  {
   "cell_type": "markdown",
   "metadata": {},
   "source": [
    "Классифицируем клиентов по количеству детей:\n",
    "* 0 детей — бездетный;\n",
    "* 1-2 ребенка;\n",
    "* 3 и более детей — многодетный."
   ]
  },
  {
   "cell_type": "code",
   "execution_count": 22,
   "metadata": {},
   "outputs": [],
   "source": [
    "def children_category(number_of_children):\n",
    "    if number_of_children == 0:\n",
    "        return('бездетный')\n",
    "    if number_of_children < 3:\n",
    "        return('1-2 ребенка')\n",
    "    return('многодетный')\n",
    "\n",
    "df['clients_children_group'] = df['children'].apply(children_category)"
   ]
  },
  {
   "cell_type": "markdown",
   "metadata": {},
   "source": [
    "Классифицируем клиентов по уровню дохода. Сначала разделим данные о доходах на квантили."
   ]
  },
  {
   "cell_type": "code",
   "execution_count": 23,
   "metadata": {},
   "outputs": [
    {
     "data": {
      "text/plain": [
       "0.00      20667.00\n",
       "0.25     107623.00\n",
       "0.50     142594.00\n",
       "0.75     195820.25\n",
       "1.00    2265604.00\n",
       "Name: total_income, dtype: float64"
      ]
     },
     "execution_count": 23,
     "metadata": {},
     "output_type": "execute_result"
    }
   ],
   "source": [
    "def quant(income):\n",
    "    q = [0, 1/4, 1/2, 3/4, 1]\n",
    "    return(income.quantile(q=q))\n",
    "\n",
    "quant(df['total_income'])"
   ]
  },
  {
   "cell_type": "markdown",
   "metadata": {},
   "source": [
    "Создадим классификацию, опираясь на полученные данные:\n",
    "* до 107623 — низкий доход;\n",
    "* до 142594 — средний доход;\n",
    "* до 195820 — высокий доход\n",
    "* больше 195820 — очень высокий доход."
   ]
  },
  {
   "cell_type": "code",
   "execution_count": 24,
   "metadata": {},
   "outputs": [],
   "source": [
    "def income_category(income):\n",
    "    if income <= 107623:\n",
    "        return('низкий доход')\n",
    "    if income <= 142594:\n",
    "        return('средний доход')\n",
    "    if income <= 195820:\n",
    "        return('высокий доход')\n",
    "    return('очень высокий доход.')\n",
    "\n",
    "df['total_income_group'] = df['total_income'].apply(income_category)"
   ]
  },
  {
   "cell_type": "markdown",
   "metadata": {},
   "source": [
    "**Вывод**"
   ]
  },
  {
   "cell_type": "markdown",
   "metadata": {},
   "source": [
    "Разделив данные на категории, мы сможем ответить на поставленные перед нами вопросы."
   ]
  },
  {
   "cell_type": "markdown",
   "metadata": {},
   "source": [
    "## Шаг 3. Ответьте на вопросы"
   ]
  },
  {
   "cell_type": "markdown",
   "metadata": {},
   "source": [
    "- Есть ли зависимость между наличием детей и возвратом кредита в срок?"
   ]
  },
  {
   "cell_type": "code",
   "execution_count": 25,
   "metadata": {},
   "outputs": [
    {
     "data": {
      "text/html": [
       "<div>\n",
       "<style scoped>\n",
       "    .dataframe tbody tr th:only-of-type {\n",
       "        vertical-align: middle;\n",
       "    }\n",
       "\n",
       "    .dataframe tbody tr th {\n",
       "        vertical-align: top;\n",
       "    }\n",
       "\n",
       "    .dataframe thead th {\n",
       "        text-align: right;\n",
       "    }\n",
       "</style>\n",
       "<table border=\"1\" class=\"dataframe\">\n",
       "  <thead>\n",
       "    <tr style=\"text-align: right;\">\n",
       "      <th>debt</th>\n",
       "      <th>0</th>\n",
       "      <th>1</th>\n",
       "      <th>%_with_debt</th>\n",
       "    </tr>\n",
       "    <tr>\n",
       "      <th>clients_children_group</th>\n",
       "      <th></th>\n",
       "      <th></th>\n",
       "      <th></th>\n",
       "    </tr>\n",
       "  </thead>\n",
       "  <tbody>\n",
       "    <tr>\n",
       "      <th>1-2 ребенка</th>\n",
       "      <td>6336</td>\n",
       "      <td>647</td>\n",
       "      <td>9.265359</td>\n",
       "    </tr>\n",
       "    <tr>\n",
       "      <th>бездетный</th>\n",
       "      <td>13028</td>\n",
       "      <td>1063</td>\n",
       "      <td>7.543822</td>\n",
       "    </tr>\n",
       "    <tr>\n",
       "      <th>многодетный</th>\n",
       "      <td>349</td>\n",
       "      <td>31</td>\n",
       "      <td>8.157895</td>\n",
       "    </tr>\n",
       "  </tbody>\n",
       "</table>\n",
       "</div>"
      ],
      "text/plain": [
       "debt                        0     1  %_with_debt\n",
       "clients_children_group                          \n",
       "1-2 ребенка              6336   647     9.265359\n",
       "бездетный               13028  1063     7.543822\n",
       "многодетный               349    31     8.157895"
      ]
     },
     "execution_count": 25,
     "metadata": {},
     "output_type": "execute_result"
    }
   ],
   "source": [
    "children_pivot = df.pivot_table(index='clients_children_group', columns='debt', values='children', aggfunc='count')\n",
    "children_pivot['%_with_debt'] = children_pivot[1] / (children_pivot[1] + children_pivot[0]) * 100\n",
    "children_pivot"
   ]
  },
  {
   "cell_type": "markdown",
   "metadata": {},
   "source": [
    "**Вывод**"
   ]
  },
  {
   "cell_type": "markdown",
   "metadata": {},
   "source": [
    "Бездетные клиенты реже допускают просрочки по кредитам, чем клиенты с детьми. Многодетных заемщиков слишком мало для того, чтобы можно было с уверенностью утверждать, что они чаще возвращают кредиты в срок, чем заемщики с 1-2 детьми. "
   ]
  },
  {
   "cell_type": "markdown",
   "metadata": {},
   "source": [
    "- Есть ли зависимость между семейным положением и возвратом кредита в срок?"
   ]
  },
  {
   "cell_type": "code",
   "execution_count": 26,
   "metadata": {
    "scrolled": false
   },
   "outputs": [
    {
     "data": {
      "text/html": [
       "<div>\n",
       "<style scoped>\n",
       "    .dataframe tbody tr th:only-of-type {\n",
       "        vertical-align: middle;\n",
       "    }\n",
       "\n",
       "    .dataframe tbody tr th {\n",
       "        vertical-align: top;\n",
       "    }\n",
       "\n",
       "    .dataframe thead th {\n",
       "        text-align: right;\n",
       "    }\n",
       "</style>\n",
       "<table border=\"1\" class=\"dataframe\">\n",
       "  <thead>\n",
       "    <tr style=\"text-align: right;\">\n",
       "      <th>debt</th>\n",
       "      <th>0</th>\n",
       "      <th>1</th>\n",
       "      <th>%_with_debt</th>\n",
       "    </tr>\n",
       "    <tr>\n",
       "      <th>family_status</th>\n",
       "      <th></th>\n",
       "      <th></th>\n",
       "      <th></th>\n",
       "    </tr>\n",
       "  </thead>\n",
       "  <tbody>\n",
       "    <tr>\n",
       "      <th>в разводе</th>\n",
       "      <td>1110</td>\n",
       "      <td>85</td>\n",
       "      <td>7.112971</td>\n",
       "    </tr>\n",
       "    <tr>\n",
       "      <th>вдовец / вдова</th>\n",
       "      <td>896</td>\n",
       "      <td>63</td>\n",
       "      <td>6.569343</td>\n",
       "    </tr>\n",
       "    <tr>\n",
       "      <th>гражданский брак</th>\n",
       "      <td>3763</td>\n",
       "      <td>388</td>\n",
       "      <td>9.347145</td>\n",
       "    </tr>\n",
       "    <tr>\n",
       "      <th>женат / замужем</th>\n",
       "      <td>11408</td>\n",
       "      <td>931</td>\n",
       "      <td>7.545182</td>\n",
       "    </tr>\n",
       "    <tr>\n",
       "      <th>не женат / не замужем</th>\n",
       "      <td>2536</td>\n",
       "      <td>274</td>\n",
       "      <td>9.750890</td>\n",
       "    </tr>\n",
       "  </tbody>\n",
       "</table>\n",
       "</div>"
      ],
      "text/plain": [
       "debt                       0    1  %_with_debt\n",
       "family_status                                 \n",
       "в разводе               1110   85     7.112971\n",
       "вдовец / вдова           896   63     6.569343\n",
       "гражданский брак        3763  388     9.347145\n",
       "женат / замужем        11408  931     7.545182\n",
       "не женат / не замужем   2536  274     9.750890"
      ]
     },
     "execution_count": 26,
     "metadata": {},
     "output_type": "execute_result"
    }
   ],
   "source": [
    "family_status_pivot = df.pivot_table(index='family_status', columns='debt', values='family_status_id', aggfunc='count')\n",
    "family_status_pivot['%_with_debt'] = family_status_pivot[1] / (family_status_pivot[1] + family_status_pivot[0]) * 100\n",
    "family_status_pivot"
   ]
  },
  {
   "cell_type": "markdown",
   "metadata": {},
   "source": [
    "**Вывод**"
   ]
  },
  {
   "cell_type": "markdown",
   "metadata": {},
   "source": [
    "Клиенты, находящиеся или бывшие в браке чаще возвращают кредиты в срок, чем клиенты, не состоявшие в узаконенных отношениях."
   ]
  },
  {
   "cell_type": "markdown",
   "metadata": {},
   "source": [
    "- Есть ли зависимость между уровнем дохода и возвратом кредита в срок?"
   ]
  },
  {
   "cell_type": "code",
   "execution_count": 27,
   "metadata": {
    "scrolled": true
   },
   "outputs": [
    {
     "data": {
      "text/html": [
       "<div>\n",
       "<style scoped>\n",
       "    .dataframe tbody tr th:only-of-type {\n",
       "        vertical-align: middle;\n",
       "    }\n",
       "\n",
       "    .dataframe tbody tr th {\n",
       "        vertical-align: top;\n",
       "    }\n",
       "\n",
       "    .dataframe thead th {\n",
       "        text-align: right;\n",
       "    }\n",
       "</style>\n",
       "<table border=\"1\" class=\"dataframe\">\n",
       "  <thead>\n",
       "    <tr style=\"text-align: right;\">\n",
       "      <th>debt</th>\n",
       "      <th>0</th>\n",
       "      <th>1</th>\n",
       "      <th>%_with_debt</th>\n",
       "    </tr>\n",
       "    <tr>\n",
       "      <th>total_income_group</th>\n",
       "      <th></th>\n",
       "      <th></th>\n",
       "      <th></th>\n",
       "    </tr>\n",
       "  </thead>\n",
       "  <tbody>\n",
       "    <tr>\n",
       "      <th>высокий доход</th>\n",
       "      <td>4799</td>\n",
       "      <td>448</td>\n",
       "      <td>8.538212</td>\n",
       "    </tr>\n",
       "    <tr>\n",
       "      <th>низкий доход</th>\n",
       "      <td>4937</td>\n",
       "      <td>427</td>\n",
       "      <td>7.960477</td>\n",
       "    </tr>\n",
       "    <tr>\n",
       "      <th>очень высокий доход.</th>\n",
       "      <td>4981</td>\n",
       "      <td>383</td>\n",
       "      <td>7.140194</td>\n",
       "    </tr>\n",
       "    <tr>\n",
       "      <th>средний доход</th>\n",
       "      <td>4996</td>\n",
       "      <td>483</td>\n",
       "      <td>8.815477</td>\n",
       "    </tr>\n",
       "  </tbody>\n",
       "</table>\n",
       "</div>"
      ],
      "text/plain": [
       "debt                     0    1  %_with_debt\n",
       "total_income_group                          \n",
       "высокий доход         4799  448     8.538212\n",
       "низкий доход          4937  427     7.960477\n",
       "очень высокий доход.  4981  383     7.140194\n",
       "средний доход         4996  483     8.815477"
      ]
     },
     "execution_count": 27,
     "metadata": {},
     "output_type": "execute_result"
    }
   ],
   "source": [
    "income_group_pivot = df.pivot_table(index='total_income_group', columns='debt', values='total_income', aggfunc='count')\n",
    "income_group_pivot['%_with_debt'] = income_group_pivot[1] / (income_group_pivot[1] + income_group_pivot[0]) * 100\n",
    "income_group_pivot"
   ]
  },
  {
   "cell_type": "markdown",
   "metadata": {},
   "source": [
    "**Вывод**"
   ]
  },
  {
   "cell_type": "markdown",
   "metadata": {},
   "source": [
    "Клиенты со средним и высоким уровнем дохода допускают просрочки по кредиту чаще остальных."
   ]
  },
  {
   "cell_type": "markdown",
   "metadata": {},
   "source": [
    "- Как разные цели кредита влияют на его возврат в срок?"
   ]
  },
  {
   "cell_type": "code",
   "execution_count": 28,
   "metadata": {},
   "outputs": [
    {
     "data": {
      "text/html": [
       "<div>\n",
       "<style scoped>\n",
       "    .dataframe tbody tr th:only-of-type {\n",
       "        vertical-align: middle;\n",
       "    }\n",
       "\n",
       "    .dataframe tbody tr th {\n",
       "        vertical-align: top;\n",
       "    }\n",
       "\n",
       "    .dataframe thead th {\n",
       "        text-align: right;\n",
       "    }\n",
       "</style>\n",
       "<table border=\"1\" class=\"dataframe\">\n",
       "  <thead>\n",
       "    <tr style=\"text-align: right;\">\n",
       "      <th>debt</th>\n",
       "      <th>0</th>\n",
       "      <th>1</th>\n",
       "      <th>%_with_debt</th>\n",
       "    </tr>\n",
       "    <tr>\n",
       "      <th>purpose_category</th>\n",
       "      <th></th>\n",
       "      <th></th>\n",
       "      <th></th>\n",
       "    </tr>\n",
       "  </thead>\n",
       "  <tbody>\n",
       "    <tr>\n",
       "      <th>автомобиль</th>\n",
       "      <td>3903</td>\n",
       "      <td>403</td>\n",
       "      <td>9.359034</td>\n",
       "    </tr>\n",
       "    <tr>\n",
       "      <th>недвижимость</th>\n",
       "      <td>10029</td>\n",
       "      <td>782</td>\n",
       "      <td>7.233373</td>\n",
       "    </tr>\n",
       "    <tr>\n",
       "      <th>образование</th>\n",
       "      <td>3643</td>\n",
       "      <td>370</td>\n",
       "      <td>9.220035</td>\n",
       "    </tr>\n",
       "    <tr>\n",
       "      <th>свадьба</th>\n",
       "      <td>2138</td>\n",
       "      <td>186</td>\n",
       "      <td>8.003442</td>\n",
       "    </tr>\n",
       "  </tbody>\n",
       "</table>\n",
       "</div>"
      ],
      "text/plain": [
       "debt                  0    1  %_with_debt\n",
       "purpose_category                         \n",
       "автомобиль         3903  403     9.359034\n",
       "недвижимость      10029  782     7.233373\n",
       "образование        3643  370     9.220035\n",
       "свадьба            2138  186     8.003442"
      ]
     },
     "execution_count": 28,
     "metadata": {},
     "output_type": "execute_result"
    }
   ],
   "source": [
    "purpose_group_pivot = df.pivot_table(index='purpose_category', columns='debt', values='purpose', aggfunc='count')\n",
    "purpose_group_pivot['%_with_debt'] = purpose_group_pivot[1] / (purpose_group_pivot[1] + purpose_group_pivot[0]) * 100\n",
    "purpose_group_pivot"
   ]
  },
  {
   "cell_type": "markdown",
   "metadata": {},
   "source": [
    "**Вывод**"
   ]
  },
  {
   "cell_type": "markdown",
   "metadata": {},
   "source": [
    "Клиенты, берущие кредит на недвижимость, оказались более ответственными и чаще возвращают кредит в срок. А заемщики, желающие получить кредит на образование или автомобиль, чаще остальных допускают просрочки по кредиту."
   ]
  },
  {
   "cell_type": "markdown",
   "metadata": {},
   "source": [
    "## Шаг 4. Общий вывод"
   ]
  },
  {
   "cell_type": "markdown",
   "metadata": {},
   "source": [
    "Мы проверили четыре гипотезы и на основании данных сделали следующие выводы:\n",
    "\n",
    "1. Наличие детей влияет на возврат кредита в срок. Бездетные клиенты допускают просрочки по кредитам реже всех. Среди бездетных клиентов только 7.5% имеют задолженности. У клиентов с детьми этот процент выше: 9.3% заемщиков с 1-2 детьми и 8.2% многодетных заемщиков. \n",
    "2. Семейное положение также влияет на наличие задолженностей. Среди клиентов банка, находящихся или бывших в официальных отношениях, наименьший процент должников: 6.6% вдовцов/вдов, 7.1% заемщиков в разводе, 7.5% женатых/замужних. Незамужние/неженатые клиенты и клиенты, состоящие в гражданском браке, имеют по 9.8% и 9.3% соответственно.\n",
    "3. Также мы заметили зависимость между уровнем дохода и возвратом кредита в срок. Клиенты со средним доходом оказались самыми ненадежными: среди них 8.6% должников. Клиенты с низким доходом допускают просрочки в 7.9% случаев, клиенты с высоким доходом — в 7.1%. Клиенты с очень высоким доходом (больше 500 000) выплачивают кредиты исправнее всех: только 6.3% заемщиков имеют долги.\n",
    "4. Цели получения кредита тоже влияют на выплату кредита в срок. Самыми ответственными заемщиками оказались люди, берущие кредит на недвижимость: 7.2% должников. За ними идут клиенты, желающие сыграть свадьбу: 8% должников. У желающих получить образование и купить автомобиль чаще возникают проблемы с погашением кредитов : 9.2% и 9,4% должников соответственно.\n",
    "\n",
    "Отвечая на главный вопрос, можно сказать, что семейное положение и количество детей влияет на факт погашения кредита в срок. Самые ответственные заемщики — заемщики, находящиеся или находившиеся ранее в официальном браке и не имеющие детей. Наименее ответственными являются незамужние/неженатые клиенты с 1 или 2 детьми. "
   ]
  }
 ],
 "metadata": {
  "ExecuteTimeLog": [
   {
    "duration": 1379,
    "start_time": "2022-01-03T21:18:56.336Z"
   },
   {
    "duration": 95,
    "start_time": "2022-01-03T21:19:07.918Z"
   },
   {
    "duration": 78,
    "start_time": "2022-01-03T21:19:21.922Z"
   },
   {
    "duration": 84,
    "start_time": "2022-01-03T21:20:59.851Z"
   },
   {
    "duration": 80,
    "start_time": "2022-01-03T21:22:03.044Z"
   },
   {
    "duration": 93,
    "start_time": "2022-01-03T21:25:37.422Z"
   },
   {
    "duration": 90,
    "start_time": "2022-01-03T21:26:05.620Z"
   },
   {
    "duration": 119,
    "start_time": "2022-01-03T21:28:47.013Z"
   },
   {
    "duration": 692,
    "start_time": "2022-01-21T18:11:36.251Z"
   },
   {
    "duration": 638,
    "start_time": "2022-01-21T18:11:48.667Z"
   },
   {
    "duration": 12,
    "start_time": "2022-01-21T18:12:23.583Z"
   },
   {
    "duration": 30,
    "start_time": "2022-01-21T18:12:38.525Z"
   },
   {
    "duration": 68,
    "start_time": "2022-01-21T18:13:33.349Z"
   },
   {
    "duration": 12,
    "start_time": "2022-01-21T18:15:08.196Z"
   },
   {
    "duration": 20,
    "start_time": "2022-01-21T18:17:35.633Z"
   },
   {
    "duration": 3,
    "start_time": "2022-01-21T18:19:00.972Z"
   },
   {
    "duration": 10,
    "start_time": "2022-01-21T18:19:36.689Z"
   },
   {
    "duration": 8,
    "start_time": "2022-01-21T18:20:22.249Z"
   },
   {
    "duration": 23,
    "start_time": "2022-01-21T18:21:06.822Z"
   },
   {
    "duration": 79,
    "start_time": "2022-01-21T18:21:49.622Z"
   },
   {
    "duration": 5,
    "start_time": "2022-01-21T18:22:43.058Z"
   },
   {
    "duration": 8,
    "start_time": "2022-01-21T18:23:02.696Z"
   },
   {
    "duration": 43,
    "start_time": "2022-01-21T18:23:54.004Z"
   },
   {
    "duration": 5,
    "start_time": "2022-01-21T18:24:43.047Z"
   },
   {
    "duration": 6,
    "start_time": "2022-01-21T18:25:43.295Z"
   },
   {
    "duration": 45,
    "start_time": "2022-01-21T18:26:21.060Z"
   },
   {
    "duration": 120,
    "start_time": "2022-01-21T18:26:34.865Z"
   },
   {
    "duration": 21,
    "start_time": "2022-01-21T18:26:50.803Z"
   },
   {
    "duration": 23,
    "start_time": "2022-01-21T18:27:24.262Z"
   },
   {
    "duration": 682,
    "start_time": "2022-01-21T18:28:34.511Z"
   },
   {
    "duration": 2896,
    "start_time": "2022-01-21T18:29:06.171Z"
   },
   {
    "duration": 2904,
    "start_time": "2022-01-21T18:29:55.157Z"
   },
   {
    "duration": 614,
    "start_time": "2022-01-21T18:30:57.114Z"
   },
   {
    "duration": 12,
    "start_time": "2022-01-21T18:30:58.782Z"
   },
   {
    "duration": 34,
    "start_time": "2022-01-21T18:31:00.661Z"
   },
   {
    "duration": 12,
    "start_time": "2022-01-21T18:31:05.445Z"
   },
   {
    "duration": 23,
    "start_time": "2022-01-21T18:31:06.787Z"
   },
   {
    "duration": 4,
    "start_time": "2022-01-21T18:31:08.376Z"
   },
   {
    "duration": 10,
    "start_time": "2022-01-21T18:31:09.929Z"
   },
   {
    "duration": 7,
    "start_time": "2022-01-21T18:31:11.029Z"
   },
   {
    "duration": 20,
    "start_time": "2022-01-21T18:31:11.861Z"
   },
   {
    "duration": 82,
    "start_time": "2022-01-21T18:31:13.513Z"
   },
   {
    "duration": 5,
    "start_time": "2022-01-21T18:31:15.506Z"
   },
   {
    "duration": 9,
    "start_time": "2022-01-21T18:31:17.359Z"
   },
   {
    "duration": 44,
    "start_time": "2022-01-21T18:31:19.334Z"
   },
   {
    "duration": 5,
    "start_time": "2022-01-21T18:31:22.928Z"
   },
   {
    "duration": 7,
    "start_time": "2022-01-21T18:31:25.813Z"
   },
   {
    "duration": 23,
    "start_time": "2022-01-21T18:31:27.179Z"
   },
   {
    "duration": 21,
    "start_time": "2022-01-21T18:31:28.078Z"
   },
   {
    "duration": 21,
    "start_time": "2022-01-21T18:31:28.932Z"
   },
   {
    "duration": 687,
    "start_time": "2022-01-21T18:31:32.357Z"
   },
   {
    "duration": 3312,
    "start_time": "2022-01-21T18:31:36.472Z"
   },
   {
    "duration": 3190,
    "start_time": "2022-01-21T18:31:51.420Z"
   },
   {
    "duration": 6,
    "start_time": "2022-01-21T18:32:30.681Z"
   },
   {
    "duration": 9,
    "start_time": "2022-01-21T18:35:29.702Z"
   },
   {
    "duration": 25,
    "start_time": "2022-01-21T18:35:40.321Z"
   },
   {
    "duration": 29,
    "start_time": "2022-01-21T18:37:18.563Z"
   },
   {
    "duration": 2888,
    "start_time": "2022-01-21T18:39:07.450Z"
   },
   {
    "duration": 719,
    "start_time": "2022-01-21T18:40:36.533Z"
   },
   {
    "duration": 12,
    "start_time": "2022-01-21T18:40:38.438Z"
   },
   {
    "duration": 33,
    "start_time": "2022-01-21T18:40:39.558Z"
   },
   {
    "duration": 12,
    "start_time": "2022-01-21T18:40:43.391Z"
   },
   {
    "duration": 20,
    "start_time": "2022-01-21T18:40:44.655Z"
   },
   {
    "duration": 4,
    "start_time": "2022-01-21T18:40:45.750Z"
   },
   {
    "duration": 10,
    "start_time": "2022-01-21T18:40:47.228Z"
   },
   {
    "duration": 7,
    "start_time": "2022-01-21T18:40:48.044Z"
   },
   {
    "duration": 16,
    "start_time": "2022-01-21T18:40:48.866Z"
   },
   {
    "duration": 79,
    "start_time": "2022-01-21T18:40:52.086Z"
   },
   {
    "duration": 5,
    "start_time": "2022-01-21T18:40:53.242Z"
   },
   {
    "duration": 8,
    "start_time": "2022-01-21T18:40:54.250Z"
   },
   {
    "duration": 49,
    "start_time": "2022-01-21T18:40:55.839Z"
   },
   {
    "duration": 5,
    "start_time": "2022-01-21T18:40:58.458Z"
   },
   {
    "duration": 8,
    "start_time": "2022-01-21T18:41:01.177Z"
   },
   {
    "duration": 21,
    "start_time": "2022-01-21T18:41:02.404Z"
   },
   {
    "duration": 20,
    "start_time": "2022-01-21T18:41:03.451Z"
   },
   {
    "duration": 21,
    "start_time": "2022-01-21T18:41:04.363Z"
   },
   {
    "duration": 660,
    "start_time": "2022-01-21T18:41:08.644Z"
   },
   {
    "duration": 2831,
    "start_time": "2022-01-21T18:41:13.292Z"
   },
   {
    "duration": 6,
    "start_time": "2022-01-21T18:42:22.336Z"
   },
   {
    "duration": 3443,
    "start_time": "2022-01-21T18:43:00.297Z"
   },
   {
    "duration": 991,
    "start_time": "2022-01-21T18:43:46.513Z"
   },
   {
    "duration": 3039,
    "start_time": "2022-01-21T18:43:55.598Z"
   },
   {
    "duration": 5,
    "start_time": "2022-01-21T18:44:48.354Z"
   },
   {
    "duration": 5,
    "start_time": "2022-01-21T18:45:05.856Z"
   },
   {
    "duration": 3021,
    "start_time": "2022-01-21T18:45:11.139Z"
   },
   {
    "duration": 2830,
    "start_time": "2022-01-21T18:47:12.750Z"
   },
   {
    "duration": 4,
    "start_time": "2022-01-21T19:07:11.644Z"
   },
   {
    "duration": 5,
    "start_time": "2022-01-21T19:07:15.794Z"
   },
   {
    "duration": 4,
    "start_time": "2022-01-21T19:07:18.324Z"
   },
   {
    "duration": 4,
    "start_time": "2022-01-21T19:07:21.269Z"
   },
   {
    "duration": 5,
    "start_time": "2022-01-21T19:07:24.521Z"
   },
   {
    "duration": 5,
    "start_time": "2022-01-21T19:07:28.284Z"
   },
   {
    "duration": 20,
    "start_time": "2022-01-21T19:09:33.105Z"
   },
   {
    "duration": 7,
    "start_time": "2022-01-21T19:10:05.286Z"
   },
   {
    "duration": 36,
    "start_time": "2022-01-21T19:14:50.662Z"
   },
   {
    "duration": 5,
    "start_time": "2022-01-21T19:16:30.850Z"
   },
   {
    "duration": 6,
    "start_time": "2022-01-21T19:17:26.896Z"
   },
   {
    "duration": 5426,
    "start_time": "2022-01-21T19:20:07.169Z"
   },
   {
    "duration": 5779,
    "start_time": "2022-01-21T19:20:31.710Z"
   },
   {
    "duration": 9,
    "start_time": "2022-01-21T19:21:11.308Z"
   },
   {
    "duration": 12,
    "start_time": "2022-01-21T19:21:27.633Z"
   },
   {
    "duration": 19,
    "start_time": "2022-01-21T19:22:01.390Z"
   },
   {
    "duration": 6,
    "start_time": "2022-01-21T19:23:27.888Z"
   },
   {
    "duration": 215,
    "start_time": "2022-01-21T19:24:59.594Z"
   },
   {
    "duration": 7,
    "start_time": "2022-01-21T19:25:26.961Z"
   },
   {
    "duration": 5,
    "start_time": "2022-01-21T19:32:49.253Z"
   },
   {
    "duration": 5,
    "start_time": "2022-01-21T19:33:01.208Z"
   },
   {
    "duration": 5,
    "start_time": "2022-01-21T19:33:11.500Z"
   },
   {
    "duration": 6,
    "start_time": "2022-01-21T19:33:27.922Z"
   },
   {
    "duration": 7,
    "start_time": "2022-01-21T19:34:07.521Z"
   },
   {
    "duration": 74,
    "start_time": "2022-01-21T19:39:34.040Z"
   },
   {
    "duration": 198,
    "start_time": "2022-01-21T19:39:43.217Z"
   },
   {
    "duration": 7,
    "start_time": "2022-01-21T19:40:13.506Z"
   },
   {
    "duration": 17,
    "start_time": "2022-01-21T19:40:50.617Z"
   },
   {
    "duration": 31,
    "start_time": "2022-01-21T19:41:37.595Z"
   },
   {
    "duration": 206,
    "start_time": "2022-01-21T19:42:07.656Z"
   },
   {
    "duration": 30,
    "start_time": "2022-01-21T19:42:51.466Z"
   },
   {
    "duration": 27,
    "start_time": "2022-01-21T19:47:40.510Z"
   },
   {
    "duration": 172,
    "start_time": "2022-01-21T19:50:53.150Z"
   },
   {
    "duration": 32,
    "start_time": "2022-01-21T19:51:06.911Z"
   },
   {
    "duration": 3,
    "start_time": "2022-01-21T19:59:25.647Z"
   },
   {
    "duration": 4,
    "start_time": "2022-01-21T20:00:46.088Z"
   },
   {
    "duration": 8,
    "start_time": "2022-01-21T20:02:28.878Z"
   },
   {
    "duration": 10,
    "start_time": "2022-01-21T20:14:01.770Z"
   },
   {
    "duration": 15,
    "start_time": "2022-01-21T20:14:18.375Z"
   },
   {
    "duration": 33,
    "start_time": "2022-01-21T20:23:40.794Z"
   },
   {
    "duration": 22,
    "start_time": "2022-01-21T20:24:09.203Z"
   },
   {
    "duration": 260,
    "start_time": "2022-01-21T20:24:55.561Z"
   },
   {
    "duration": 17,
    "start_time": "2022-01-21T20:25:14.245Z"
   },
   {
    "duration": 9,
    "start_time": "2022-01-21T20:28:05.566Z"
   },
   {
    "duration": 28,
    "start_time": "2022-01-21T20:29:30.028Z"
   },
   {
    "duration": 215,
    "start_time": "2022-01-21T20:33:49.116Z"
   },
   {
    "duration": 15,
    "start_time": "2022-01-21T20:34:00.593Z"
   },
   {
    "duration": 19,
    "start_time": "2022-01-21T20:34:21.268Z"
   },
   {
    "duration": 22,
    "start_time": "2022-01-21T20:35:28.753Z"
   },
   {
    "duration": 9,
    "start_time": "2022-01-21T20:35:37.605Z"
   },
   {
    "duration": 13,
    "start_time": "2022-01-21T20:36:11.658Z"
   },
   {
    "duration": 18,
    "start_time": "2022-01-21T20:37:43.001Z"
   },
   {
    "duration": 24,
    "start_time": "2022-01-21T20:40:34.211Z"
   },
   {
    "duration": 12,
    "start_time": "2022-01-21T20:40:40.854Z"
   },
   {
    "duration": 11,
    "start_time": "2022-01-21T20:40:45.978Z"
   },
   {
    "duration": 9,
    "start_time": "2022-01-21T20:41:28.404Z"
   },
   {
    "duration": 19,
    "start_time": "2022-01-21T20:41:35.004Z"
   },
   {
    "duration": 21,
    "start_time": "2022-01-21T20:44:01.962Z"
   },
   {
    "duration": 24,
    "start_time": "2022-01-21T20:44:14.465Z"
   },
   {
    "duration": 3859,
    "start_time": "2022-01-21T20:50:32.706Z"
   },
   {
    "duration": 17,
    "start_time": "2022-01-21T20:52:39.148Z"
   },
   {
    "duration": 21,
    "start_time": "2022-01-21T20:53:22.635Z"
   },
   {
    "duration": 22,
    "start_time": "2022-01-21T20:53:50.318Z"
   },
   {
    "duration": 17,
    "start_time": "2022-01-21T20:54:27.300Z"
   },
   {
    "duration": 25,
    "start_time": "2022-01-21T20:54:45.824Z"
   },
   {
    "duration": 21,
    "start_time": "2022-01-21T20:54:56.595Z"
   },
   {
    "duration": 18,
    "start_time": "2022-01-21T20:56:05.421Z"
   },
   {
    "duration": 369,
    "start_time": "2022-01-21T20:56:47.670Z"
   },
   {
    "duration": 21,
    "start_time": "2022-01-21T20:56:56.447Z"
   },
   {
    "duration": 629,
    "start_time": "2022-01-23T10:35:00.567Z"
   },
   {
    "duration": 12,
    "start_time": "2022-01-23T10:35:09.507Z"
   },
   {
    "duration": 33,
    "start_time": "2022-01-23T10:35:13.482Z"
   },
   {
    "duration": 12,
    "start_time": "2022-01-23T10:35:32.357Z"
   },
   {
    "duration": 28,
    "start_time": "2022-01-23T10:35:57.198Z"
   },
   {
    "duration": 5,
    "start_time": "2022-01-23T10:36:03.912Z"
   },
   {
    "duration": 10,
    "start_time": "2022-01-23T10:36:05.750Z"
   },
   {
    "duration": 8,
    "start_time": "2022-01-23T10:36:08.180Z"
   },
   {
    "duration": 13,
    "start_time": "2022-01-23T10:36:11.639Z"
   },
   {
    "duration": 76,
    "start_time": "2022-01-23T10:36:53.606Z"
   },
   {
    "duration": 12,
    "start_time": "2022-01-23T10:36:59.234Z"
   },
   {
    "duration": 5,
    "start_time": "2022-01-23T10:37:10.604Z"
   },
   {
    "duration": 9,
    "start_time": "2022-01-23T10:37:12.987Z"
   },
   {
    "duration": 6,
    "start_time": "2022-01-23T10:37:16.744Z"
   },
   {
    "duration": 45,
    "start_time": "2022-01-23T10:37:23.042Z"
   },
   {
    "duration": 5,
    "start_time": "2022-01-23T10:37:45.617Z"
   },
   {
    "duration": 13,
    "start_time": "2022-01-23T10:37:51.989Z"
   },
   {
    "duration": 31,
    "start_time": "2022-01-23T10:37:59.875Z"
   },
   {
    "duration": 6,
    "start_time": "2022-01-23T10:38:35.327Z"
   },
   {
    "duration": 22,
    "start_time": "2022-01-23T10:38:39.833Z"
   },
   {
    "duration": 10,
    "start_time": "2022-01-23T10:38:42.791Z"
   },
   {
    "duration": 17,
    "start_time": "2022-01-23T10:38:48.570Z"
   },
   {
    "duration": 20,
    "start_time": "2022-01-23T10:38:51.084Z"
   },
   {
    "duration": 17,
    "start_time": "2022-01-23T10:38:54.508Z"
   },
   {
    "duration": 6,
    "start_time": "2022-01-23T10:39:05.590Z"
   },
   {
    "duration": 758,
    "start_time": "2022-01-23T10:39:29.358Z"
   },
   {
    "duration": 3368,
    "start_time": "2022-01-23T10:40:53.801Z"
   },
   {
    "duration": 8,
    "start_time": "2022-01-23T10:41:29.654Z"
   },
   {
    "duration": 8,
    "start_time": "2022-01-23T10:41:34.924Z"
   },
   {
    "duration": 8,
    "start_time": "2022-01-23T10:41:40.964Z"
   },
   {
    "duration": 65,
    "start_time": "2022-01-23T10:43:09.395Z"
   },
   {
    "duration": 29,
    "start_time": "2022-01-23T10:44:03.098Z"
   },
   {
    "duration": 637,
    "start_time": "2022-01-23T10:45:37.875Z"
   },
   {
    "duration": 12,
    "start_time": "2022-01-23T10:48:11.208Z"
   },
   {
    "duration": 4,
    "start_time": "2022-01-23T10:49:03.963Z"
   },
   {
    "duration": 3,
    "start_time": "2022-01-23T10:49:06.832Z"
   },
   {
    "duration": 4,
    "start_time": "2022-01-23T10:49:11.657Z"
   },
   {
    "duration": 10,
    "start_time": "2022-01-23T10:49:15.267Z"
   },
   {
    "duration": 4,
    "start_time": "2022-01-23T10:49:23.856Z"
   },
   {
    "duration": 4,
    "start_time": "2022-01-23T10:49:26.848Z"
   },
   {
    "duration": 7,
    "start_time": "2022-01-23T10:49:58.802Z"
   },
   {
    "duration": 7,
    "start_time": "2022-01-23T10:50:03.622Z"
   },
   {
    "duration": 7,
    "start_time": "2022-01-23T10:52:46.801Z"
   },
   {
    "duration": 22,
    "start_time": "2022-01-23T10:52:56.247Z"
   },
   {
    "duration": 10,
    "start_time": "2022-01-23T10:52:59.046Z"
   },
   {
    "duration": 18,
    "start_time": "2022-01-23T10:53:19.935Z"
   },
   {
    "duration": 827,
    "start_time": "2022-01-24T13:10:34.525Z"
   },
   {
    "duration": 14,
    "start_time": "2022-01-24T13:10:40.285Z"
   },
   {
    "duration": 48,
    "start_time": "2022-01-24T13:10:44.700Z"
   },
   {
    "duration": 18,
    "start_time": "2022-01-24T13:13:48.851Z"
   },
   {
    "duration": 32,
    "start_time": "2022-01-24T13:14:28.365Z"
   },
   {
    "duration": 5,
    "start_time": "2022-01-24T13:14:51.744Z"
   },
   {
    "duration": 33,
    "start_time": "2022-01-24T13:14:58.201Z"
   },
   {
    "duration": 12,
    "start_time": "2022-01-24T13:15:10.347Z"
   },
   {
    "duration": 8,
    "start_time": "2022-01-24T13:15:16.208Z"
   },
   {
    "duration": 19,
    "start_time": "2022-01-24T13:15:34.504Z"
   },
   {
    "duration": 111,
    "start_time": "2022-01-24T13:16:12.501Z"
   },
   {
    "duration": 15,
    "start_time": "2022-01-24T13:16:20.289Z"
   },
   {
    "duration": 6,
    "start_time": "2022-01-24T13:16:32.933Z"
   },
   {
    "duration": 13,
    "start_time": "2022-01-24T13:16:48.460Z"
   },
   {
    "duration": 6,
    "start_time": "2022-01-24T13:16:50.870Z"
   },
   {
    "duration": 66,
    "start_time": "2022-01-24T13:16:59.529Z"
   },
   {
    "duration": 46,
    "start_time": "2022-01-24T13:17:08.944Z"
   },
   {
    "duration": 16,
    "start_time": "2022-01-24T13:19:34.572Z"
   },
   {
    "duration": 6,
    "start_time": "2022-01-24T13:19:43.614Z"
   },
   {
    "duration": 17,
    "start_time": "2022-01-24T13:21:03.591Z"
   },
   {
    "duration": 8,
    "start_time": "2022-01-24T13:21:26.427Z"
   },
   {
    "duration": 29,
    "start_time": "2022-01-24T13:22:16.159Z"
   },
   {
    "duration": 14,
    "start_time": "2022-01-24T13:22:18.576Z"
   },
   {
    "duration": 24,
    "start_time": "2022-01-24T13:22:27.233Z"
   },
   {
    "duration": 26,
    "start_time": "2022-01-24T13:22:29.295Z"
   },
   {
    "duration": 23,
    "start_time": "2022-01-24T13:22:31.182Z"
   },
   {
    "duration": 7,
    "start_time": "2022-01-24T13:23:35.711Z"
   },
   {
    "duration": 4798,
    "start_time": "2022-01-24T13:25:37.172Z"
   },
   {
    "duration": 22,
    "start_time": "2022-01-24T13:27:04.574Z"
   },
   {
    "duration": 5102,
    "start_time": "2022-01-24T13:27:27.504Z"
   },
   {
    "duration": 12,
    "start_time": "2022-01-24T13:29:20.632Z"
   },
   {
    "duration": 13,
    "start_time": "2022-01-24T13:29:25.851Z"
   },
   {
    "duration": 12,
    "start_time": "2022-01-24T13:29:35.794Z"
   },
   {
    "duration": 39,
    "start_time": "2022-01-24T13:35:37.897Z"
   },
   {
    "duration": 30,
    "start_time": "2022-01-24T13:41:09.471Z"
   },
   {
    "duration": 32,
    "start_time": "2022-01-24T13:41:59.817Z"
   },
   {
    "duration": 35,
    "start_time": "2022-01-24T14:04:29.014Z"
   },
   {
    "duration": 30,
    "start_time": "2022-01-24T14:04:39.608Z"
   },
   {
    "duration": 29,
    "start_time": "2022-01-24T14:14:35.485Z"
   },
   {
    "duration": 32,
    "start_time": "2022-01-24T14:14:53.028Z"
   },
   {
    "duration": 13,
    "start_time": "2022-01-24T14:27:59.339Z"
   },
   {
    "duration": 30,
    "start_time": "2022-01-24T14:28:11.888Z"
   },
   {
    "duration": 13,
    "start_time": "2022-01-24T14:30:04.049Z"
   },
   {
    "duration": 30,
    "start_time": "2022-01-24T14:30:43.767Z"
   },
   {
    "duration": 32,
    "start_time": "2022-01-24T14:31:49.294Z"
   },
   {
    "duration": 34,
    "start_time": "2022-01-24T14:31:57.055Z"
   },
   {
    "duration": 1137,
    "start_time": "2022-01-24T14:52:41.916Z"
   },
   {
    "duration": 19,
    "start_time": "2022-01-24T14:52:45.194Z"
   },
   {
    "duration": 54,
    "start_time": "2022-01-24T14:52:46.801Z"
   },
   {
    "duration": 16,
    "start_time": "2022-01-24T14:53:45.803Z"
   },
   {
    "duration": 34,
    "start_time": "2022-01-24T14:53:55.736Z"
   },
   {
    "duration": 7,
    "start_time": "2022-01-24T14:54:03.084Z"
   },
   {
    "duration": 13,
    "start_time": "2022-01-24T14:54:05.677Z"
   },
   {
    "duration": 10,
    "start_time": "2022-01-24T14:54:12.643Z"
   },
   {
    "duration": 25,
    "start_time": "2022-01-24T14:54:20.505Z"
   },
   {
    "duration": 114,
    "start_time": "2022-01-24T14:54:49.076Z"
   },
   {
    "duration": 7,
    "start_time": "2022-01-24T14:54:52.453Z"
   },
   {
    "duration": 12,
    "start_time": "2022-01-24T14:54:54.078Z"
   },
   {
    "duration": 6,
    "start_time": "2022-01-24T14:54:55.870Z"
   },
   {
    "duration": 64,
    "start_time": "2022-01-24T14:54:57.611Z"
   },
   {
    "duration": 17,
    "start_time": "2022-01-24T14:55:03.156Z"
   },
   {
    "duration": 7,
    "start_time": "2022-01-24T14:55:27.172Z"
   },
   {
    "duration": 10,
    "start_time": "2022-01-24T14:55:31.087Z"
   },
   {
    "duration": 33,
    "start_time": "2022-01-24T14:55:32.457Z"
   },
   {
    "duration": 15,
    "start_time": "2022-01-24T14:55:34.518Z"
   },
   {
    "duration": 23,
    "start_time": "2022-01-24T14:55:36.486Z"
   },
   {
    "duration": 28,
    "start_time": "2022-01-24T14:55:37.745Z"
   },
   {
    "duration": 23,
    "start_time": "2022-01-24T14:55:39.240Z"
   },
   {
    "duration": 8,
    "start_time": "2022-01-24T14:55:45.708Z"
   },
   {
    "duration": 5326,
    "start_time": "2022-01-24T14:55:48.254Z"
   },
   {
    "duration": 13,
    "start_time": "2022-01-24T14:56:07.003Z"
   },
   {
    "duration": 13,
    "start_time": "2022-01-24T14:56:22.382Z"
   },
   {
    "duration": 14,
    "start_time": "2022-01-24T14:56:39.957Z"
   },
   {
    "duration": 38,
    "start_time": "2022-01-24T14:56:48.110Z"
   },
   {
    "duration": 30,
    "start_time": "2022-01-24T14:57:11.017Z"
   },
   {
    "duration": 31,
    "start_time": "2022-01-24T14:57:34.030Z"
   },
   {
    "duration": 32,
    "start_time": "2022-01-24T14:58:00.377Z"
   },
   {
    "duration": 1151,
    "start_time": "2022-01-31T17:54:52.461Z"
   },
   {
    "duration": 27,
    "start_time": "2022-01-31T17:54:53.615Z"
   },
   {
    "duration": 101,
    "start_time": "2022-01-31T17:54:53.649Z"
   },
   {
    "duration": 28,
    "start_time": "2022-01-31T17:54:53.754Z"
   },
   {
    "duration": 49,
    "start_time": "2022-01-31T17:54:53.786Z"
   },
   {
    "duration": 7,
    "start_time": "2022-01-31T17:54:53.839Z"
   },
   {
    "duration": 27,
    "start_time": "2022-01-31T17:54:53.849Z"
   },
   {
    "duration": 23,
    "start_time": "2022-01-31T17:54:53.879Z"
   },
   {
    "duration": 45,
    "start_time": "2022-01-31T17:54:53.909Z"
   },
   {
    "duration": 174,
    "start_time": "2022-01-31T17:54:53.960Z"
   },
   {
    "duration": 7,
    "start_time": "2022-01-31T17:54:54.137Z"
   },
   {
    "duration": 51,
    "start_time": "2022-01-31T17:54:54.146Z"
   },
   {
    "duration": 100,
    "start_time": "2022-01-31T17:54:54.200Z"
   },
   {
    "duration": 6,
    "start_time": "2022-01-31T17:54:54.304Z"
   },
   {
    "duration": 17,
    "start_time": "2022-01-31T17:54:54.314Z"
   },
   {
    "duration": 100,
    "start_time": "2022-01-31T17:54:54.336Z"
   },
   {
    "duration": 44,
    "start_time": "2022-01-31T17:54:54.440Z"
   },
   {
    "duration": 48,
    "start_time": "2022-01-31T17:54:54.489Z"
   },
   {
    "duration": 21,
    "start_time": "2022-01-31T17:54:54.540Z"
   },
   {
    "duration": 6825,
    "start_time": "2022-01-31T17:54:54.564Z"
   },
   {
    "duration": 17,
    "start_time": "2022-01-31T17:55:01.393Z"
   },
   {
    "duration": 36,
    "start_time": "2022-01-31T17:55:01.413Z"
   },
   {
    "duration": 56,
    "start_time": "2022-01-31T17:55:01.452Z"
   },
   {
    "duration": 71,
    "start_time": "2022-01-31T17:55:01.511Z"
   },
   {
    "duration": 34,
    "start_time": "2022-01-31T17:55:01.585Z"
   },
   {
    "duration": 48,
    "start_time": "2022-01-31T17:55:01.621Z"
   },
   {
    "duration": 102,
    "start_time": "2022-01-31T17:55:01.674Z"
   },
   {
    "duration": 145,
    "start_time": "2022-01-31T18:03:29.695Z"
   },
   {
    "duration": 126,
    "start_time": "2022-01-31T18:03:29.873Z"
   },
   {
    "duration": 133,
    "start_time": "2022-01-31T18:03:30.065Z"
   },
   {
    "duration": 8,
    "start_time": "2022-01-31T18:16:38.610Z"
   },
   {
    "duration": 17,
    "start_time": "2022-01-31T18:16:47.155Z"
   },
   {
    "duration": 5,
    "start_time": "2022-01-31T18:16:59.088Z"
   },
   {
    "duration": 5,
    "start_time": "2022-01-31T18:18:19.769Z"
   },
   {
    "duration": 1070,
    "start_time": "2022-01-31T18:24:54.373Z"
   },
   {
    "duration": 25,
    "start_time": "2022-01-31T18:24:55.447Z"
   },
   {
    "duration": 97,
    "start_time": "2022-01-31T18:24:55.479Z"
   },
   {
    "duration": 17,
    "start_time": "2022-01-31T18:24:55.579Z"
   },
   {
    "duration": 59,
    "start_time": "2022-01-31T18:24:55.599Z"
   },
   {
    "duration": 6,
    "start_time": "2022-01-31T18:24:55.662Z"
   },
   {
    "duration": 24,
    "start_time": "2022-01-31T18:24:55.674Z"
   },
   {
    "duration": 8,
    "start_time": "2022-01-31T18:24:55.701Z"
   },
   {
    "duration": 60,
    "start_time": "2022-01-31T18:24:55.726Z"
   },
   {
    "duration": 151,
    "start_time": "2022-01-31T18:24:55.790Z"
   },
   {
    "duration": 7,
    "start_time": "2022-01-31T18:24:55.944Z"
   },
   {
    "duration": 34,
    "start_time": "2022-01-31T18:24:55.953Z"
   },
   {
    "duration": 101,
    "start_time": "2022-01-31T18:24:55.989Z"
   },
   {
    "duration": 7,
    "start_time": "2022-01-31T18:24:56.094Z"
   },
   {
    "duration": 29,
    "start_time": "2022-01-31T18:24:56.104Z"
   },
   {
    "duration": 53,
    "start_time": "2022-01-31T18:24:56.140Z"
   },
   {
    "duration": 31,
    "start_time": "2022-01-31T18:24:56.196Z"
   },
   {
    "duration": 53,
    "start_time": "2022-01-31T18:24:56.231Z"
   },
   {
    "duration": 12,
    "start_time": "2022-01-31T18:24:56.288Z"
   },
   {
    "duration": 6577,
    "start_time": "2022-01-31T18:24:56.302Z"
   },
   {
    "duration": 14,
    "start_time": "2022-01-31T18:25:02.882Z"
   },
   {
    "duration": 17,
    "start_time": "2022-01-31T18:25:02.898Z"
   },
   {
    "duration": 36,
    "start_time": "2022-01-31T18:25:02.934Z"
   },
   {
    "duration": 50,
    "start_time": "2022-01-31T18:25:02.972Z"
   },
   {
    "duration": 44,
    "start_time": "2022-01-31T18:25:03.033Z"
   },
   {
    "duration": 46,
    "start_time": "2022-01-31T18:25:03.080Z"
   },
   {
    "duration": 51,
    "start_time": "2022-01-31T18:25:03.131Z"
   },
   {
    "duration": 974,
    "start_time": "2022-01-31T20:07:34.290Z"
   },
   {
    "duration": 18,
    "start_time": "2022-01-31T20:07:35.267Z"
   },
   {
    "duration": 74,
    "start_time": "2022-01-31T20:07:35.289Z"
   },
   {
    "duration": 18,
    "start_time": "2022-01-31T20:07:35.367Z"
   },
   {
    "duration": 74,
    "start_time": "2022-01-31T20:07:35.387Z"
   },
   {
    "duration": 6,
    "start_time": "2022-01-31T20:07:35.464Z"
   },
   {
    "duration": 20,
    "start_time": "2022-01-31T20:07:35.473Z"
   },
   {
    "duration": 37,
    "start_time": "2022-01-31T20:07:35.497Z"
   },
   {
    "duration": 18,
    "start_time": "2022-01-31T20:07:35.538Z"
   },
   {
    "duration": 147,
    "start_time": "2022-01-31T20:07:35.559Z"
   },
   {
    "duration": 8,
    "start_time": "2022-01-31T20:07:35.709Z"
   },
   {
    "duration": 21,
    "start_time": "2022-01-31T20:07:35.721Z"
   },
   {
    "duration": 89,
    "start_time": "2022-01-31T20:07:35.745Z"
   },
   {
    "duration": 6,
    "start_time": "2022-01-31T20:07:35.837Z"
   },
   {
    "duration": 9,
    "start_time": "2022-01-31T20:07:35.846Z"
   },
   {
    "duration": 76,
    "start_time": "2022-01-31T20:07:35.858Z"
   },
   {
    "duration": 31,
    "start_time": "2022-01-31T20:07:35.938Z"
   },
   {
    "duration": 28,
    "start_time": "2022-01-31T20:07:35.972Z"
   },
   {
    "duration": 32,
    "start_time": "2022-01-31T20:07:36.003Z"
   },
   {
    "duration": 5275,
    "start_time": "2022-01-31T20:07:36.038Z"
   },
   {
    "duration": 25,
    "start_time": "2022-01-31T20:07:41.315Z"
   },
   {
    "duration": 11,
    "start_time": "2022-01-31T20:07:41.342Z"
   },
   {
    "duration": 14,
    "start_time": "2022-01-31T20:07:41.358Z"
   },
   {
    "duration": 66,
    "start_time": "2022-01-31T20:07:41.375Z"
   },
   {
    "duration": 30,
    "start_time": "2022-01-31T20:07:41.443Z"
   },
   {
    "duration": 29,
    "start_time": "2022-01-31T20:07:41.483Z"
   },
   {
    "duration": 32,
    "start_time": "2022-01-31T20:07:41.533Z"
   },
   {
    "duration": 619,
    "start_time": "2022-07-04T14:43:30.237Z"
   },
   {
    "duration": 14,
    "start_time": "2022-07-04T14:43:31.348Z"
   },
   {
    "duration": 28,
    "start_time": "2022-07-04T14:43:31.892Z"
   },
   {
    "duration": 11,
    "start_time": "2022-07-04T14:43:35.480Z"
   },
   {
    "duration": 20,
    "start_time": "2022-07-04T14:43:36.208Z"
   },
   {
    "duration": 4,
    "start_time": "2022-07-04T14:43:38.938Z"
   },
   {
    "duration": 10,
    "start_time": "2022-07-04T14:43:38.943Z"
   },
   {
    "duration": 5,
    "start_time": "2022-07-04T14:43:38.954Z"
   },
   {
    "duration": 11,
    "start_time": "2022-07-04T14:43:39.691Z"
   },
   {
    "duration": 63,
    "start_time": "2022-07-04T14:43:40.835Z"
   },
   {
    "duration": 4,
    "start_time": "2022-07-04T14:43:41.992Z"
   },
   {
    "duration": 5,
    "start_time": "2022-07-04T14:43:42.434Z"
   },
   {
    "duration": 31,
    "start_time": "2022-07-04T14:43:43.212Z"
   },
   {
    "duration": 4,
    "start_time": "2022-07-04T14:43:45.204Z"
   },
   {
    "duration": 6,
    "start_time": "2022-07-04T14:43:47.652Z"
   },
   {
    "duration": 19,
    "start_time": "2022-07-04T14:43:48.603Z"
   },
   {
    "duration": 19,
    "start_time": "2022-07-04T14:43:49.336Z"
   },
   {
    "duration": 20,
    "start_time": "2022-07-04T14:43:50.176Z"
   },
   {
    "duration": 5,
    "start_time": "2022-07-04T14:43:52.955Z"
   },
   {
    "duration": 3084,
    "start_time": "2022-07-04T14:43:54.368Z"
   },
   {
    "duration": 7,
    "start_time": "2022-07-04T14:44:01.288Z"
   },
   {
    "duration": 9,
    "start_time": "2022-07-04T14:44:02.736Z"
   },
   {
    "duration": 9,
    "start_time": "2022-07-04T14:44:04.436Z"
   },
   {
    "duration": 24,
    "start_time": "2022-07-04T14:45:07.169Z"
   },
   {
    "duration": 19,
    "start_time": "2022-07-04T14:47:42.500Z"
   },
   {
    "duration": 71,
    "start_time": "2022-07-04T16:26:11.927Z"
   },
   {
    "duration": 354,
    "start_time": "2022-07-04T16:26:32.275Z"
   },
   {
    "duration": 69,
    "start_time": "2022-07-04T16:26:36.075Z"
   },
   {
    "duration": 14,
    "start_time": "2022-07-04T16:26:37.799Z"
   },
   {
    "duration": 29,
    "start_time": "2022-07-04T16:26:38.487Z"
   },
   {
    "duration": 10,
    "start_time": "2022-07-04T16:26:49.715Z"
   },
   {
    "duration": 19,
    "start_time": "2022-07-04T16:27:04.003Z"
   },
   {
    "duration": 3,
    "start_time": "2022-07-04T16:27:08.399Z"
   },
   {
    "duration": 8,
    "start_time": "2022-07-04T16:27:10.431Z"
   },
   {
    "duration": 6,
    "start_time": "2022-07-04T16:27:12.959Z"
   },
   {
    "duration": 9,
    "start_time": "2022-07-04T16:27:16.935Z"
   },
   {
    "duration": 58,
    "start_time": "2022-07-04T16:27:22.571Z"
   },
   {
    "duration": 4,
    "start_time": "2022-07-04T16:27:26.663Z"
   },
   {
    "duration": 5,
    "start_time": "2022-07-04T16:27:28.035Z"
   },
   {
    "duration": 31,
    "start_time": "2022-07-04T16:27:30.047Z"
   },
   {
    "duration": 5,
    "start_time": "2022-07-04T16:27:37.787Z"
   },
   {
    "duration": 6,
    "start_time": "2022-07-04T16:27:43.156Z"
   },
   {
    "duration": 19,
    "start_time": "2022-07-04T16:27:45.599Z"
   },
   {
    "duration": 22,
    "start_time": "2022-07-04T16:27:47.351Z"
   },
   {
    "duration": 21,
    "start_time": "2022-07-04T16:27:48.655Z"
   },
   {
    "duration": 5,
    "start_time": "2022-07-04T16:27:55.507Z"
   },
   {
    "duration": 3172,
    "start_time": "2022-07-04T16:27:59.743Z"
   },
   {
    "duration": 7,
    "start_time": "2022-07-04T16:28:17.332Z"
   },
   {
    "duration": 9,
    "start_time": "2022-07-04T16:28:19.779Z"
   },
   {
    "duration": 8,
    "start_time": "2022-07-04T16:29:08.623Z"
   },
   {
    "duration": 35,
    "start_time": "2022-07-04T16:29:16.271Z"
   },
   {
    "duration": 20,
    "start_time": "2022-07-04T16:29:28.247Z"
   },
   {
    "duration": 18,
    "start_time": "2022-07-04T16:29:33.278Z"
   },
   {
    "duration": 19,
    "start_time": "2022-07-04T16:29:48.907Z"
   }
  ],
  "kernelspec": {
   "display_name": "Python 3 (ipykernel)",
   "language": "python",
   "name": "python3"
  },
  "language_info": {
   "codemirror_mode": {
    "name": "ipython",
    "version": 3
   },
   "file_extension": ".py",
   "mimetype": "text/x-python",
   "name": "python",
   "nbconvert_exporter": "python",
   "pygments_lexer": "ipython3",
   "version": "3.9.7"
  },
  "toc": {
   "base_numbering": 1,
   "nav_menu": {},
   "number_sections": true,
   "sideBar": true,
   "skip_h1_title": true,
   "title_cell": "Table of Contents",
   "title_sidebar": "Contents",
   "toc_cell": false,
   "toc_position": {},
   "toc_section_display": true,
   "toc_window_display": true
  }
 },
 "nbformat": 4,
 "nbformat_minor": 2
}
