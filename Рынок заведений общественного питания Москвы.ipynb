{
 "cells": [
  {
   "cell_type": "markdown",
   "metadata": {},
   "source": [
    "# Рынок заведений общественного питания Москвы\n",
    "\n",
    "Мы решили открыть небольшое кафе в Москве. Оно оригинальное — гостей должны обслуживать роботы. Проект многообещающий, но дорогой. Вместе с партнёрами мы решились обратиться к инвесторам. Их интересует текущее положение дел на рынке — сможете ли вы снискать популярность на долгое время, когда все зеваки насмотрятся на роботов-официантов?\n",
    "\n",
    "Вы — гуру аналитики, и партнёры просят вас подготовить исследование рынка. У вас есть открытые данные о заведениях общественного питания в Москве."
   ]
  },
  {
   "cell_type": "markdown",
   "metadata": {},
   "source": [
    "## Изучение и предобработка данных"
   ]
  },
  {
   "cell_type": "code",
   "execution_count": 1,
   "metadata": {},
   "outputs": [],
   "source": [
    "import pandas as pd\n",
    "import requests\n",
    "from io import BytesIO\n",
    "import matplotlib.pyplot as plt\n",
    "import seaborn as sns"
   ]
  },
  {
   "cell_type": "code",
   "execution_count": 2,
   "metadata": {},
   "outputs": [
    {
     "data": {
      "text/html": [
       "<div>\n",
       "<style scoped>\n",
       "    .dataframe tbody tr th:only-of-type {\n",
       "        vertical-align: middle;\n",
       "    }\n",
       "\n",
       "    .dataframe tbody tr th {\n",
       "        vertical-align: top;\n",
       "    }\n",
       "\n",
       "    .dataframe thead th {\n",
       "        text-align: right;\n",
       "    }\n",
       "</style>\n",
       "<table border=\"1\" class=\"dataframe\">\n",
       "  <thead>\n",
       "    <tr style=\"text-align: right;\">\n",
       "      <th></th>\n",
       "      <th>id</th>\n",
       "      <th>object_name</th>\n",
       "      <th>chain</th>\n",
       "      <th>object_type</th>\n",
       "      <th>address</th>\n",
       "      <th>number</th>\n",
       "    </tr>\n",
       "  </thead>\n",
       "  <tbody>\n",
       "    <tr>\n",
       "      <th>0</th>\n",
       "      <td>151635</td>\n",
       "      <td>СМЕТАНА</td>\n",
       "      <td>нет</td>\n",
       "      <td>кафе</td>\n",
       "      <td>город Москва, улица Егора Абакумова, дом 9</td>\n",
       "      <td>48</td>\n",
       "    </tr>\n",
       "    <tr>\n",
       "      <th>1</th>\n",
       "      <td>77874</td>\n",
       "      <td>Родник</td>\n",
       "      <td>нет</td>\n",
       "      <td>кафе</td>\n",
       "      <td>город Москва, улица Талалихина, дом 2/1, корпус 1</td>\n",
       "      <td>35</td>\n",
       "    </tr>\n",
       "    <tr>\n",
       "      <th>2</th>\n",
       "      <td>24309</td>\n",
       "      <td>Кафе «Академия»</td>\n",
       "      <td>нет</td>\n",
       "      <td>кафе</td>\n",
       "      <td>город Москва, Абельмановская улица, дом 6</td>\n",
       "      <td>95</td>\n",
       "    </tr>\n",
       "    <tr>\n",
       "      <th>3</th>\n",
       "      <td>21894</td>\n",
       "      <td>ПИЦЦЕТОРИЯ</td>\n",
       "      <td>да</td>\n",
       "      <td>кафе</td>\n",
       "      <td>город Москва, Абрамцевская улица, дом 1</td>\n",
       "      <td>40</td>\n",
       "    </tr>\n",
       "    <tr>\n",
       "      <th>4</th>\n",
       "      <td>119365</td>\n",
       "      <td>Кафе «Вишневая метель»</td>\n",
       "      <td>нет</td>\n",
       "      <td>кафе</td>\n",
       "      <td>город Москва, Абрамцевская улица, дом 9, корпус 1</td>\n",
       "      <td>50</td>\n",
       "    </tr>\n",
       "    <tr>\n",
       "      <th>5</th>\n",
       "      <td>27429</td>\n",
       "      <td>СТОЛ. ПРИ ГОУ СОШ № 1051</td>\n",
       "      <td>нет</td>\n",
       "      <td>столовая</td>\n",
       "      <td>город Москва, Абрамцевская улица, дом 15, корп...</td>\n",
       "      <td>240</td>\n",
       "    </tr>\n",
       "    <tr>\n",
       "      <th>6</th>\n",
       "      <td>148815</td>\n",
       "      <td>Брусника</td>\n",
       "      <td>да</td>\n",
       "      <td>кафе</td>\n",
       "      <td>город Москва, переулок Сивцев Вражек, дом 6/2</td>\n",
       "      <td>10</td>\n",
       "    </tr>\n",
       "    <tr>\n",
       "      <th>7</th>\n",
       "      <td>20957</td>\n",
       "      <td>Буфет МТУСИ</td>\n",
       "      <td>нет</td>\n",
       "      <td>столовая</td>\n",
       "      <td>город Москва, Авиамоторная улица, дом 8, строе...</td>\n",
       "      <td>90</td>\n",
       "    </tr>\n",
       "    <tr>\n",
       "      <th>8</th>\n",
       "      <td>20958</td>\n",
       "      <td>КПФ СЕМЬЯ-1</td>\n",
       "      <td>нет</td>\n",
       "      <td>столовая</td>\n",
       "      <td>город Москва, Авиамоторная улица, дом 8, строе...</td>\n",
       "      <td>150</td>\n",
       "    </tr>\n",
       "    <tr>\n",
       "      <th>9</th>\n",
       "      <td>28858</td>\n",
       "      <td>Столовая МТУСИ</td>\n",
       "      <td>нет</td>\n",
       "      <td>столовая</td>\n",
       "      <td>город Москва, Авиамоторная улица, дом 8, строе...</td>\n",
       "      <td>120</td>\n",
       "    </tr>\n",
       "    <tr>\n",
       "      <th>10</th>\n",
       "      <td>148595</td>\n",
       "      <td>Пекарня 24</td>\n",
       "      <td>нет</td>\n",
       "      <td>закусочная</td>\n",
       "      <td>город Москва, Авиамоторная улица, дом 47</td>\n",
       "      <td>5</td>\n",
       "    </tr>\n",
       "    <tr>\n",
       "      <th>11</th>\n",
       "      <td>23394</td>\n",
       "      <td>Гогиели</td>\n",
       "      <td>нет</td>\n",
       "      <td>кафе</td>\n",
       "      <td>город Москва, Авиамоторная улица, дом 49/1</td>\n",
       "      <td>24</td>\n",
       "    </tr>\n",
       "    <tr>\n",
       "      <th>12</th>\n",
       "      <td>28582</td>\n",
       "      <td>ШКОЛА 735</td>\n",
       "      <td>нет</td>\n",
       "      <td>столовая</td>\n",
       "      <td>город Москва, Авиамоторная улица, дом 51</td>\n",
       "      <td>140</td>\n",
       "    </tr>\n",
       "    <tr>\n",
       "      <th>13</th>\n",
       "      <td>22579</td>\n",
       "      <td>Алло Пицца</td>\n",
       "      <td>да</td>\n",
       "      <td>кафе</td>\n",
       "      <td>город Москва, улица Авиаторов, дом 14</td>\n",
       "      <td>32</td>\n",
       "    </tr>\n",
       "    <tr>\n",
       "      <th>14</th>\n",
       "      <td>23670</td>\n",
       "      <td>Гимназия 1542</td>\n",
       "      <td>нет</td>\n",
       "      <td>столовая</td>\n",
       "      <td>город Москва, улица Авиаторов, дом 16</td>\n",
       "      <td>270</td>\n",
       "    </tr>\n",
       "  </tbody>\n",
       "</table>\n",
       "</div>"
      ],
      "text/plain": [
       "        id               object_name chain object_type  \\\n",
       "0   151635                   СМЕТАНА   нет        кафе   \n",
       "1    77874                    Родник   нет        кафе   \n",
       "2    24309           Кафе «Академия»   нет        кафе   \n",
       "3    21894                ПИЦЦЕТОРИЯ    да        кафе   \n",
       "4   119365    Кафе «Вишневая метель»   нет        кафе   \n",
       "5    27429  СТОЛ. ПРИ ГОУ СОШ № 1051   нет    столовая   \n",
       "6   148815                  Брусника    да        кафе   \n",
       "7    20957               Буфет МТУСИ   нет    столовая   \n",
       "8    20958               КПФ СЕМЬЯ-1   нет    столовая   \n",
       "9    28858            Столовая МТУСИ   нет    столовая   \n",
       "10  148595                Пекарня 24   нет  закусочная   \n",
       "11   23394                   Гогиели   нет        кафе   \n",
       "12   28582                 ШКОЛА 735   нет    столовая   \n",
       "13   22579                Алло Пицца    да        кафе   \n",
       "14   23670             Гимназия 1542   нет    столовая   \n",
       "\n",
       "                                              address  number  \n",
       "0          город Москва, улица Егора Абакумова, дом 9      48  \n",
       "1   город Москва, улица Талалихина, дом 2/1, корпус 1      35  \n",
       "2           город Москва, Абельмановская улица, дом 6      95  \n",
       "3             город Москва, Абрамцевская улица, дом 1      40  \n",
       "4   город Москва, Абрамцевская улица, дом 9, корпус 1      50  \n",
       "5   город Москва, Абрамцевская улица, дом 15, корп...     240  \n",
       "6       город Москва, переулок Сивцев Вражек, дом 6/2      10  \n",
       "7   город Москва, Авиамоторная улица, дом 8, строе...      90  \n",
       "8   город Москва, Авиамоторная улица, дом 8, строе...     150  \n",
       "9   город Москва, Авиамоторная улица, дом 8, строе...     120  \n",
       "10           город Москва, Авиамоторная улица, дом 47       5  \n",
       "11         город Москва, Авиамоторная улица, дом 49/1      24  \n",
       "12           город Москва, Авиамоторная улица, дом 51     140  \n",
       "13              город Москва, улица Авиаторов, дом 14      32  \n",
       "14              город Москва, улица Авиаторов, дом 16     270  "
      ]
     },
     "execution_count": 2,
     "metadata": {},
     "output_type": "execute_result"
    }
   ],
   "source": [
    "df = pd.read_csv('/datasets/rest_data.csv')\n",
    "df.head(15)"
   ]
  },
  {
   "cell_type": "code",
   "execution_count": 3,
   "metadata": {},
   "outputs": [
    {
     "name": "stdout",
     "output_type": "stream",
     "text": [
      "<class 'pandas.core.frame.DataFrame'>\n",
      "RangeIndex: 15366 entries, 0 to 15365\n",
      "Data columns (total 6 columns):\n",
      " #   Column       Non-Null Count  Dtype \n",
      "---  ------       --------------  ----- \n",
      " 0   id           15366 non-null  int64 \n",
      " 1   object_name  15366 non-null  object\n",
      " 2   chain        15366 non-null  object\n",
      " 3   object_type  15366 non-null  object\n",
      " 4   address      15366 non-null  object\n",
      " 5   number       15366 non-null  int64 \n",
      "dtypes: int64(2), object(4)\n",
      "memory usage: 720.4+ KB\n"
     ]
    }
   ],
   "source": [
    "df.info()"
   ]
  },
  {
   "cell_type": "code",
   "execution_count": 4,
   "metadata": {},
   "outputs": [
    {
     "data": {
      "text/html": [
       "<div>\n",
       "<style scoped>\n",
       "    .dataframe tbody tr th:only-of-type {\n",
       "        vertical-align: middle;\n",
       "    }\n",
       "\n",
       "    .dataframe tbody tr th {\n",
       "        vertical-align: top;\n",
       "    }\n",
       "\n",
       "    .dataframe thead th {\n",
       "        text-align: right;\n",
       "    }\n",
       "</style>\n",
       "<table border=\"1\" class=\"dataframe\">\n",
       "  <thead>\n",
       "    <tr style=\"text-align: right;\">\n",
       "      <th></th>\n",
       "      <th>id</th>\n",
       "      <th>number</th>\n",
       "    </tr>\n",
       "  </thead>\n",
       "  <tbody>\n",
       "    <tr>\n",
       "      <th>count</th>\n",
       "      <td>15366.000000</td>\n",
       "      <td>15366.000000</td>\n",
       "    </tr>\n",
       "    <tr>\n",
       "      <th>mean</th>\n",
       "      <td>119720.066901</td>\n",
       "      <td>59.547182</td>\n",
       "    </tr>\n",
       "    <tr>\n",
       "      <th>std</th>\n",
       "      <td>73036.130732</td>\n",
       "      <td>74.736833</td>\n",
       "    </tr>\n",
       "    <tr>\n",
       "      <th>min</th>\n",
       "      <td>838.000000</td>\n",
       "      <td>0.000000</td>\n",
       "    </tr>\n",
       "    <tr>\n",
       "      <th>25%</th>\n",
       "      <td>28524.000000</td>\n",
       "      <td>12.000000</td>\n",
       "    </tr>\n",
       "    <tr>\n",
       "      <th>50%</th>\n",
       "      <td>144974.500000</td>\n",
       "      <td>40.000000</td>\n",
       "    </tr>\n",
       "    <tr>\n",
       "      <th>75%</th>\n",
       "      <td>184262.250000</td>\n",
       "      <td>80.000000</td>\n",
       "    </tr>\n",
       "    <tr>\n",
       "      <th>max</th>\n",
       "      <td>223439.000000</td>\n",
       "      <td>1700.000000</td>\n",
       "    </tr>\n",
       "  </tbody>\n",
       "</table>\n",
       "</div>"
      ],
      "text/plain": [
       "                  id        number\n",
       "count   15366.000000  15366.000000\n",
       "mean   119720.066901     59.547182\n",
       "std     73036.130732     74.736833\n",
       "min       838.000000      0.000000\n",
       "25%     28524.000000     12.000000\n",
       "50%    144974.500000     40.000000\n",
       "75%    184262.250000     80.000000\n",
       "max    223439.000000   1700.000000"
      ]
     },
     "execution_count": 4,
     "metadata": {},
     "output_type": "execute_result"
    }
   ],
   "source": [
    "df.describe()"
   ]
  },
  {
   "cell_type": "markdown",
   "metadata": {},
   "source": [
    "В датафрейме 6 столбцов:\n",
    "- `id` — идентификатор объекта;\n",
    "- `object_name` — название объекта общественного питания;\n",
    "- `chain` — сетевой ресторан;\n",
    "- `object_type` — тип объекта общественного питания;\n",
    "- `address` — адрес;\n",
    "- `number` — количество посадочных мест."
   ]
  },
  {
   "cell_type": "markdown",
   "metadata": {},
   "source": [
    "Пропусков, неверных типовы данных и других ошибок с первого взгляда не обнаружено, разве что количесвто посадочных мест в некоторых заведениях равно нулю, но это может быть и правдой."
   ]
  },
  {
   "cell_type": "code",
   "execution_count": 5,
   "metadata": {
    "scrolled": true
   },
   "outputs": [
    {
     "data": {
      "text/html": [
       "<div>\n",
       "<style scoped>\n",
       "    .dataframe tbody tr th:only-of-type {\n",
       "        vertical-align: middle;\n",
       "    }\n",
       "\n",
       "    .dataframe tbody tr th {\n",
       "        vertical-align: top;\n",
       "    }\n",
       "\n",
       "    .dataframe thead th {\n",
       "        text-align: right;\n",
       "    }\n",
       "</style>\n",
       "<table border=\"1\" class=\"dataframe\">\n",
       "  <thead>\n",
       "    <tr style=\"text-align: right;\">\n",
       "      <th></th>\n",
       "      <th>id</th>\n",
       "      <th>object_name</th>\n",
       "      <th>chain</th>\n",
       "      <th>object_type</th>\n",
       "      <th>address</th>\n",
       "      <th>number</th>\n",
       "    </tr>\n",
       "  </thead>\n",
       "  <tbody>\n",
       "    <tr>\n",
       "      <th>137</th>\n",
       "      <td>115498</td>\n",
       "      <td>Пекарня &amp; Донер</td>\n",
       "      <td>нет</td>\n",
       "      <td>закусочная</td>\n",
       "      <td>город Москва, Бутырская улица, дом 9, корпус 2</td>\n",
       "      <td>0</td>\n",
       "    </tr>\n",
       "    <tr>\n",
       "      <th>154</th>\n",
       "      <td>152556</td>\n",
       "      <td>Шаурма в пите</td>\n",
       "      <td>нет</td>\n",
       "      <td>предприятие быстрого обслуживания</td>\n",
       "      <td>город Москва, Варшавское шоссе, дом 72, корпус 2</td>\n",
       "      <td>0</td>\n",
       "    </tr>\n",
       "    <tr>\n",
       "      <th>157</th>\n",
       "      <td>149568</td>\n",
       "      <td>Суши</td>\n",
       "      <td>нет</td>\n",
       "      <td>предприятие быстрого обслуживания</td>\n",
       "      <td>город Москва, улица Маршала Василевского, дом ...</td>\n",
       "      <td>0</td>\n",
       "    </tr>\n",
       "    <tr>\n",
       "      <th>190</th>\n",
       "      <td>126956</td>\n",
       "      <td>Шаурма, куры-гриль</td>\n",
       "      <td>нет</td>\n",
       "      <td>предприятие быстрого обслуживания</td>\n",
       "      <td>город Москва, 1-я Владимирская улица, дом 21</td>\n",
       "      <td>0</td>\n",
       "    </tr>\n",
       "    <tr>\n",
       "      <th>195</th>\n",
       "      <td>149531</td>\n",
       "      <td>Шаурма, куры-гриль</td>\n",
       "      <td>нет</td>\n",
       "      <td>предприятие быстрого обслуживания</td>\n",
       "      <td>город Москва, 2-я Владимирская улица, дом 44/10</td>\n",
       "      <td>0</td>\n",
       "    </tr>\n",
       "    <tr>\n",
       "      <th>...</th>\n",
       "      <td>...</td>\n",
       "      <td>...</td>\n",
       "      <td>...</td>\n",
       "      <td>...</td>\n",
       "      <td>...</td>\n",
       "      <td>...</td>\n",
       "    </tr>\n",
       "    <tr>\n",
       "      <th>15334</th>\n",
       "      <td>211228</td>\n",
       "      <td>МИЛТИ</td>\n",
       "      <td>да</td>\n",
       "      <td>магазин (отдел кулинарии)</td>\n",
       "      <td>город Москва, Дубравная улица, дом 34/29</td>\n",
       "      <td>0</td>\n",
       "    </tr>\n",
       "    <tr>\n",
       "      <th>15335</th>\n",
       "      <td>211221</td>\n",
       "      <td>МИЛТИ</td>\n",
       "      <td>да</td>\n",
       "      <td>магазин (отдел кулинарии)</td>\n",
       "      <td>город Москва, Пятницкое шоссе, дом 3</td>\n",
       "      <td>0</td>\n",
       "    </tr>\n",
       "    <tr>\n",
       "      <th>15336</th>\n",
       "      <td>211209</td>\n",
       "      <td>Готовые блюда Милти</td>\n",
       "      <td>да</td>\n",
       "      <td>предприятие быстрого обслуживания</td>\n",
       "      <td>город Москва, Ореховый бульвар, дом 22А</td>\n",
       "      <td>0</td>\n",
       "    </tr>\n",
       "    <tr>\n",
       "      <th>15337</th>\n",
       "      <td>208477</td>\n",
       "      <td>Милти</td>\n",
       "      <td>да</td>\n",
       "      <td>предприятие быстрого обслуживания</td>\n",
       "      <td>город Москва, 3-й Крутицкий переулок, дом 18</td>\n",
       "      <td>0</td>\n",
       "    </tr>\n",
       "    <tr>\n",
       "      <th>15338</th>\n",
       "      <td>211201</td>\n",
       "      <td>Милти</td>\n",
       "      <td>да</td>\n",
       "      <td>магазин (отдел кулинарии)</td>\n",
       "      <td>город Москва, Новослободская улица, дом 4</td>\n",
       "      <td>0</td>\n",
       "    </tr>\n",
       "  </tbody>\n",
       "</table>\n",
       "<p>1621 rows × 6 columns</p>\n",
       "</div>"
      ],
      "text/plain": [
       "           id          object_name chain                        object_type  \\\n",
       "137    115498      Пекарня & Донер   нет                         закусочная   \n",
       "154    152556        Шаурма в пите   нет  предприятие быстрого обслуживания   \n",
       "157    149568                 Суши   нет  предприятие быстрого обслуживания   \n",
       "190    126956   Шаурма, куры-гриль   нет  предприятие быстрого обслуживания   \n",
       "195    149531   Шаурма, куры-гриль   нет  предприятие быстрого обслуживания   \n",
       "...       ...                  ...   ...                                ...   \n",
       "15334  211228                МИЛТИ    да          магазин (отдел кулинарии)   \n",
       "15335  211221                МИЛТИ    да          магазин (отдел кулинарии)   \n",
       "15336  211209  Готовые блюда Милти    да  предприятие быстрого обслуживания   \n",
       "15337  208477                Милти    да  предприятие быстрого обслуживания   \n",
       "15338  211201                Милти    да          магазин (отдел кулинарии)   \n",
       "\n",
       "                                                 address  number  \n",
       "137       город Москва, Бутырская улица, дом 9, корпус 2       0  \n",
       "154     город Москва, Варшавское шоссе, дом 72, корпус 2       0  \n",
       "157    город Москва, улица Маршала Василевского, дом ...       0  \n",
       "190         город Москва, 1-я Владимирская улица, дом 21       0  \n",
       "195      город Москва, 2-я Владимирская улица, дом 44/10       0  \n",
       "...                                                  ...     ...  \n",
       "15334           город Москва, Дубравная улица, дом 34/29       0  \n",
       "15335               город Москва, Пятницкое шоссе, дом 3       0  \n",
       "15336            город Москва, Ореховый бульвар, дом 22А       0  \n",
       "15337       город Москва, 3-й Крутицкий переулок, дом 18       0  \n",
       "15338          город Москва, Новослободская улица, дом 4       0  \n",
       "\n",
       "[1621 rows x 6 columns]"
      ]
     },
     "execution_count": 5,
     "metadata": {},
     "output_type": "execute_result"
    }
   ],
   "source": [
    "df.query('number == 0')"
   ]
  },
  {
   "cell_type": "markdown",
   "metadata": {},
   "source": [
    "Эти заведения относятся к закусочным, магазинам, предприятиям быстрого обслуживания и т.д. Значит, 0 посадочных мест — норма.\n",
    "\n",
    "Проверим, есть ли дубликаты."
   ]
  },
  {
   "cell_type": "code",
   "execution_count": 6,
   "metadata": {},
   "outputs": [
    {
     "data": {
      "text/plain": [
       "0"
      ]
     },
     "execution_count": 6,
     "metadata": {},
     "output_type": "execute_result"
    }
   ],
   "source": [
    "df.duplicated().sum()"
   ]
  },
  {
   "cell_type": "markdown",
   "metadata": {},
   "source": [
    "Дубликатов в данных нет."
   ]
  },
  {
   "cell_type": "markdown",
   "metadata": {},
   "source": [
    "### Вывод\n",
    "\n",
    "В каждой колонке правильный тип данных, пропусков и дубликатов нет, а количество посадочных мест равное 0 — норма для данных типов заведений."
   ]
  },
  {
   "cell_type": "markdown",
   "metadata": {},
   "source": [
    "## Анализ данных"
   ]
  },
  {
   "cell_type": "markdown",
   "metadata": {},
   "source": [
    "Исследуем соотношение видов объектов общественного питания по количеству. Для этого построим график."
   ]
  },
  {
   "cell_type": "code",
   "execution_count": 7,
   "metadata": {},
   "outputs": [
    {
     "data": {
      "text/plain": [
       "Text(0.5, 1.0, 'Соотношение видов объектов общественного питания')"
      ]
     },
     "execution_count": 7,
     "metadata": {},
     "output_type": "execute_result"
    },
    {
     "data": {
      "image/png": "[encoded data removed]",
      "text/plain": [
       "<Figure size 432x288 with 1 Axes>"
      ]
     },
     "metadata": {
      "needs_background": "light"
     },
     "output_type": "display_data"
    }
   ],
   "source": [
    "sort_object = df.groupby(df['object_type'])['id'].agg('count').reset_index().sort_values(by='id', ascending=False)\n",
    "sns.barplot(x='object_type', y='id', data=sort_object)\n",
    "plt.xticks(rotation=60, horizontalalignment='right', fontsize=14)\n",
    "plt.yticks(fontsize=12)\n",
    "plt.title('Соотношение видов объектов общественного питания', fontsize=14)"
   ]
  },
  {
   "cell_type": "markdown",
   "metadata": {},
   "source": [
    "Самыми популярными заведениями в Москве являются кафе. Это и не удивительно — можно быстро перекусить, средняя цена за еду, большой выбор блюд. Столовых почти в 2.5 раза меньше. За ними идут рестораны, вероятно, их меньше из-за того, что открыть хороший ресторан непросто, ценник выше, время ожидания блюда больше, чем в кафе, а ходят в них, обычно, по особым случаям. Меньше всего закусочных и отделов кулинарии в магазинах."
   ]
  },
  {
   "cell_type": "markdown",
   "metadata": {},
   "source": [
    "Теперь исследуем соотношение сетевых и несетевых заведений по количеству. Построим график."
   ]
  },
  {
   "cell_type": "code",
   "execution_count": 8,
   "metadata": {},
   "outputs": [
    {
     "data": {
      "text/plain": [
       "Text(0.5, 1.0, 'Соотношение сетевых и несетевых заведений')"
      ]
     },
     "execution_count": 8,
     "metadata": {},
     "output_type": "execute_result"
    },
    {
     "data": {
      "image/png": "[encoded data removed]",
      "text/plain": [
       "<Figure size 432x288 with 1 Axes>"
      ]
     },
     "metadata": {
      "needs_background": "light"
     },
     "output_type": "display_data"
    }
   ],
   "source": [
    "chain_object = df.groupby(df['chain'])['id'].agg('count').reset_index().sort_values(by='id', ascending=False)\n",
    "sns.barplot(x='chain', y='id', data=chain_object)\n",
    "plt.title('Соотношение сетевых и несетевых заведений')"
   ]
  },
  {
   "cell_type": "code",
   "execution_count": 9,
   "metadata": {},
   "outputs": [
    {
     "data": {
      "text/plain": [
       "([<matplotlib.patches.Wedge at 0x7f93b6b1a340>,\n",
       "  <matplotlib.patches.Wedge at 0x7f93b6b1aa30>],\n",
       " [Text(-1.8072363804867424, 1.25455038362163, 'нет'),\n",
       "  Text(1.8072362630272498, -1.254550552827307, 'да')],\n",
       " [Text(-0.985765298447314, 0.6843002092481617, '80.7%'),\n",
       "  Text(0.9857652343784998, -0.6843003015421674, '19.3%')])"
      ]
     },
     "execution_count": 9,
     "metadata": {},
     "output_type": "execute_result"
    },
    {
     "data": {
      "image/png": "[encoded data removed]",
      "text/plain": [
       "<Figure size 432x288 with 1 Axes>"
      ]
     },
     "metadata": {},
     "output_type": "display_data"
    }
   ],
   "source": [
    "plt.pie(chain_object['id'], labels=chain_object['chain'], autopct='%0.1f%%', radius=2)"
   ]
  },
  {
   "cell_type": "markdown",
   "metadata": {},
   "source": [
    "Всего 19.3% заведений в Москве являются сетевыми.\n",
    "\n",
    "Узнаем, для какого вида общественного питания характерно сетевое распространение."
   ]
  },
  {
   "cell_type": "code",
   "execution_count": 10,
   "metadata": {},
   "outputs": [
    {
     "data": {
      "text/plain": [
       "Text(0.5, 1.0, 'Соотношение видов сетевых заведений')"
      ]
     },
     "execution_count": 10,
     "metadata": {},
     "output_type": "execute_result"
    },
    {
     "data": {
      "image/png": "[encoded data removed]",
      "text/plain": [
       "<Figure size 432x288 with 1 Axes>"
      ]
     },
     "metadata": {
      "needs_background": "light"
     },
     "output_type": "display_data"
    }
   ],
   "source": [
    "chain = df.query('chain == \"да\"').reset_index(drop=True)\n",
    "chain_type = chain.groupby('object_type')['id'].agg('count').reset_index().sort_values(by='id', ascending=False)\n",
    "sns.barplot(x='object_type', y='id', data=chain_type)\n",
    "plt.xticks(rotation=60, horizontalalignment='right', fontsize=14)\n",
    "plt.yticks(fontsize=12)\n",
    "plt.title('Соотношение видов сетевых заведений')"
   ]
  },
  {
   "cell_type": "code",
   "execution_count": 11,
   "metadata": {
    "scrolled": false
   },
   "outputs": [
    {
     "data": {
      "text/plain": [
       "<AxesSubplot:xlabel='object_type'>"
      ]
     },
     "execution_count": 11,
     "metadata": {},
     "output_type": "execute_result"
    },
    {
     "data": {
      "image/png": "[encoded data removed]",
      "text/plain": [
       "<Figure size 648x648 with 1 Axes>"
      ]
     },
     "metadata": {
      "needs_background": "light"
     },
     "output_type": "display_data"
    }
   ],
   "source": [
    "(df.pivot_table(index='object_type', columns='chain', values='id', aggfunc='sum')\n",
    "     .plot(kind='bar', grid=True, figsize=(9,9))\n",
    ")"
   ]
  },
  {
   "cell_type": "markdown",
   "metadata": {},
   "source": [
    "Чаще всего сетевыми бывают кафе, за ними идут предприятия быстрого обслуживания и рестораны. Но по процентному соотношению сетевых к несетевым заведениям на первом месте предприятия быстрого обслуживания, за ними отделы кулинарии в магазинах, рестораны и только потом кафе. \n",
    "\n",
    "Теперь узнаем, что характерно для сетевых заведений: много заведений с небольшим числом посадочных мест в каждом или мало заведений с большим количеством посадочных мест."
   ]
  },
  {
   "cell_type": "code",
   "execution_count": 12,
   "metadata": {},
   "outputs": [
    {
     "data": {
      "text/html": [
       "<div>\n",
       "<style scoped>\n",
       "    .dataframe tbody tr th:only-of-type {\n",
       "        vertical-align: middle;\n",
       "    }\n",
       "\n",
       "    .dataframe tbody tr th {\n",
       "        vertical-align: top;\n",
       "    }\n",
       "\n",
       "    .dataframe thead th {\n",
       "        text-align: right;\n",
       "    }\n",
       "</style>\n",
       "<table border=\"1\" class=\"dataframe\">\n",
       "  <thead>\n",
       "    <tr style=\"text-align: right;\">\n",
       "      <th></th>\n",
       "      <th>id</th>\n",
       "      <th>object_name</th>\n",
       "      <th>chain</th>\n",
       "      <th>object_type</th>\n",
       "      <th>address</th>\n",
       "      <th>number</th>\n",
       "    </tr>\n",
       "  </thead>\n",
       "  <tbody>\n",
       "    <tr>\n",
       "      <th>0</th>\n",
       "      <td>21894</td>\n",
       "      <td>ПИЦЦЕТОРИЯ</td>\n",
       "      <td>да</td>\n",
       "      <td>кафе</td>\n",
       "      <td>город Москва, Абрамцевская улица, дом 1</td>\n",
       "      <td>40</td>\n",
       "    </tr>\n",
       "    <tr>\n",
       "      <th>1</th>\n",
       "      <td>148815</td>\n",
       "      <td>Брусника</td>\n",
       "      <td>да</td>\n",
       "      <td>кафе</td>\n",
       "      <td>город Москва, переулок Сивцев Вражек, дом 6/2</td>\n",
       "      <td>10</td>\n",
       "    </tr>\n",
       "    <tr>\n",
       "      <th>2</th>\n",
       "      <td>22579</td>\n",
       "      <td>Алло Пицца</td>\n",
       "      <td>да</td>\n",
       "      <td>кафе</td>\n",
       "      <td>город Москва, улица Авиаторов, дом 14</td>\n",
       "      <td>32</td>\n",
       "    </tr>\n",
       "    <tr>\n",
       "      <th>3</th>\n",
       "      <td>144107</td>\n",
       "      <td>Суши Wok</td>\n",
       "      <td>да</td>\n",
       "      <td>предприятие быстрого обслуживания</td>\n",
       "      <td>город Москва, Азовская улица, дом 3</td>\n",
       "      <td>7</td>\n",
       "    </tr>\n",
       "    <tr>\n",
       "      <th>4</th>\n",
       "      <td>58565</td>\n",
       "      <td>Тануки</td>\n",
       "      <td>да</td>\n",
       "      <td>ресторан</td>\n",
       "      <td>город Москва, Большая Академическая улица, дом 65</td>\n",
       "      <td>160</td>\n",
       "    </tr>\n",
       "    <tr>\n",
       "      <th>...</th>\n",
       "      <td>...</td>\n",
       "      <td>...</td>\n",
       "      <td>...</td>\n",
       "      <td>...</td>\n",
       "      <td>...</td>\n",
       "      <td>...</td>\n",
       "    </tr>\n",
       "    <tr>\n",
       "      <th>2963</th>\n",
       "      <td>208537</td>\n",
       "      <td>Шоколадница</td>\n",
       "      <td>да</td>\n",
       "      <td>кафе</td>\n",
       "      <td>город Москва, 3-й Крутицкий переулок, дом 18</td>\n",
       "      <td>50</td>\n",
       "    </tr>\n",
       "    <tr>\n",
       "      <th>2964</th>\n",
       "      <td>209264</td>\n",
       "      <td>Шоколадница</td>\n",
       "      <td>да</td>\n",
       "      <td>кафе</td>\n",
       "      <td>город Москва, улица Земляной Вал, дом 33</td>\n",
       "      <td>10</td>\n",
       "    </tr>\n",
       "    <tr>\n",
       "      <th>2965</th>\n",
       "      <td>209186</td>\n",
       "      <td>Шоколадница</td>\n",
       "      <td>да</td>\n",
       "      <td>кафе</td>\n",
       "      <td>город Москва, улица Земляной Вал, дом 33</td>\n",
       "      <td>20</td>\n",
       "    </tr>\n",
       "    <tr>\n",
       "      <th>2966</th>\n",
       "      <td>221900</td>\n",
       "      <td>Шоколадница</td>\n",
       "      <td>да</td>\n",
       "      <td>кафе</td>\n",
       "      <td>город Москва, поселение Московский, Киевское ш...</td>\n",
       "      <td>36</td>\n",
       "    </tr>\n",
       "    <tr>\n",
       "      <th>2967</th>\n",
       "      <td>222535</td>\n",
       "      <td>Шоколадница</td>\n",
       "      <td>да</td>\n",
       "      <td>кафе</td>\n",
       "      <td>город Москва, Ходынский бульвар, дом 4</td>\n",
       "      <td>10</td>\n",
       "    </tr>\n",
       "  </tbody>\n",
       "</table>\n",
       "<p>2968 rows × 6 columns</p>\n",
       "</div>"
      ],
      "text/plain": [
       "          id  object_name chain                        object_type  \\\n",
       "0      21894   ПИЦЦЕТОРИЯ    да                               кафе   \n",
       "1     148815     Брусника    да                               кафе   \n",
       "2      22579   Алло Пицца    да                               кафе   \n",
       "3     144107     Суши Wok    да  предприятие быстрого обслуживания   \n",
       "4      58565       Тануки    да                           ресторан   \n",
       "...      ...          ...   ...                                ...   \n",
       "2963  208537  Шоколадница    да                               кафе   \n",
       "2964  209264  Шоколадница    да                               кафе   \n",
       "2965  209186  Шоколадница    да                               кафе   \n",
       "2966  221900  Шоколадница    да                               кафе   \n",
       "2967  222535  Шоколадница    да                               кафе   \n",
       "\n",
       "                                                address  number  \n",
       "0               город Москва, Абрамцевская улица, дом 1      40  \n",
       "1         город Москва, переулок Сивцев Вражек, дом 6/2      10  \n",
       "2                 город Москва, улица Авиаторов, дом 14      32  \n",
       "3                   город Москва, Азовская улица, дом 3       7  \n",
       "4     город Москва, Большая Академическая улица, дом 65     160  \n",
       "...                                                 ...     ...  \n",
       "2963       город Москва, 3-й Крутицкий переулок, дом 18      50  \n",
       "2964           город Москва, улица Земляной Вал, дом 33      10  \n",
       "2965           город Москва, улица Земляной Вал, дом 33      20  \n",
       "2966  город Москва, поселение Московский, Киевское ш...      36  \n",
       "2967             город Москва, Ходынский бульвар, дом 4      10  \n",
       "\n",
       "[2968 rows x 6 columns]"
      ]
     },
     "execution_count": 12,
     "metadata": {},
     "output_type": "execute_result"
    }
   ],
   "source": [
    "chain"
   ]
  },
  {
   "cell_type": "code",
   "execution_count": 13,
   "metadata": {},
   "outputs": [
    {
     "data": {
      "text/plain": [
       "<seaborn.axisgrid.JointGrid at 0x7f93b72662e0>"
      ]
     },
     "execution_count": 13,
     "metadata": {},
     "output_type": "execute_result"
    },
    {
     "data": {
      "image/png": "[encoded data removed]",
      "text/plain": [
       "<Figure size 432x432 with 3 Axes>"
      ]
     },
     "metadata": {
      "needs_background": "light"
     },
     "output_type": "display_data"
    }
   ],
   "source": [
    "chain['mean'] = chain.groupby('object_name')['number'].transform('mean')\n",
    "chain = chain.rename(columns={'mean' : 'number of establishments', 'number' : 'number of seats'})\n",
    "sns.jointplot(x='number of establishments', y='number of seats', data=chain, kind='reg')"
   ]
  },
  {
   "cell_type": "markdown",
   "metadata": {},
   "source": [
    "Для большинства сетевых заведений характерно небольшое количество мест и большое количество заведений, но встречаются также и сети с большим количеством заведений и мест."
   ]
  },
  {
   "cell_type": "markdown",
   "metadata": {},
   "source": [
    "Для каждого вида объекта общественного питания опишем среднее количество посадочных мест. Узнаем, какой вид предоставляет в среднем самое большое количество посадочных мест, построим график."
   ]
  },
  {
   "cell_type": "code",
   "execution_count": 14,
   "metadata": {},
   "outputs": [
    {
     "data": {
      "text/plain": [
       "Text(0.5, 1.0, 'Среднее количество посадочных мест')"
      ]
     },
     "execution_count": 14,
     "metadata": {},
     "output_type": "execute_result"
    },
    {
     "data": {
      "image/png": "[encoded data removed]",
      "text/plain": [
       "<Figure size 432x288 with 1 Axes>"
      ]
     },
     "metadata": {
      "needs_background": "light"
     },
     "output_type": "display_data"
    }
   ],
   "source": [
    "df['mean_number'] =  df.groupby('object_type')['number'].transform('mean').round()\n",
    "object_number = df[['object_type', 'mean_number']].reset_index(drop=True).sort_values(by='mean_number', ascending=False)\n",
    "sns.barplot(x='object_type', y='mean_number', data=object_number)\n",
    "plt.xticks(rotation=60, horizontalalignment='right', fontsize=14)\n",
    "plt.yticks(fontsize=12)\n",
    "plt.title('Среднее количество посадочных мест')"
   ]
  },
  {
   "cell_type": "markdown",
   "metadata": {},
   "source": [
    "Больше всего посадочных мест в столовых, за ними идут рестораны. Меньше всего — в закусочных и отделах кулинарии. Это не удивительно, учитывая размеры помещений."
   ]
  },
  {
   "cell_type": "markdown",
   "metadata": {},
   "source": [
    "Выделим в отдельный столбец информацию об улице из столбца `address`."
   ]
  },
  {
   "cell_type": "code",
   "execution_count": 15,
   "metadata": {},
   "outputs": [
    {
     "data": {
      "text/html": [
       "<div>\n",
       "<style scoped>\n",
       "    .dataframe tbody tr th:only-of-type {\n",
       "        vertical-align: middle;\n",
       "    }\n",
       "\n",
       "    .dataframe tbody tr th {\n",
       "        vertical-align: top;\n",
       "    }\n",
       "\n",
       "    .dataframe thead th {\n",
       "        text-align: right;\n",
       "    }\n",
       "</style>\n",
       "<table border=\"1\" class=\"dataframe\">\n",
       "  <thead>\n",
       "    <tr style=\"text-align: right;\">\n",
       "      <th></th>\n",
       "      <th>id</th>\n",
       "      <th>object_name</th>\n",
       "      <th>chain</th>\n",
       "      <th>object_type</th>\n",
       "      <th>address</th>\n",
       "      <th>number</th>\n",
       "      <th>mean_number</th>\n",
       "      <th>street</th>\n",
       "    </tr>\n",
       "  </thead>\n",
       "  <tbody>\n",
       "    <tr>\n",
       "      <th>0</th>\n",
       "      <td>151635</td>\n",
       "      <td>СМЕТАНА</td>\n",
       "      <td>нет</td>\n",
       "      <td>кафе</td>\n",
       "      <td>город Москва, улица Егора Абакумова, дом 9</td>\n",
       "      <td>48</td>\n",
       "      <td>40.0</td>\n",
       "      <td>улица Егора Абакумова</td>\n",
       "    </tr>\n",
       "    <tr>\n",
       "      <th>1</th>\n",
       "      <td>77874</td>\n",
       "      <td>Родник</td>\n",
       "      <td>нет</td>\n",
       "      <td>кафе</td>\n",
       "      <td>город Москва, улица Талалихина, дом 2/1, корпус 1</td>\n",
       "      <td>35</td>\n",
       "      <td>40.0</td>\n",
       "      <td>улица Талалихина</td>\n",
       "    </tr>\n",
       "    <tr>\n",
       "      <th>2</th>\n",
       "      <td>24309</td>\n",
       "      <td>Кафе «Академия»</td>\n",
       "      <td>нет</td>\n",
       "      <td>кафе</td>\n",
       "      <td>город Москва, Абельмановская улица, дом 6</td>\n",
       "      <td>95</td>\n",
       "      <td>40.0</td>\n",
       "      <td>Абельмановская улица</td>\n",
       "    </tr>\n",
       "    <tr>\n",
       "      <th>3</th>\n",
       "      <td>21894</td>\n",
       "      <td>ПИЦЦЕТОРИЯ</td>\n",
       "      <td>да</td>\n",
       "      <td>кафе</td>\n",
       "      <td>город Москва, Абрамцевская улица, дом 1</td>\n",
       "      <td>40</td>\n",
       "      <td>40.0</td>\n",
       "      <td>Абрамцевская улица</td>\n",
       "    </tr>\n",
       "    <tr>\n",
       "      <th>4</th>\n",
       "      <td>119365</td>\n",
       "      <td>Кафе «Вишневая метель»</td>\n",
       "      <td>нет</td>\n",
       "      <td>кафе</td>\n",
       "      <td>город Москва, Абрамцевская улица, дом 9, корпус 1</td>\n",
       "      <td>50</td>\n",
       "      <td>40.0</td>\n",
       "      <td>Абрамцевская улица</td>\n",
       "    </tr>\n",
       "    <tr>\n",
       "      <th>...</th>\n",
       "      <td>...</td>\n",
       "      <td>...</td>\n",
       "      <td>...</td>\n",
       "      <td>...</td>\n",
       "      <td>...</td>\n",
       "      <td>...</td>\n",
       "      <td>...</td>\n",
       "      <td>...</td>\n",
       "    </tr>\n",
       "    <tr>\n",
       "      <th>15361</th>\n",
       "      <td>208537</td>\n",
       "      <td>Шоколадница</td>\n",
       "      <td>да</td>\n",
       "      <td>кафе</td>\n",
       "      <td>город Москва, 3-й Крутицкий переулок, дом 18</td>\n",
       "      <td>50</td>\n",
       "      <td>40.0</td>\n",
       "      <td>3-й Крутицкий переулок</td>\n",
       "    </tr>\n",
       "    <tr>\n",
       "      <th>15362</th>\n",
       "      <td>209264</td>\n",
       "      <td>Шоколадница</td>\n",
       "      <td>да</td>\n",
       "      <td>кафе</td>\n",
       "      <td>город Москва, улица Земляной Вал, дом 33</td>\n",
       "      <td>10</td>\n",
       "      <td>40.0</td>\n",
       "      <td>улица Земляной Вал</td>\n",
       "    </tr>\n",
       "    <tr>\n",
       "      <th>15363</th>\n",
       "      <td>209186</td>\n",
       "      <td>Шоколадница</td>\n",
       "      <td>да</td>\n",
       "      <td>кафе</td>\n",
       "      <td>город Москва, улица Земляной Вал, дом 33</td>\n",
       "      <td>20</td>\n",
       "      <td>40.0</td>\n",
       "      <td>улица Земляной Вал</td>\n",
       "    </tr>\n",
       "    <tr>\n",
       "      <th>15364</th>\n",
       "      <td>221900</td>\n",
       "      <td>Шоколадница</td>\n",
       "      <td>да</td>\n",
       "      <td>кафе</td>\n",
       "      <td>город Москва, поселение Московский, Киевское ш...</td>\n",
       "      <td>36</td>\n",
       "      <td>40.0</td>\n",
       "      <td>Киевское шоссе</td>\n",
       "    </tr>\n",
       "    <tr>\n",
       "      <th>15365</th>\n",
       "      <td>222535</td>\n",
       "      <td>Шоколадница</td>\n",
       "      <td>да</td>\n",
       "      <td>кафе</td>\n",
       "      <td>город Москва, Ходынский бульвар, дом 4</td>\n",
       "      <td>10</td>\n",
       "      <td>40.0</td>\n",
       "      <td>Ходынский бульвар</td>\n",
       "    </tr>\n",
       "  </tbody>\n",
       "</table>\n",
       "<p>15366 rows × 8 columns</p>\n",
       "</div>"
      ],
      "text/plain": [
       "           id             object_name chain object_type  \\\n",
       "0      151635                 СМЕТАНА   нет        кафе   \n",
       "1       77874                  Родник   нет        кафе   \n",
       "2       24309         Кафе «Академия»   нет        кафе   \n",
       "3       21894              ПИЦЦЕТОРИЯ    да        кафе   \n",
       "4      119365  Кафе «Вишневая метель»   нет        кафе   \n",
       "...       ...                     ...   ...         ...   \n",
       "15361  208537             Шоколадница    да        кафе   \n",
       "15362  209264             Шоколадница    да        кафе   \n",
       "15363  209186             Шоколадница    да        кафе   \n",
       "15364  221900             Шоколадница    да        кафе   \n",
       "15365  222535             Шоколадница    да        кафе   \n",
       "\n",
       "                                                 address  number  mean_number  \\\n",
       "0             город Москва, улица Егора Абакумова, дом 9      48         40.0   \n",
       "1      город Москва, улица Талалихина, дом 2/1, корпус 1      35         40.0   \n",
       "2              город Москва, Абельмановская улица, дом 6      95         40.0   \n",
       "3                город Москва, Абрамцевская улица, дом 1      40         40.0   \n",
       "4      город Москва, Абрамцевская улица, дом 9, корпус 1      50         40.0   \n",
       "...                                                  ...     ...          ...   \n",
       "15361       город Москва, 3-й Крутицкий переулок, дом 18      50         40.0   \n",
       "15362           город Москва, улица Земляной Вал, дом 33      10         40.0   \n",
       "15363           город Москва, улица Земляной Вал, дом 33      20         40.0   \n",
       "15364  город Москва, поселение Московский, Киевское ш...      36         40.0   \n",
       "15365             город Москва, Ходынский бульвар, дом 4      10         40.0   \n",
       "\n",
       "                       street  \n",
       "0       улица Егора Абакумова  \n",
       "1            улица Талалихина  \n",
       "2        Абельмановская улица  \n",
       "3          Абрамцевская улица  \n",
       "4          Абрамцевская улица  \n",
       "...                       ...  \n",
       "15361  3-й Крутицкий переулок  \n",
       "15362      улица Земляной Вал  \n",
       "15363      улица Земляной Вал  \n",
       "15364          Киевское шоссе  \n",
       "15365       Ходынский бульвар  \n",
       "\n",
       "[15366 rows x 8 columns]"
      ]
     },
     "execution_count": 15,
     "metadata": {},
     "output_type": "execute_result"
    }
   ],
   "source": [
    "def street(data):\n",
    "    name_street = ['улица',\n",
    "                   'бульвар',\n",
    "                   'шоссе',\n",
    "                   'проезд',\n",
    "                   'переулок',\n",
    "                   'набережная',\n",
    "                   'проспект',\n",
    "                   'линия',\n",
    "                   'тупик',\n",
    "                   'километр',\n",
    "                   'аллея',\n",
    "                   'площадь'\n",
    "                  ]\n",
    "\n",
    "    for street in data:\n",
    "        for name in name_street:\n",
    "            if name in street:\n",
    "                return street\n",
    "\n",
    "df['street'] = df['address'].str.split(', ').apply(street)\n",
    "df"
   ]
  },
  {
   "cell_type": "markdown",
   "metadata": {},
   "source": [
    "Построим график топ-10 улиц по количеству объектов общественного питания. Воспользуемся внешней информацией и ответим на вопрос — в каких районах Москвы находятся эти улицы?"
   ]
  },
  {
   "cell_type": "code",
   "execution_count": 16,
   "metadata": {},
   "outputs": [
    {
     "data": {
      "text/html": [
       "<div>\n",
       "<style scoped>\n",
       "    .dataframe tbody tr th:only-of-type {\n",
       "        vertical-align: middle;\n",
       "    }\n",
       "\n",
       "    .dataframe tbody tr th {\n",
       "        vertical-align: top;\n",
       "    }\n",
       "\n",
       "    .dataframe thead th {\n",
       "        text-align: right;\n",
       "    }\n",
       "</style>\n",
       "<table border=\"1\" class=\"dataframe\">\n",
       "  <thead>\n",
       "    <tr style=\"text-align: right;\">\n",
       "      <th></th>\n",
       "      <th>street</th>\n",
       "      <th>areaid</th>\n",
       "      <th>okrug</th>\n",
       "      <th>area</th>\n",
       "    </tr>\n",
       "  </thead>\n",
       "  <tbody>\n",
       "    <tr>\n",
       "      <th>0</th>\n",
       "      <td>Выставочный переулок</td>\n",
       "      <td>17</td>\n",
       "      <td>ЦАО</td>\n",
       "      <td>Пресненский район</td>\n",
       "    </tr>\n",
       "    <tr>\n",
       "      <th>1</th>\n",
       "      <td>улица Гашека</td>\n",
       "      <td>17</td>\n",
       "      <td>ЦАО</td>\n",
       "      <td>Пресненский район</td>\n",
       "    </tr>\n",
       "    <tr>\n",
       "      <th>2</th>\n",
       "      <td>Большая Никитская улица</td>\n",
       "      <td>17</td>\n",
       "      <td>ЦАО</td>\n",
       "      <td>Пресненский район</td>\n",
       "    </tr>\n",
       "    <tr>\n",
       "      <th>3</th>\n",
       "      <td>Глубокий переулок</td>\n",
       "      <td>17</td>\n",
       "      <td>ЦАО</td>\n",
       "      <td>Пресненский район</td>\n",
       "    </tr>\n",
       "    <tr>\n",
       "      <th>4</th>\n",
       "      <td>Большой Гнездниковский переулок</td>\n",
       "      <td>17</td>\n",
       "      <td>ЦАО</td>\n",
       "      <td>Пресненский район</td>\n",
       "    </tr>\n",
       "  </tbody>\n",
       "</table>\n",
       "</div>"
      ],
      "text/plain": [
       "                            street  areaid okrug               area\n",
       "0             Выставочный переулок      17   ЦАО  Пресненский район\n",
       "1                     улица Гашека      17   ЦАО  Пресненский район\n",
       "2          Большая Никитская улица      17   ЦАО  Пресненский район\n",
       "3                Глубокий переулок      17   ЦАО  Пресненский район\n",
       "4  Большой Гнездниковский переулок      17   ЦАО  Пресненский район"
      ]
     },
     "metadata": {},
     "output_type": "display_data"
    }
   ],
   "source": [
    "# таблица с округами\n",
    "spreadsheet_id = '1fGtfX_6otenOiCBRzt61bQe9l3gB7B8BEp-qPcWkRKA'\n",
    "file_name = 'https://docs.google.com/spreadsheets/d/{}/export?format=csv'.format(spreadsheet_id)\n",
    "r = requests.get(file_name)\n",
    "moscow_streets = pd.read_csv(BytesIO(r.content))\n",
    "moscow_streets = moscow_streets.rename(columns={'streetname' : 'street'})\n",
    "display(moscow_streets.head())"
   ]
  },
  {
   "cell_type": "code",
   "execution_count": 17,
   "metadata": {},
   "outputs": [
    {
     "data": {
      "text/plain": [
       "<AxesSubplot:title={'center':'Топ-10 улиц'}, xlabel='street'>"
      ]
     },
     "execution_count": 17,
     "metadata": {},
     "output_type": "execute_result"
    },
    {
     "data": {
      "image/png": "[encoded data removed]",
      "text/plain": [
       "<Figure size 432x288 with 1 Axes>"
      ]
     },
     "metadata": {
      "needs_background": "light"
     },
     "output_type": "display_data"
    }
   ],
   "source": [
    "street_table = df.groupby('street').agg({'id':'count'}).sort_values(by='id', ascending=False).rename(columns={'id' : 'number'})\n",
    "street_table.head(10).plot(kind='bar', title='Топ-10 улиц')"
   ]
  },
  {
   "cell_type": "code",
   "execution_count": 18,
   "metadata": {},
   "outputs": [
    {
     "data": {
      "text/html": [
       "<div>\n",
       "<style scoped>\n",
       "    .dataframe tbody tr th:only-of-type {\n",
       "        vertical-align: middle;\n",
       "    }\n",
       "\n",
       "    .dataframe tbody tr th {\n",
       "        vertical-align: top;\n",
       "    }\n",
       "\n",
       "    .dataframe thead th {\n",
       "        text-align: right;\n",
       "    }\n",
       "</style>\n",
       "<table border=\"1\" class=\"dataframe\">\n",
       "  <thead>\n",
       "    <tr style=\"text-align: right;\">\n",
       "      <th></th>\n",
       "      <th>street</th>\n",
       "      <th>number</th>\n",
       "      <th>okrug</th>\n",
       "      <th>area</th>\n",
       "    </tr>\n",
       "  </thead>\n",
       "  <tbody>\n",
       "    <tr>\n",
       "      <th>0</th>\n",
       "      <td>проспект Мира</td>\n",
       "      <td>204</td>\n",
       "      <td>СВАО</td>\n",
       "      <td>Алексеевский район</td>\n",
       "    </tr>\n",
       "    <tr>\n",
       "      <th>1</th>\n",
       "      <td>проспект Мира</td>\n",
       "      <td>204</td>\n",
       "      <td>СВАО</td>\n",
       "      <td>Ярославский Район</td>\n",
       "    </tr>\n",
       "    <tr>\n",
       "      <th>2</th>\n",
       "      <td>проспект Мира</td>\n",
       "      <td>204</td>\n",
       "      <td>СВАО</td>\n",
       "      <td>Район Марьина роща</td>\n",
       "    </tr>\n",
       "    <tr>\n",
       "      <th>3</th>\n",
       "      <td>проспект Мира</td>\n",
       "      <td>204</td>\n",
       "      <td>СВАО</td>\n",
       "      <td>Останкинский район</td>\n",
       "    </tr>\n",
       "    <tr>\n",
       "      <th>4</th>\n",
       "      <td>проспект Мира</td>\n",
       "      <td>204</td>\n",
       "      <td>СВАО</td>\n",
       "      <td>Район Ростокино</td>\n",
       "    </tr>\n",
       "    <tr>\n",
       "      <th>5</th>\n",
       "      <td>проспект Мира</td>\n",
       "      <td>204</td>\n",
       "      <td>СВАО</td>\n",
       "      <td>Район Свиблово</td>\n",
       "    </tr>\n",
       "    <tr>\n",
       "      <th>6</th>\n",
       "      <td>проспект Мира</td>\n",
       "      <td>204</td>\n",
       "      <td>ЦАО</td>\n",
       "      <td>Мещанский район</td>\n",
       "    </tr>\n",
       "    <tr>\n",
       "      <th>7</th>\n",
       "      <td>Профсоюзная улица</td>\n",
       "      <td>183</td>\n",
       "      <td>ЮЗАО</td>\n",
       "      <td>Академический район</td>\n",
       "    </tr>\n",
       "    <tr>\n",
       "      <th>8</th>\n",
       "      <td>Профсоюзная улица</td>\n",
       "      <td>183</td>\n",
       "      <td>ЮЗАО</td>\n",
       "      <td>Район Черемушки</td>\n",
       "    </tr>\n",
       "    <tr>\n",
       "      <th>9</th>\n",
       "      <td>Профсоюзная улица</td>\n",
       "      <td>183</td>\n",
       "      <td>ЮЗАО</td>\n",
       "      <td>Район Ясенево</td>\n",
       "    </tr>\n",
       "    <tr>\n",
       "      <th>10</th>\n",
       "      <td>Профсоюзная улица</td>\n",
       "      <td>183</td>\n",
       "      <td>ЮЗАО</td>\n",
       "      <td>Район Коньково</td>\n",
       "    </tr>\n",
       "    <tr>\n",
       "      <th>11</th>\n",
       "      <td>Профсоюзная улица</td>\n",
       "      <td>183</td>\n",
       "      <td>ЮЗАО</td>\n",
       "      <td>Обручевский район</td>\n",
       "    </tr>\n",
       "    <tr>\n",
       "      <th>12</th>\n",
       "      <td>Профсоюзная улица</td>\n",
       "      <td>183</td>\n",
       "      <td>ЮЗАО</td>\n",
       "      <td>Район Теплый Стан</td>\n",
       "    </tr>\n",
       "    <tr>\n",
       "      <th>13</th>\n",
       "      <td>Ленинградский проспект</td>\n",
       "      <td>173</td>\n",
       "      <td>САО</td>\n",
       "      <td>Район Аэропорт</td>\n",
       "    </tr>\n",
       "    <tr>\n",
       "      <th>14</th>\n",
       "      <td>Ленинградский проспект</td>\n",
       "      <td>173</td>\n",
       "      <td>САО</td>\n",
       "      <td>Район Беговой</td>\n",
       "    </tr>\n",
       "    <tr>\n",
       "      <th>15</th>\n",
       "      <td>Ленинградский проспект</td>\n",
       "      <td>173</td>\n",
       "      <td>САО</td>\n",
       "      <td>Хорошевский район</td>\n",
       "    </tr>\n",
       "    <tr>\n",
       "      <th>16</th>\n",
       "      <td>Ленинградский проспект</td>\n",
       "      <td>173</td>\n",
       "      <td>САО</td>\n",
       "      <td>Район Сокол</td>\n",
       "    </tr>\n",
       "    <tr>\n",
       "      <th>17</th>\n",
       "      <td>Пресненская набережная</td>\n",
       "      <td>167</td>\n",
       "      <td>ЦАО</td>\n",
       "      <td>Пресненский район</td>\n",
       "    </tr>\n",
       "    <tr>\n",
       "      <th>18</th>\n",
       "      <td>Варшавское шоссе</td>\n",
       "      <td>165</td>\n",
       "      <td>ЮАО</td>\n",
       "      <td>Район Чертаново Центральное</td>\n",
       "    </tr>\n",
       "    <tr>\n",
       "      <th>19</th>\n",
       "      <td>Варшавское шоссе</td>\n",
       "      <td>165</td>\n",
       "      <td>ЮАО</td>\n",
       "      <td>Район Чертаново Северное</td>\n",
       "    </tr>\n",
       "    <tr>\n",
       "      <th>20</th>\n",
       "      <td>Варшавское шоссе</td>\n",
       "      <td>165</td>\n",
       "      <td>ЮАО</td>\n",
       "      <td>Район Чертаново Южное</td>\n",
       "    </tr>\n",
       "    <tr>\n",
       "      <th>21</th>\n",
       "      <td>Варшавское шоссе</td>\n",
       "      <td>165</td>\n",
       "      <td>ЮАО</td>\n",
       "      <td>Донской район</td>\n",
       "    </tr>\n",
       "    <tr>\n",
       "      <th>22</th>\n",
       "      <td>Варшавское шоссе</td>\n",
       "      <td>165</td>\n",
       "      <td>ЮАО</td>\n",
       "      <td>Район Нагатино-Садовники</td>\n",
       "    </tr>\n",
       "    <tr>\n",
       "      <th>23</th>\n",
       "      <td>Варшавское шоссе</td>\n",
       "      <td>165</td>\n",
       "      <td>ЮАО</td>\n",
       "      <td>Нагорный район</td>\n",
       "    </tr>\n",
       "    <tr>\n",
       "      <th>24</th>\n",
       "      <td>Варшавское шоссе</td>\n",
       "      <td>165</td>\n",
       "      <td>ЮЗАО</td>\n",
       "      <td>Район Северное Бутово</td>\n",
       "    </tr>\n",
       "    <tr>\n",
       "      <th>25</th>\n",
       "      <td>Варшавское шоссе</td>\n",
       "      <td>165</td>\n",
       "      <td>ЮЗАО</td>\n",
       "      <td>Район Южное Бутово</td>\n",
       "    </tr>\n",
       "    <tr>\n",
       "      <th>26</th>\n",
       "      <td>Ленинский проспект</td>\n",
       "      <td>148</td>\n",
       "      <td>ЗАО</td>\n",
       "      <td>Район Проспект Вернадского</td>\n",
       "    </tr>\n",
       "    <tr>\n",
       "      <th>27</th>\n",
       "      <td>Ленинский проспект</td>\n",
       "      <td>148</td>\n",
       "      <td>ЗАО</td>\n",
       "      <td>Район Тропарево-Никулино</td>\n",
       "    </tr>\n",
       "    <tr>\n",
       "      <th>28</th>\n",
       "      <td>Ленинский проспект</td>\n",
       "      <td>148</td>\n",
       "      <td>ЮАО</td>\n",
       "      <td>Донской район</td>\n",
       "    </tr>\n",
       "    <tr>\n",
       "      <th>29</th>\n",
       "      <td>Ленинский проспект</td>\n",
       "      <td>148</td>\n",
       "      <td>ЮЗАО</td>\n",
       "      <td>Район Гагаринский</td>\n",
       "    </tr>\n",
       "    <tr>\n",
       "      <th>30</th>\n",
       "      <td>Ленинский проспект</td>\n",
       "      <td>148</td>\n",
       "      <td>ЮЗАО</td>\n",
       "      <td>Ломоносовский район</td>\n",
       "    </tr>\n",
       "    <tr>\n",
       "      <th>31</th>\n",
       "      <td>Ленинский проспект</td>\n",
       "      <td>148</td>\n",
       "      <td>ЮЗАО</td>\n",
       "      <td>Обручевский район</td>\n",
       "    </tr>\n",
       "    <tr>\n",
       "      <th>32</th>\n",
       "      <td>Ленинский проспект</td>\n",
       "      <td>148</td>\n",
       "      <td>ЮЗАО</td>\n",
       "      <td>Район Теплый Стан</td>\n",
       "    </tr>\n",
       "    <tr>\n",
       "      <th>33</th>\n",
       "      <td>Ленинский проспект</td>\n",
       "      <td>148</td>\n",
       "      <td>ЦАО</td>\n",
       "      <td>Район Якиманка</td>\n",
       "    </tr>\n",
       "    <tr>\n",
       "      <th>34</th>\n",
       "      <td>проспект Вернадского</td>\n",
       "      <td>132</td>\n",
       "      <td>ЗАО</td>\n",
       "      <td>Район Проспект Вернадского</td>\n",
       "    </tr>\n",
       "    <tr>\n",
       "      <th>35</th>\n",
       "      <td>проспект Вернадского</td>\n",
       "      <td>132</td>\n",
       "      <td>ЗАО</td>\n",
       "      <td>Район Раменки</td>\n",
       "    </tr>\n",
       "    <tr>\n",
       "      <th>36</th>\n",
       "      <td>проспект Вернадского</td>\n",
       "      <td>132</td>\n",
       "      <td>ЗАО</td>\n",
       "      <td>Район Тропарево-Никулино</td>\n",
       "    </tr>\n",
       "    <tr>\n",
       "      <th>37</th>\n",
       "      <td>проспект Вернадского</td>\n",
       "      <td>132</td>\n",
       "      <td>ЮЗАО</td>\n",
       "      <td>Район Гагаринский</td>\n",
       "    </tr>\n",
       "    <tr>\n",
       "      <th>38</th>\n",
       "      <td>проспект Вернадского</td>\n",
       "      <td>132</td>\n",
       "      <td>ЮЗАО</td>\n",
       "      <td>Ломоносовский район</td>\n",
       "    </tr>\n",
       "    <tr>\n",
       "      <th>39</th>\n",
       "      <td>Кутузовский проспект</td>\n",
       "      <td>114</td>\n",
       "      <td>ЗАО</td>\n",
       "      <td>Район Дорогомилово</td>\n",
       "    </tr>\n",
       "    <tr>\n",
       "      <th>40</th>\n",
       "      <td>Кутузовский проспект</td>\n",
       "      <td>114</td>\n",
       "      <td>ЗАО</td>\n",
       "      <td>Район Фили-Давыдково</td>\n",
       "    </tr>\n",
       "    <tr>\n",
       "      <th>41</th>\n",
       "      <td>Каширское шоссе</td>\n",
       "      <td>112</td>\n",
       "      <td>ЮАО</td>\n",
       "      <td>Район Москворечье-Сабурово</td>\n",
       "    </tr>\n",
       "    <tr>\n",
       "      <th>42</th>\n",
       "      <td>Каширское шоссе</td>\n",
       "      <td>112</td>\n",
       "      <td>ЮАО</td>\n",
       "      <td>Район Нагатино-Садовники</td>\n",
       "    </tr>\n",
       "    <tr>\n",
       "      <th>43</th>\n",
       "      <td>Каширское шоссе</td>\n",
       "      <td>112</td>\n",
       "      <td>ЮАО</td>\n",
       "      <td>Район Орехово-Борисово Южное</td>\n",
       "    </tr>\n",
       "    <tr>\n",
       "      <th>44</th>\n",
       "      <td>Каширское шоссе</td>\n",
       "      <td>112</td>\n",
       "      <td>ЮАО</td>\n",
       "      <td>Район Орехово-Борисово Северное</td>\n",
       "    </tr>\n",
       "    <tr>\n",
       "      <th>45</th>\n",
       "      <td>Кировоградская улица</td>\n",
       "      <td>110</td>\n",
       "      <td>ЮАО</td>\n",
       "      <td>Район Чертаново Центральное</td>\n",
       "    </tr>\n",
       "    <tr>\n",
       "      <th>46</th>\n",
       "      <td>Кировоградская улица</td>\n",
       "      <td>110</td>\n",
       "      <td>ЮАО</td>\n",
       "      <td>Район Чертаново Северное</td>\n",
       "    </tr>\n",
       "    <tr>\n",
       "      <th>47</th>\n",
       "      <td>Кировоградская улица</td>\n",
       "      <td>110</td>\n",
       "      <td>ЮАО</td>\n",
       "      <td>Район Чертаново Южное</td>\n",
       "    </tr>\n",
       "  </tbody>\n",
       "</table>\n",
       "</div>"
      ],
      "text/plain": [
       "                    street  number okrug                             area\n",
       "0            проспект Мира     204  СВАО               Алексеевский район\n",
       "1            проспект Мира     204  СВАО                Ярославский Район\n",
       "2            проспект Мира     204  СВАО               Район Марьина роща\n",
       "3            проспект Мира     204  СВАО               Останкинский район\n",
       "4            проспект Мира     204  СВАО                  Район Ростокино\n",
       "5            проспект Мира     204  СВАО                   Район Свиблово\n",
       "6            проспект Мира     204   ЦАО                  Мещанский район\n",
       "7        Профсоюзная улица     183  ЮЗАО              Академический район\n",
       "8        Профсоюзная улица     183  ЮЗАО                  Район Черемушки\n",
       "9        Профсоюзная улица     183  ЮЗАО                    Район Ясенево\n",
       "10       Профсоюзная улица     183  ЮЗАО                   Район Коньково\n",
       "11       Профсоюзная улица     183  ЮЗАО                Обручевский район\n",
       "12       Профсоюзная улица     183  ЮЗАО                Район Теплый Стан\n",
       "13  Ленинградский проспект     173   САО                   Район Аэропорт\n",
       "14  Ленинградский проспект     173   САО                    Район Беговой\n",
       "15  Ленинградский проспект     173   САО                Хорошевский район\n",
       "16  Ленинградский проспект     173   САО                      Район Сокол\n",
       "17  Пресненская набережная     167   ЦАО                Пресненский район\n",
       "18        Варшавское шоссе     165   ЮАО      Район Чертаново Центральное\n",
       "19        Варшавское шоссе     165   ЮАО         Район Чертаново Северное\n",
       "20        Варшавское шоссе     165   ЮАО            Район Чертаново Южное\n",
       "21        Варшавское шоссе     165   ЮАО                    Донской район\n",
       "22        Варшавское шоссе     165   ЮАО         Район Нагатино-Садовники\n",
       "23        Варшавское шоссе     165   ЮАО                   Нагорный район\n",
       "24        Варшавское шоссе     165  ЮЗАО            Район Северное Бутово\n",
       "25        Варшавское шоссе     165  ЮЗАО               Район Южное Бутово\n",
       "26      Ленинский проспект     148   ЗАО       Район Проспект Вернадского\n",
       "27      Ленинский проспект     148   ЗАО         Район Тропарево-Никулино\n",
       "28      Ленинский проспект     148   ЮАО                    Донской район\n",
       "29      Ленинский проспект     148  ЮЗАО                Район Гагаринский\n",
       "30      Ленинский проспект     148  ЮЗАО              Ломоносовский район\n",
       "31      Ленинский проспект     148  ЮЗАО                Обручевский район\n",
       "32      Ленинский проспект     148  ЮЗАО                Район Теплый Стан\n",
       "33      Ленинский проспект     148   ЦАО                   Район Якиманка\n",
       "34    проспект Вернадского     132   ЗАО       Район Проспект Вернадского\n",
       "35    проспект Вернадского     132   ЗАО                    Район Раменки\n",
       "36    проспект Вернадского     132   ЗАО         Район Тропарево-Никулино\n",
       "37    проспект Вернадского     132  ЮЗАО                Район Гагаринский\n",
       "38    проспект Вернадского     132  ЮЗАО              Ломоносовский район\n",
       "39    Кутузовский проспект     114   ЗАО               Район Дорогомилово\n",
       "40    Кутузовский проспект     114   ЗАО             Район Фили-Давыдково\n",
       "41         Каширское шоссе     112   ЮАО       Район Москворечье-Сабурово\n",
       "42         Каширское шоссе     112   ЮАО         Район Нагатино-Садовники\n",
       "43         Каширское шоссе     112   ЮАО     Район Орехово-Борисово Южное\n",
       "44         Каширское шоссе     112   ЮАО  Район Орехово-Борисово Северное\n",
       "45    Кировоградская улица     110   ЮАО      Район Чертаново Центральное\n",
       "46    Кировоградская улица     110   ЮАО         Район Чертаново Северное\n",
       "47    Кировоградская улица     110   ЮАО            Район Чертаново Южное"
      ]
     },
     "execution_count": 18,
     "metadata": {},
     "output_type": "execute_result"
    }
   ],
   "source": [
    "street_table_full = street_table.head(10).merge(moscow_streets, on='street', how='left')\n",
    "street_table_full = street_table_full.drop(['areaid'], axis=1)\n",
    "street_table_full"
   ]
  },
  {
   "cell_type": "markdown",
   "metadata": {},
   "source": [
    "Итак, самые популярные улицы, округа, к которым они относятся и районы:\n",
    "* проспект Мира — ЦАО, СВАО, районы: Мещанский, Марьина Роща, Алексеевский, Останкинский, Свиблово, Ростокино;\n",
    "* Профсоюзная улица — ЮЗАО, районы: Академический, Коньково, Обручевский, Тёплый стан, Черёмушки, Ясенево;\n",
    "* Ленинградский проспект — САО, районы: Беговой, Аэропорт, Сокол, Хорошёвский;\n",
    "* Пресненская набережная — ЦАО, район: Пресненский;\n",
    "* Варшавское шоссе — ЮАО, ЮЗАО, НАО, районы: Донской, Нагатино-Садовники, Нагорный, Чертаново (Южное, Северное, Цетральное), Южное Бутово, Щербинка;\n",
    "* Ленинский проспект — ЦАО, ЮАО, ЮЗАО, ЗАО, районы: Якиманка, Донской, Гагаринский, Ломоносовский, Обручевский, Тёплый Стан, Проспект Вернадского, Тропарёво-Никулино;\n",
    "* проспект Вернадского — ЮЗАО, ЗАО, районы: Гагаринский, Ломоносовский, Раменки, Проспект Вернадского, Тропарёво-Никулино; \n",
    "* Кутузовский проспект — ЗАО, районы: Дорогомилово, Фили-Давыдково;\n",
    "* Каширское шоссе — ЮАО, районы: Москворечье-Сабурово, Орехово-Борисово (Северное, Южное), Нагатино-Садовники; \n",
    "* Кировоградская улица — ЮАО, районы: Чертаново (Северное, Центральное, Южное)."
   ]
  },
  {
   "cell_type": "markdown",
   "metadata": {},
   "source": [
    "Найдём число улиц с одним объектом общественного питания, ответим на вопрос — в каких районах Москвы находятся эти улицы?"
   ]
  },
  {
   "cell_type": "code",
   "execution_count": 19,
   "metadata": {},
   "outputs": [
    {
     "data": {
      "text/plain": [
       "number    563\n",
       "dtype: int64"
      ]
     },
     "execution_count": 19,
     "metadata": {},
     "output_type": "execute_result"
    }
   ],
   "source": [
    "street_table.query('number == 1').count()"
   ]
  },
  {
   "cell_type": "code",
   "execution_count": 20,
   "metadata": {},
   "outputs": [
    {
     "data": {
      "text/html": [
       "<div>\n",
       "<style scoped>\n",
       "    .dataframe tbody tr th:only-of-type {\n",
       "        vertical-align: middle;\n",
       "    }\n",
       "\n",
       "    .dataframe tbody tr th {\n",
       "        vertical-align: top;\n",
       "    }\n",
       "\n",
       "    .dataframe thead th {\n",
       "        text-align: right;\n",
       "    }\n",
       "</style>\n",
       "<table border=\"1\" class=\"dataframe\">\n",
       "  <thead>\n",
       "    <tr style=\"text-align: right;\">\n",
       "      <th></th>\n",
       "      <th>street</th>\n",
       "      <th>number</th>\n",
       "      <th>okrug</th>\n",
       "      <th>area</th>\n",
       "      <th>count</th>\n",
       "    </tr>\n",
       "  </thead>\n",
       "  <tbody>\n",
       "    <tr>\n",
       "      <th>608</th>\n",
       "      <td>Малая Переяславская улица</td>\n",
       "      <td>1</td>\n",
       "      <td>ЦАО</td>\n",
       "      <td>Мещанский район</td>\n",
       "      <td>186.0</td>\n",
       "    </tr>\n",
       "    <tr>\n",
       "      <th>201</th>\n",
       "      <td>Композиторская улица</td>\n",
       "      <td>1</td>\n",
       "      <td>ЦАО</td>\n",
       "      <td>Район Арбат</td>\n",
       "      <td>186.0</td>\n",
       "    </tr>\n",
       "    <tr>\n",
       "      <th>209</th>\n",
       "      <td>улица Савельева</td>\n",
       "      <td>1</td>\n",
       "      <td>ЦАО</td>\n",
       "      <td>Район Хамовники</td>\n",
       "      <td>186.0</td>\n",
       "    </tr>\n",
       "    <tr>\n",
       "      <th>486</th>\n",
       "      <td>Воротниковский переулок</td>\n",
       "      <td>1</td>\n",
       "      <td>ЦАО</td>\n",
       "      <td>Тверской район</td>\n",
       "      <td>186.0</td>\n",
       "    </tr>\n",
       "    <tr>\n",
       "      <th>481</th>\n",
       "      <td>Выползов переулок</td>\n",
       "      <td>1</td>\n",
       "      <td>ЦАО</td>\n",
       "      <td>Мещанский район</td>\n",
       "      <td>186.0</td>\n",
       "    </tr>\n",
       "    <tr>\n",
       "      <th>478</th>\n",
       "      <td>2-я Дубровская улица</td>\n",
       "      <td>1</td>\n",
       "      <td>ЦАО</td>\n",
       "      <td>Таганский район</td>\n",
       "      <td>186.0</td>\n",
       "    </tr>\n",
       "    <tr>\n",
       "      <th>475</th>\n",
       "      <td>Лефортовский переулок</td>\n",
       "      <td>1</td>\n",
       "      <td>ЦАО</td>\n",
       "      <td>Басманный район</td>\n",
       "      <td>186.0</td>\n",
       "    </tr>\n",
       "    <tr>\n",
       "      <th>221</th>\n",
       "      <td>2-й Колобовский переулок</td>\n",
       "      <td>1</td>\n",
       "      <td>ЦАО</td>\n",
       "      <td>Тверской район</td>\n",
       "      <td>186.0</td>\n",
       "    </tr>\n",
       "    <tr>\n",
       "      <th>225</th>\n",
       "      <td>Старомонетный переулок</td>\n",
       "      <td>1</td>\n",
       "      <td>ЦАО</td>\n",
       "      <td>Район Якиманка</td>\n",
       "      <td>186.0</td>\n",
       "    </tr>\n",
       "    <tr>\n",
       "      <th>229</th>\n",
       "      <td>Столовый переулок</td>\n",
       "      <td>1</td>\n",
       "      <td>ЦАО</td>\n",
       "      <td>Пресненский район</td>\n",
       "      <td>186.0</td>\n",
       "    </tr>\n",
       "    <tr>\n",
       "      <th>464</th>\n",
       "      <td>улица Академика Петровского</td>\n",
       "      <td>1</td>\n",
       "      <td>ЦАО</td>\n",
       "      <td>Район Якиманка</td>\n",
       "      <td>186.0</td>\n",
       "    </tr>\n",
       "    <tr>\n",
       "      <th>233</th>\n",
       "      <td>Стрельбищенский переулок</td>\n",
       "      <td>1</td>\n",
       "      <td>ЦАО</td>\n",
       "      <td>Пресненский район</td>\n",
       "      <td>186.0</td>\n",
       "    </tr>\n",
       "    <tr>\n",
       "      <th>235</th>\n",
       "      <td>Стройковская улица</td>\n",
       "      <td>1</td>\n",
       "      <td>ЦАО</td>\n",
       "      <td>Таганский район</td>\n",
       "      <td>186.0</td>\n",
       "    </tr>\n",
       "    <tr>\n",
       "      <th>237</th>\n",
       "      <td>Никитский переулок</td>\n",
       "      <td>1</td>\n",
       "      <td>ЦАО</td>\n",
       "      <td>Тверской район</td>\n",
       "      <td>186.0</td>\n",
       "    </tr>\n",
       "    <tr>\n",
       "      <th>238</th>\n",
       "      <td>Ботанический переулок</td>\n",
       "      <td>1</td>\n",
       "      <td>ЦАО</td>\n",
       "      <td>Мещанский район</td>\n",
       "      <td>186.0</td>\n",
       "    </tr>\n",
       "    <tr>\n",
       "      <th>241</th>\n",
       "      <td>Бродников переулок</td>\n",
       "      <td>1</td>\n",
       "      <td>ЦАО</td>\n",
       "      <td>Район Якиманка</td>\n",
       "      <td>186.0</td>\n",
       "    </tr>\n",
       "    <tr>\n",
       "      <th>242</th>\n",
       "      <td>Нижний Таганский тупик</td>\n",
       "      <td>1</td>\n",
       "      <td>ЦАО</td>\n",
       "      <td>Таганский район</td>\n",
       "      <td>186.0</td>\n",
       "    </tr>\n",
       "    <tr>\n",
       "      <th>248</th>\n",
       "      <td>Спартаковский переулок</td>\n",
       "      <td>1</td>\n",
       "      <td>ЦАО</td>\n",
       "      <td>Басманный район</td>\n",
       "      <td>186.0</td>\n",
       "    </tr>\n",
       "    <tr>\n",
       "      <th>251</th>\n",
       "      <td>Большой Строченовский переулок</td>\n",
       "      <td>1</td>\n",
       "      <td>ЦАО</td>\n",
       "      <td>Район Замоскворечье</td>\n",
       "      <td>186.0</td>\n",
       "    </tr>\n",
       "    <tr>\n",
       "      <th>253</th>\n",
       "      <td>Андроньевская площадь</td>\n",
       "      <td>1</td>\n",
       "      <td>ЦАО</td>\n",
       "      <td>Таганский район</td>\n",
       "      <td>186.0</td>\n",
       "    </tr>\n",
       "  </tbody>\n",
       "</table>\n",
       "</div>"
      ],
      "text/plain": [
       "                             street  number okrug                 area  count\n",
       "608       Малая Переяславская улица       1   ЦАО      Мещанский район  186.0\n",
       "201            Композиторская улица       1   ЦАО          Район Арбат  186.0\n",
       "209                 улица Савельева       1   ЦАО      Район Хамовники  186.0\n",
       "486         Воротниковский переулок       1   ЦАО       Тверской район  186.0\n",
       "481               Выползов переулок       1   ЦАО      Мещанский район  186.0\n",
       "478            2-я Дубровская улица       1   ЦАО      Таганский район  186.0\n",
       "475           Лефортовский переулок       1   ЦАО      Басманный район  186.0\n",
       "221        2-й Колобовский переулок       1   ЦАО       Тверской район  186.0\n",
       "225          Старомонетный переулок       1   ЦАО       Район Якиманка  186.0\n",
       "229               Столовый переулок       1   ЦАО    Пресненский район  186.0\n",
       "464     улица Академика Петровского       1   ЦАО       Район Якиманка  186.0\n",
       "233        Стрельбищенский переулок       1   ЦАО    Пресненский район  186.0\n",
       "235              Стройковская улица       1   ЦАО      Таганский район  186.0\n",
       "237              Никитский переулок       1   ЦАО       Тверской район  186.0\n",
       "238           Ботанический переулок       1   ЦАО      Мещанский район  186.0\n",
       "241              Бродников переулок       1   ЦАО       Район Якиманка  186.0\n",
       "242          Нижний Таганский тупик       1   ЦАО      Таганский район  186.0\n",
       "248          Спартаковский переулок       1   ЦАО      Басманный район  186.0\n",
       "251  Большой Строченовский переулок       1   ЦАО  Район Замоскворечье  186.0\n",
       "253           Андроньевская площадь       1   ЦАО      Таганский район  186.0"
      ]
     },
     "execution_count": 20,
     "metadata": {},
     "output_type": "execute_result"
    }
   ],
   "source": [
    "street_with_one_rest = street_table.query('number == 1').merge(moscow_streets, on='street', how='left')\n",
    "street_with_one_rest = street_with_one_rest.drop(['areaid'], axis=1)\n",
    "street_with_one_rest['count'] = street_with_one_rest.groupby('okrug')['okrug'].transform('count')\n",
    "street_with_one_rest = street_with_one_rest.sort_values(by='count', ascending=False)\n",
    "street_with_one_rest.head(20)"
   ]
  },
  {
   "cell_type": "code",
   "execution_count": 21,
   "metadata": {},
   "outputs": [
    {
     "data": {
      "text/plain": [
       "<AxesSubplot:title={'center':'Топ-10 районов с 1 рестораном'}, xlabel='area'>"
      ]
     },
     "execution_count": 21,
     "metadata": {},
     "output_type": "execute_result"
    },
    {
     "data": {
      "image/png": "[encoded data removed]",
      "text/plain": [
       "<Figure size 432x288 with 1 Axes>"
      ]
     },
     "metadata": {
      "needs_background": "light"
     },
     "output_type": "display_data"
    }
   ],
   "source": [
    "top_area = street_with_one_rest.groupby('area').agg({'street':'count'}).sort_values(by='street', ascending=False)\n",
    "top_area.head(10).plot(kind='bar', title='Топ-10 районов с 1 рестораном')"
   ]
  },
  {
   "cell_type": "markdown",
   "metadata": {},
   "source": [
    "563 улицы с одним заведением, большинство из них находится в ЦАО. В общем, они расположены в тех же районах и округах, что и топ-10 улиц.\n",
    "\n",
    "Посмотрим на распределение количества посадочных мест для улиц с большим количеством объектов общественного питания. Какие закономерности можно выявить?"
   ]
  },
  {
   "cell_type": "code",
   "execution_count": 22,
   "metadata": {},
   "outputs": [
    {
     "data": {
      "text/html": [
       "<div>\n",
       "<style scoped>\n",
       "    .dataframe tbody tr th:only-of-type {\n",
       "        vertical-align: middle;\n",
       "    }\n",
       "\n",
       "    .dataframe tbody tr th {\n",
       "        vertical-align: top;\n",
       "    }\n",
       "\n",
       "    .dataframe thead th {\n",
       "        text-align: right;\n",
       "    }\n",
       "</style>\n",
       "<table border=\"1\" class=\"dataframe\">\n",
       "  <thead>\n",
       "    <tr style=\"text-align: right;\">\n",
       "      <th></th>\n",
       "      <th>id</th>\n",
       "      <th>object_name</th>\n",
       "      <th>chain</th>\n",
       "      <th>object_type</th>\n",
       "      <th>address</th>\n",
       "      <th>number_x</th>\n",
       "      <th>mean_number</th>\n",
       "      <th>street</th>\n",
       "      <th>number_y</th>\n",
       "    </tr>\n",
       "  </thead>\n",
       "  <tbody>\n",
       "    <tr>\n",
       "      <th>0</th>\n",
       "      <td>149899</td>\n",
       "      <td>Сухарева Башня</td>\n",
       "      <td>нет</td>\n",
       "      <td>кафе</td>\n",
       "      <td>город Москва, проспект Мира, дом 5, корпус 1</td>\n",
       "      <td>10</td>\n",
       "      <td>40.0</td>\n",
       "      <td>проспект Мира</td>\n",
       "      <td>204</td>\n",
       "    </tr>\n",
       "    <tr>\n",
       "      <th>1</th>\n",
       "      <td>69300</td>\n",
       "      <td>Ваби-Саби</td>\n",
       "      <td>да</td>\n",
       "      <td>кафе</td>\n",
       "      <td>город Москва, проспект Мира, дом 29</td>\n",
       "      <td>64</td>\n",
       "      <td>40.0</td>\n",
       "      <td>проспект Мира</td>\n",
       "      <td>204</td>\n",
       "    </tr>\n",
       "    <tr>\n",
       "      <th>2</th>\n",
       "      <td>71378</td>\n",
       "      <td>Шоколадница</td>\n",
       "      <td>да</td>\n",
       "      <td>кафе</td>\n",
       "      <td>город Москва, проспект Мира, дом 29</td>\n",
       "      <td>40</td>\n",
       "      <td>40.0</td>\n",
       "      <td>проспект Мира</td>\n",
       "      <td>204</td>\n",
       "    </tr>\n",
       "    <tr>\n",
       "      <th>3</th>\n",
       "      <td>146123</td>\n",
       "      <td>Джаганнат</td>\n",
       "      <td>да</td>\n",
       "      <td>кафе</td>\n",
       "      <td>город Москва, проспект Мира, дом 31</td>\n",
       "      <td>25</td>\n",
       "      <td>40.0</td>\n",
       "      <td>проспект Мира</td>\n",
       "      <td>204</td>\n",
       "    </tr>\n",
       "    <tr>\n",
       "      <th>4</th>\n",
       "      <td>137644</td>\n",
       "      <td>Krispy Creme</td>\n",
       "      <td>да</td>\n",
       "      <td>кафе</td>\n",
       "      <td>город Москва, проспект Мира, дом 40</td>\n",
       "      <td>36</td>\n",
       "      <td>40.0</td>\n",
       "      <td>проспект Мира</td>\n",
       "      <td>204</td>\n",
       "    </tr>\n",
       "    <tr>\n",
       "      <th>...</th>\n",
       "      <td>...</td>\n",
       "      <td>...</td>\n",
       "      <td>...</td>\n",
       "      <td>...</td>\n",
       "      <td>...</td>\n",
       "      <td>...</td>\n",
       "      <td>...</td>\n",
       "      <td>...</td>\n",
       "      <td>...</td>\n",
       "    </tr>\n",
       "    <tr>\n",
       "      <th>1503</th>\n",
       "      <td>210964</td>\n",
       "      <td>Бургер Кинг</td>\n",
       "      <td>да</td>\n",
       "      <td>предприятие быстрого обслуживания</td>\n",
       "      <td>город Москва, Кировоградская улица, дом 9, кор...</td>\n",
       "      <td>43</td>\n",
       "      <td>21.0</td>\n",
       "      <td>Кировоградская улица</td>\n",
       "      <td>110</td>\n",
       "    </tr>\n",
       "    <tr>\n",
       "      <th>1504</th>\n",
       "      <td>216579</td>\n",
       "      <td>СтардогS</td>\n",
       "      <td>да</td>\n",
       "      <td>предприятие быстрого обслуживания</td>\n",
       "      <td>город Москва, Кировоградская улица, дом 14</td>\n",
       "      <td>0</td>\n",
       "      <td>21.0</td>\n",
       "      <td>Кировоградская улица</td>\n",
       "      <td>110</td>\n",
       "    </tr>\n",
       "    <tr>\n",
       "      <th>1505</th>\n",
       "      <td>205563</td>\n",
       "      <td>МСК Московская сеть кальянных</td>\n",
       "      <td>да</td>\n",
       "      <td>бар</td>\n",
       "      <td>город Москва, Кировоградская улица, дом 24А</td>\n",
       "      <td>100</td>\n",
       "      <td>43.0</td>\n",
       "      <td>Кировоградская улица</td>\n",
       "      <td>110</td>\n",
       "    </tr>\n",
       "    <tr>\n",
       "      <th>1506</th>\n",
       "      <td>214146</td>\n",
       "      <td>Макдоналдс</td>\n",
       "      <td>да</td>\n",
       "      <td>предприятие быстрого обслуживания</td>\n",
       "      <td>город Москва, Кировоградская улица, дом 13А</td>\n",
       "      <td>0</td>\n",
       "      <td>21.0</td>\n",
       "      <td>Кировоградская улица</td>\n",
       "      <td>110</td>\n",
       "    </tr>\n",
       "    <tr>\n",
       "      <th>1507</th>\n",
       "      <td>211232</td>\n",
       "      <td>Предприятие быстрого обслуживания «Милти»</td>\n",
       "      <td>да</td>\n",
       "      <td>предприятие быстрого обслуживания</td>\n",
       "      <td>город Москва, Кировоградская улица, дом 14</td>\n",
       "      <td>0</td>\n",
       "      <td>21.0</td>\n",
       "      <td>Кировоградская улица</td>\n",
       "      <td>110</td>\n",
       "    </tr>\n",
       "  </tbody>\n",
       "</table>\n",
       "<p>1508 rows × 9 columns</p>\n",
       "</div>"
      ],
      "text/plain": [
       "          id                                object_name chain  \\\n",
       "0     149899                             Сухарева Башня   нет   \n",
       "1      69300                                  Ваби-Саби    да   \n",
       "2      71378                                Шоколадница    да   \n",
       "3     146123                                  Джаганнат    да   \n",
       "4     137644                               Krispy Creme    да   \n",
       "...      ...                                        ...   ...   \n",
       "1503  210964                                Бургер Кинг    да   \n",
       "1504  216579                                   СтардогS    да   \n",
       "1505  205563              МСК Московская сеть кальянных    да   \n",
       "1506  214146                                 Макдоналдс    да   \n",
       "1507  211232  Предприятие быстрого обслуживания «Милти»    да   \n",
       "\n",
       "                            object_type  \\\n",
       "0                                  кафе   \n",
       "1                                  кафе   \n",
       "2                                  кафе   \n",
       "3                                  кафе   \n",
       "4                                  кафе   \n",
       "...                                 ...   \n",
       "1503  предприятие быстрого обслуживания   \n",
       "1504  предприятие быстрого обслуживания   \n",
       "1505                                бар   \n",
       "1506  предприятие быстрого обслуживания   \n",
       "1507  предприятие быстрого обслуживания   \n",
       "\n",
       "                                                address  number_x  \\\n",
       "0          город Москва, проспект Мира, дом 5, корпус 1        10   \n",
       "1                   город Москва, проспект Мира, дом 29        64   \n",
       "2                   город Москва, проспект Мира, дом 29        40   \n",
       "3                   город Москва, проспект Мира, дом 31        25   \n",
       "4                   город Москва, проспект Мира, дом 40        36   \n",
       "...                                                 ...       ...   \n",
       "1503  город Москва, Кировоградская улица, дом 9, кор...        43   \n",
       "1504         город Москва, Кировоградская улица, дом 14         0   \n",
       "1505        город Москва, Кировоградская улица, дом 24А       100   \n",
       "1506        город Москва, Кировоградская улица, дом 13А         0   \n",
       "1507         город Москва, Кировоградская улица, дом 14         0   \n",
       "\n",
       "      mean_number                street  number_y  \n",
       "0            40.0         проспект Мира       204  \n",
       "1            40.0         проспект Мира       204  \n",
       "2            40.0         проспект Мира       204  \n",
       "3            40.0         проспект Мира       204  \n",
       "4            40.0         проспект Мира       204  \n",
       "...           ...                   ...       ...  \n",
       "1503         21.0  Кировоградская улица       110  \n",
       "1504         21.0  Кировоградская улица       110  \n",
       "1505         43.0  Кировоградская улица       110  \n",
       "1506         21.0  Кировоградская улица       110  \n",
       "1507         21.0  Кировоградская улица       110  \n",
       "\n",
       "[1508 rows x 9 columns]"
      ]
     },
     "execution_count": 22,
     "metadata": {},
     "output_type": "execute_result"
    }
   ],
   "source": [
    "df_top = df.merge(street_table.head(10), on='street', how='right')\n",
    "df_top"
   ]
  },
  {
   "cell_type": "code",
   "execution_count": 23,
   "metadata": {},
   "outputs": [
    {
     "data": {
      "text/plain": [
       "Text(0.5, 1.0, 'Количество посадочных мест')"
      ]
     },
     "execution_count": 23,
     "metadata": {},
     "output_type": "execute_result"
    },
    {
     "data": {
      "image/png": "[encoded data removed]",
      "text/plain": [
       "<Figure size 432x288 with 1 Axes>"
      ]
     },
     "metadata": {
      "needs_background": "light"
     },
     "output_type": "display_data"
    }
   ],
   "source": [
    "sns.barplot(x='street', y='number_x', data= df_top)\n",
    "plt.xticks(rotation=60, horizontalalignment='right', fontsize=14)\n",
    "plt.yticks(fontsize=12)\n",
    "plt.title('Количество посадочных мест')"
   ]
  },
  {
   "cell_type": "markdown",
   "metadata": {},
   "source": [
    "По числу посадочных мест лидируют заведения на Кутузовском проспекте, но в большинстве заведений 50-60 мест."
   ]
  },
  {
   "cell_type": "markdown",
   "metadata": {},
   "source": [
    "## Вывод"
   ]
  },
  {
   "cell_type": "markdown",
   "metadata": {},
   "source": [
    "Итак, можно сделать следующие выводы:\n",
    "1. Самый популярный тип заведения — кафе, за ними идут столовые и рестораны.\n",
    "2. 80.7% заведений — несетевые. При этом чаще всего сетевыми бывают кафе, за ними идут предприятия быстрого обслуживания и рестораны. Но по процентному соотношению сетевых к несетевым заведениям на первом месте предприятия быстрого обслуживания, за ними отделы кулинарии в магазинах и рестораны и только потом кафе.\n",
    "3. Для сетевых заведений более характерно большое число мест и небольшое количество заведений.\n",
    "4. Самое большое количество посадочных мест в столовых, за ними с относительно небольшим отрывом идут рестораны.\n",
    "5. Большинство заведений расположено на улицах проспект Мира, Профсоюзная улица, Ленинградский проспект, Пресненская набережная, Варшавское шоссе, Ленинский проспект, проспект Вернадского, Кутузовский проспект, Каширское шоссе, Кировоградская улица.\n",
    "6. На \"популярных улицах\" в среднем по 50-60 мест. \n",
    "\n",
    "**Рекомендации**:\n",
    "1. Наиболее выгодным вариантом будет предприятие быстрого обслуживания с 20-30 местами или ресторан с 80-100 местами. У обоих видов заведений относительно низкая конкуренция и большой шанс стать сетью (у предприятия быстрого обслуживания шанс немного выше). Преимуществом ресторана будут более высокие цены, благодаря которым и легче будет заработать деньги на обслуживание роботов, и, в то же время, поднять цены именно засчёт \"необычного обслуживания\".\n",
    "2. Выбирать место следует в округах ЦАО, ЮАО, САО, ЮВАО. С одной стороны, можно выбрать улицы, где нет бешеной конкуренции, с другой стороны, можно найти место с красивой локацией."
   ]
  },
  {
   "cell_type": "markdown",
   "metadata": {},
   "source": [
    "Презентация: https://yadi.sk/i/FhfaiOttJkP6Ew"
   ]
  }
 ],
 "metadata": {
  "ExecuteTimeLog": [
   {
    "duration": 389,
    "start_time": "2022-04-12T08:24:50.737Z"
   },
   {
    "duration": 54,
    "start_time": "2022-04-12T08:25:38.124Z"
   },
   {
    "duration": 11,
    "start_time": "2022-04-12T08:26:23.964Z"
   },
   {
    "duration": 14,
    "start_time": "2022-04-12T08:26:34.698Z"
   },
   {
    "duration": 580,
    "start_time": "2022-04-13T11:27:08.114Z"
   },
   {
    "duration": 96,
    "start_time": "2022-04-13T11:27:09.392Z"
   },
   {
    "duration": 22,
    "start_time": "2022-04-13T11:27:10.450Z"
   },
   {
    "duration": 30,
    "start_time": "2022-04-13T11:27:11.341Z"
   },
   {
    "duration": 5,
    "start_time": "2022-04-13T11:27:14.095Z"
   },
   {
    "duration": 7,
    "start_time": "2022-04-13T11:27:48.396Z"
   },
   {
    "duration": 390,
    "start_time": "2022-04-15T10:27:49.482Z"
   },
   {
    "duration": 87,
    "start_time": "2022-04-15T10:27:50.831Z"
   },
   {
    "duration": 15,
    "start_time": "2022-04-15T10:27:51.867Z"
   },
   {
    "duration": 17,
    "start_time": "2022-04-15T10:27:52.798Z"
   },
   {
    "duration": 20,
    "start_time": "2022-04-15T10:29:11.539Z"
   },
   {
    "duration": 14,
    "start_time": "2022-04-15T10:29:54.155Z"
   },
   {
    "duration": 10,
    "start_time": "2022-04-15T10:30:20.310Z"
   },
   {
    "duration": 18,
    "start_time": "2022-04-15T10:30:23.499Z"
   },
   {
    "duration": 95,
    "start_time": "2022-04-15T10:32:31.607Z"
   },
   {
    "duration": 18,
    "start_time": "2022-04-15T10:32:41.950Z"
   },
   {
    "duration": 16,
    "start_time": "2022-04-15T10:33:50.885Z"
   },
   {
    "duration": 964,
    "start_time": "2022-04-15T10:45:13.212Z"
   },
   {
    "duration": 49,
    "start_time": "2022-04-15T10:47:19.411Z"
   },
   {
    "duration": 9,
    "start_time": "2022-04-15T10:47:41.467Z"
   },
   {
    "duration": 15,
    "start_time": "2022-04-15T10:47:51.821Z"
   },
   {
    "duration": 443,
    "start_time": "2022-04-15T10:48:07.265Z"
   },
   {
    "duration": 693,
    "start_time": "2022-04-15T13:20:57.937Z"
   },
   {
    "duration": 131,
    "start_time": "2022-04-15T13:21:00.412Z"
   },
   {
    "duration": 22,
    "start_time": "2022-04-15T13:21:02.233Z"
   },
   {
    "duration": 28,
    "start_time": "2022-04-15T13:21:03.070Z"
   },
   {
    "duration": 26,
    "start_time": "2022-04-15T13:21:05.427Z"
   },
   {
    "duration": 27,
    "start_time": "2022-04-15T13:21:11.856Z"
   },
   {
    "duration": 101,
    "start_time": "2022-04-15T13:22:36.413Z"
   },
   {
    "duration": 785,
    "start_time": "2022-04-15T13:22:48.334Z"
   },
   {
    "duration": 305,
    "start_time": "2022-04-15T13:24:13.244Z"
   },
   {
    "duration": 15,
    "start_time": "2022-04-15T13:24:26.229Z"
   },
   {
    "duration": 12,
    "start_time": "2022-04-15T13:24:49.535Z"
   },
   {
    "duration": 158,
    "start_time": "2022-04-15T13:40:27.768Z"
   },
   {
    "duration": 12,
    "start_time": "2022-04-15T13:44:31.576Z"
   },
   {
    "duration": 19,
    "start_time": "2022-04-15T13:44:56.600Z"
   },
   {
    "duration": 17,
    "start_time": "2022-04-15T13:46:48.660Z"
   },
   {
    "duration": 17,
    "start_time": "2022-04-15T13:47:06.244Z"
   },
   {
    "duration": 20,
    "start_time": "2022-04-15T13:47:16.390Z"
   },
   {
    "duration": 206,
    "start_time": "2022-04-15T13:48:20.833Z"
   },
   {
    "duration": 18,
    "start_time": "2022-04-15T13:48:28.554Z"
   },
   {
    "duration": 16,
    "start_time": "2022-04-15T13:48:59.640Z"
   },
   {
    "duration": 18,
    "start_time": "2022-04-15T13:49:28.922Z"
   },
   {
    "duration": 17,
    "start_time": "2022-04-15T13:49:52.204Z"
   },
   {
    "duration": 615,
    "start_time": "2022-04-15T13:50:07.678Z"
   },
   {
    "duration": 30,
    "start_time": "2022-04-15T13:50:17.865Z"
   },
   {
    "duration": 18,
    "start_time": "2022-04-15T13:51:34.598Z"
   },
   {
    "duration": 17,
    "start_time": "2022-04-15T13:52:08.071Z"
   },
   {
    "duration": 235,
    "start_time": "2022-04-15T13:52:18.987Z"
   },
   {
    "duration": 159,
    "start_time": "2022-04-15T13:52:47.939Z"
   },
   {
    "duration": 750,
    "start_time": "2022-04-16T10:05:47.362Z"
   },
   {
    "duration": 56,
    "start_time": "2022-04-16T10:05:49.142Z"
   },
   {
    "duration": 15,
    "start_time": "2022-04-16T10:05:50.124Z"
   },
   {
    "duration": 14,
    "start_time": "2022-04-16T10:05:50.942Z"
   },
   {
    "duration": 17,
    "start_time": "2022-04-16T10:05:52.275Z"
   },
   {
    "duration": 17,
    "start_time": "2022-04-16T10:05:54.183Z"
   },
   {
    "duration": 158,
    "start_time": "2022-04-16T10:06:03.038Z"
   },
   {
    "duration": 138,
    "start_time": "2022-04-16T10:07:22.257Z"
   },
   {
    "duration": 136,
    "start_time": "2022-04-16T10:07:55.571Z"
   },
   {
    "duration": 131,
    "start_time": "2022-04-16T10:12:00.850Z"
   },
   {
    "duration": 271,
    "start_time": "2022-04-16T10:12:10.420Z"
   },
   {
    "duration": 134,
    "start_time": "2022-04-16T10:12:38.625Z"
   },
   {
    "duration": 66,
    "start_time": "2022-04-16T10:13:15.321Z"
   },
   {
    "duration": 81,
    "start_time": "2022-04-16T10:13:28.382Z"
   },
   {
    "duration": 124,
    "start_time": "2022-04-16T10:14:42.114Z"
   },
   {
    "duration": 136,
    "start_time": "2022-04-16T10:15:20.831Z"
   },
   {
    "duration": 135,
    "start_time": "2022-04-16T10:16:10.256Z"
   },
   {
    "duration": 142,
    "start_time": "2022-04-16T10:16:30.937Z"
   },
   {
    "duration": 142,
    "start_time": "2022-04-16T10:16:47.178Z"
   },
   {
    "duration": 97,
    "start_time": "2022-04-16T10:17:21.427Z"
   },
   {
    "duration": 139,
    "start_time": "2022-04-16T10:17:37.322Z"
   },
   {
    "duration": 106,
    "start_time": "2022-04-16T10:18:03.172Z"
   },
   {
    "duration": 79,
    "start_time": "2022-04-16T10:18:08.633Z"
   },
   {
    "duration": 143,
    "start_time": "2022-04-16T10:19:04.050Z"
   },
   {
    "duration": 189,
    "start_time": "2022-04-16T10:22:42.562Z"
   },
   {
    "duration": 134,
    "start_time": "2022-04-16T10:23:23.233Z"
   },
   {
    "duration": 136,
    "start_time": "2022-04-16T10:24:03.876Z"
   },
   {
    "duration": 147,
    "start_time": "2022-04-16T10:27:14.661Z"
   },
   {
    "duration": 416,
    "start_time": "2022-04-16T10:40:58.026Z"
   },
   {
    "duration": 151,
    "start_time": "2022-04-16T10:44:12.880Z"
   },
   {
    "duration": 221,
    "start_time": "2022-04-16T10:44:36.623Z"
   },
   {
    "duration": 128,
    "start_time": "2022-04-16T10:45:15.423Z"
   },
   {
    "duration": 1294,
    "start_time": "2022-04-16T18:03:15.536Z"
   },
   {
    "duration": 106,
    "start_time": "2022-04-16T18:03:19.310Z"
   },
   {
    "duration": 15,
    "start_time": "2022-04-16T18:03:20.037Z"
   },
   {
    "duration": 15,
    "start_time": "2022-04-16T18:03:20.530Z"
   },
   {
    "duration": 23,
    "start_time": "2022-04-16T18:03:21.817Z"
   },
   {
    "duration": 17,
    "start_time": "2022-04-16T18:03:22.771Z"
   },
   {
    "duration": 245,
    "start_time": "2022-04-16T18:10:15.381Z"
   },
   {
    "duration": 102,
    "start_time": "2022-04-16T18:11:29.552Z"
   },
   {
    "duration": 147,
    "start_time": "2022-04-16T18:13:44.217Z"
   },
   {
    "duration": 2,
    "start_time": "2022-04-16T18:13:52.014Z"
   },
   {
    "duration": 177,
    "start_time": "2022-04-16T18:13:58.445Z"
   },
   {
    "duration": 1438,
    "start_time": "2022-04-18T09:16:14.667Z"
   },
   {
    "duration": 76,
    "start_time": "2022-04-18T09:16:16.108Z"
   },
   {
    "duration": 17,
    "start_time": "2022-04-18T09:16:16.663Z"
   },
   {
    "duration": 17,
    "start_time": "2022-04-18T09:16:17.389Z"
   },
   {
    "duration": 19,
    "start_time": "2022-04-18T09:16:20.002Z"
   },
   {
    "duration": 207,
    "start_time": "2022-04-18T09:16:55.686Z"
   },
   {
    "duration": 112,
    "start_time": "2022-04-18T09:21:55.839Z"
   },
   {
    "duration": 130,
    "start_time": "2022-04-18T09:26:21.259Z"
   },
   {
    "duration": 70,
    "start_time": "2022-04-18T09:26:47.490Z"
   },
   {
    "duration": 12,
    "start_time": "2022-04-18T09:28:18.527Z"
   },
   {
    "duration": 186,
    "start_time": "2022-04-18T09:29:26.130Z"
   },
   {
    "duration": 437,
    "start_time": "2022-04-18T09:31:30.922Z"
   },
   {
    "duration": 139,
    "start_time": "2022-04-18T09:32:04.987Z"
   },
   {
    "duration": 10,
    "start_time": "2022-04-18T09:33:28.446Z"
   },
   {
    "duration": 9,
    "start_time": "2022-04-18T09:33:39.390Z"
   },
   {
    "duration": 111,
    "start_time": "2022-04-18T09:34:14.651Z"
   },
   {
    "duration": 83,
    "start_time": "2022-04-18T09:34:25.295Z"
   },
   {
    "duration": 10,
    "start_time": "2022-04-18T09:47:11.413Z"
   },
   {
    "duration": 12,
    "start_time": "2022-04-18T09:47:19.326Z"
   },
   {
    "duration": 16,
    "start_time": "2022-04-18T09:48:32.876Z"
   },
   {
    "duration": 9,
    "start_time": "2022-04-18T09:53:05.036Z"
   },
   {
    "duration": 17,
    "start_time": "2022-04-18T09:57:57.250Z"
   },
   {
    "duration": 16,
    "start_time": "2022-04-18T09:58:00.803Z"
   },
   {
    "duration": 241,
    "start_time": "2022-04-18T09:58:48.641Z"
   },
   {
    "duration": 182,
    "start_time": "2022-04-18T09:59:17.545Z"
   },
   {
    "duration": 150,
    "start_time": "2022-04-18T10:00:28.454Z"
   },
   {
    "duration": 177,
    "start_time": "2022-04-18T10:00:43.964Z"
   },
   {
    "duration": 377,
    "start_time": "2022-04-18T10:29:18.320Z"
   },
   {
    "duration": 17,
    "start_time": "2022-04-18T10:29:43.848Z"
   },
   {
    "duration": 16,
    "start_time": "2022-04-18T10:30:00.242Z"
   },
   {
    "duration": 4069,
    "start_time": "2022-04-18T10:30:16.922Z"
   },
   {
    "duration": 180,
    "start_time": "2022-04-18T10:31:10.386Z"
   },
   {
    "duration": 148,
    "start_time": "2022-04-18T10:31:29.832Z"
   },
   {
    "duration": 182,
    "start_time": "2022-04-18T10:32:10.420Z"
   },
   {
    "duration": 195,
    "start_time": "2022-04-18T10:33:57.358Z"
   },
   {
    "duration": 97,
    "start_time": "2022-04-18T12:56:47.686Z"
   },
   {
    "duration": 11,
    "start_time": "2022-04-18T12:57:12.090Z"
   },
   {
    "duration": 9,
    "start_time": "2022-04-18T12:59:14.037Z"
   },
   {
    "duration": 9,
    "start_time": "2022-04-18T12:59:50.771Z"
   },
   {
    "duration": 9,
    "start_time": "2022-04-18T13:00:04.363Z"
   },
   {
    "duration": 9,
    "start_time": "2022-04-18T13:02:35.944Z"
   },
   {
    "duration": 3,
    "start_time": "2022-04-18T13:05:00.389Z"
   },
   {
    "duration": 71,
    "start_time": "2022-04-18T13:05:01.415Z"
   },
   {
    "duration": 18,
    "start_time": "2022-04-18T13:05:02.136Z"
   },
   {
    "duration": 18,
    "start_time": "2022-04-18T13:05:03.430Z"
   },
   {
    "duration": 1173,
    "start_time": "2022-04-18T13:05:16.426Z"
   },
   {
    "duration": 66,
    "start_time": "2022-04-18T13:05:18.204Z"
   },
   {
    "duration": 16,
    "start_time": "2022-04-18T13:05:18.939Z"
   },
   {
    "duration": 17,
    "start_time": "2022-04-18T13:05:19.466Z"
   },
   {
    "duration": 17,
    "start_time": "2022-04-18T13:05:21.223Z"
   },
   {
    "duration": 20,
    "start_time": "2022-04-18T13:05:22.561Z"
   },
   {
    "duration": 206,
    "start_time": "2022-04-18T13:05:24.724Z"
   },
   {
    "duration": 114,
    "start_time": "2022-04-18T13:05:27.197Z"
   },
   {
    "duration": 83,
    "start_time": "2022-04-18T13:05:28.253Z"
   },
   {
    "duration": 196,
    "start_time": "2022-04-18T13:05:31.247Z"
   },
   {
    "duration": 42958,
    "start_time": "2022-04-18T13:05:43.432Z"
   },
   {
    "duration": 6,
    "start_time": "2022-04-18T13:06:26.393Z"
   },
   {
    "duration": 100,
    "start_time": "2022-04-18T13:06:51.057Z"
   },
   {
    "duration": 1234,
    "start_time": "2022-04-18T13:07:54.841Z"
   },
   {
    "duration": 63,
    "start_time": "2022-04-18T13:07:59.151Z"
   },
   {
    "duration": 15,
    "start_time": "2022-04-18T13:07:59.869Z"
   },
   {
    "duration": 18,
    "start_time": "2022-04-18T13:08:00.305Z"
   },
   {
    "duration": 19,
    "start_time": "2022-04-18T13:08:01.333Z"
   },
   {
    "duration": 21,
    "start_time": "2022-04-18T13:08:01.812Z"
   },
   {
    "duration": 201,
    "start_time": "2022-04-18T13:08:02.950Z"
   },
   {
    "duration": 116,
    "start_time": "2022-04-18T13:08:03.983Z"
   },
   {
    "duration": 82,
    "start_time": "2022-04-18T13:08:04.311Z"
   },
   {
    "duration": 196,
    "start_time": "2022-04-18T13:08:05.389Z"
   },
   {
    "duration": 43350,
    "start_time": "2022-04-18T13:08:11.025Z"
   },
   {
    "duration": 196,
    "start_time": "2022-04-18T13:10:54.668Z"
   },
   {
    "duration": 6,
    "start_time": "2022-04-18T13:11:20.853Z"
   },
   {
    "duration": 5,
    "start_time": "2022-04-18T13:11:42.755Z"
   },
   {
    "duration": 3,
    "start_time": "2022-04-18T13:12:05.258Z"
   },
   {
    "duration": 4,
    "start_time": "2022-04-18T13:12:27.325Z"
   },
   {
    "duration": 5,
    "start_time": "2022-04-18T13:13:06.995Z"
   },
   {
    "duration": 4,
    "start_time": "2022-04-18T13:13:44.725Z"
   },
   {
    "duration": 144,
    "start_time": "2022-04-18T13:14:01.470Z"
   },
   {
    "duration": 5,
    "start_time": "2022-04-18T13:14:25.312Z"
   },
   {
    "duration": 4,
    "start_time": "2022-04-18T13:14:41.430Z"
   },
   {
    "duration": 4,
    "start_time": "2022-04-18T13:15:03.555Z"
   },
   {
    "duration": 113,
    "start_time": "2022-04-18T16:15:46.043Z"
   },
   {
    "duration": 19,
    "start_time": "2022-04-18T16:16:04.389Z"
   },
   {
    "duration": 267,
    "start_time": "2022-04-18T16:16:19.304Z"
   },
   {
    "duration": 200,
    "start_time": "2022-04-18T16:16:42.992Z"
   },
   {
    "duration": 274,
    "start_time": "2022-04-18T16:17:05.762Z"
   },
   {
    "duration": 17,
    "start_time": "2022-04-18T16:25:38.916Z"
   },
   {
    "duration": 25,
    "start_time": "2022-04-18T16:25:45.998Z"
   },
   {
    "duration": 24,
    "start_time": "2022-04-18T16:25:58.025Z"
   },
   {
    "duration": 27,
    "start_time": "2022-04-18T16:26:10.321Z"
   },
   {
    "duration": 83,
    "start_time": "2022-04-18T16:26:59.427Z"
   },
   {
    "duration": 87,
    "start_time": "2022-04-18T16:27:09.924Z"
   },
   {
    "duration": 23,
    "start_time": "2022-04-18T16:27:19.709Z"
   },
   {
    "duration": 23,
    "start_time": "2022-04-18T16:28:26.236Z"
   },
   {
    "duration": 238,
    "start_time": "2022-04-18T16:33:14.279Z"
   },
   {
    "duration": 237,
    "start_time": "2022-04-18T16:33:40.305Z"
   },
   {
    "duration": 11,
    "start_time": "2022-04-18T17:58:01.102Z"
   },
   {
    "duration": 241,
    "start_time": "2022-04-18T17:58:12.247Z"
   },
   {
    "duration": 14,
    "start_time": "2022-04-18T17:59:08.995Z"
   },
   {
    "duration": 12,
    "start_time": "2022-04-18T18:01:51.869Z"
   },
   {
    "duration": 10,
    "start_time": "2022-04-18T18:02:09.958Z"
   },
   {
    "duration": 11,
    "start_time": "2022-04-18T18:04:54.236Z"
   },
   {
    "duration": 11,
    "start_time": "2022-04-18T18:06:45.530Z"
   },
   {
    "duration": 220,
    "start_time": "2022-04-18T18:08:06.673Z"
   },
   {
    "duration": 9,
    "start_time": "2022-04-18T18:08:45.406Z"
   },
   {
    "duration": 11,
    "start_time": "2022-04-18T18:08:55.882Z"
   },
   {
    "duration": 10,
    "start_time": "2022-04-18T18:09:16.802Z"
   },
   {
    "duration": 767,
    "start_time": "2022-04-18T18:09:46.345Z"
   },
   {
    "duration": 1803,
    "start_time": "2022-04-19T11:28:14.715Z"
   },
   {
    "duration": 104,
    "start_time": "2022-04-19T11:28:17.385Z"
   },
   {
    "duration": 26,
    "start_time": "2022-04-19T11:28:18.366Z"
   },
   {
    "duration": 24,
    "start_time": "2022-04-19T11:28:19.032Z"
   },
   {
    "duration": 30,
    "start_time": "2022-04-19T11:28:20.452Z"
   },
   {
    "duration": 28,
    "start_time": "2022-04-19T11:28:21.505Z"
   },
   {
    "duration": 324,
    "start_time": "2022-04-19T11:28:24.104Z"
   },
   {
    "duration": 181,
    "start_time": "2022-04-19T11:28:27.158Z"
   },
   {
    "duration": 134,
    "start_time": "2022-04-19T11:28:28.097Z"
   },
   {
    "duration": 523,
    "start_time": "2022-04-19T11:28:30.165Z"
   },
   {
    "duration": 418,
    "start_time": "2022-04-19T11:28:31.745Z"
   },
   {
    "duration": 1240,
    "start_time": "2022-04-19T11:28:35.261Z"
   },
   {
    "duration": 9,
    "start_time": "2022-04-19T11:31:12.823Z"
   },
   {
    "duration": 23,
    "start_time": "2022-04-19T11:31:16.935Z"
   },
   {
    "duration": 10,
    "start_time": "2022-04-19T11:31:48.252Z"
   },
   {
    "duration": 28,
    "start_time": "2022-04-19T11:31:56.350Z"
   },
   {
    "duration": 177,
    "start_time": "2022-04-19T11:33:32.580Z"
   },
   {
    "duration": 765,
    "start_time": "2022-04-19T11:33:44.704Z"
   },
   {
    "duration": 755,
    "start_time": "2022-04-19T11:34:12.564Z"
   },
   {
    "duration": 687,
    "start_time": "2022-04-19T11:34:46.690Z"
   },
   {
    "duration": 1212,
    "start_time": "2022-04-19T11:36:49.081Z"
   },
   {
    "duration": 19,
    "start_time": "2022-04-19T11:41:39.104Z"
   },
   {
    "duration": 154,
    "start_time": "2022-04-19T11:42:03.248Z"
   },
   {
    "duration": 1012,
    "start_time": "2022-04-19T11:42:11.196Z"
   },
   {
    "duration": 1234,
    "start_time": "2022-04-19T11:43:05.876Z"
   },
   {
    "duration": 6,
    "start_time": "2022-04-19T11:48:00.641Z"
   },
   {
    "duration": 19,
    "start_time": "2022-04-19T11:50:47.227Z"
   },
   {
    "duration": 25,
    "start_time": "2022-04-19T11:51:39.308Z"
   },
   {
    "duration": 22,
    "start_time": "2022-04-19T11:51:58.367Z"
   },
   {
    "duration": 18,
    "start_time": "2022-04-19T11:52:41.486Z"
   },
   {
    "duration": 24,
    "start_time": "2022-04-19T11:53:00.894Z"
   },
   {
    "duration": 27,
    "start_time": "2022-04-19T11:53:10.772Z"
   },
   {
    "duration": 124,
    "start_time": "2022-04-19T11:54:05.093Z"
   },
   {
    "duration": 41,
    "start_time": "2022-04-19T11:54:11.406Z"
   },
   {
    "duration": 13,
    "start_time": "2022-04-19T11:59:46.109Z"
   },
   {
    "duration": 5,
    "start_time": "2022-04-19T11:59:54.618Z"
   },
   {
    "duration": 147,
    "start_time": "2022-04-19T12:00:05.509Z"
   },
   {
    "duration": 216,
    "start_time": "2022-04-19T12:00:12.012Z"
   },
   {
    "duration": 143,
    "start_time": "2022-04-19T12:00:22.463Z"
   },
   {
    "duration": 22,
    "start_time": "2022-04-19T12:00:54.410Z"
   },
   {
    "duration": 23,
    "start_time": "2022-04-19T12:01:10.440Z"
   },
   {
    "duration": 61,
    "start_time": "2022-04-19T12:04:37.595Z"
   },
   {
    "duration": 27,
    "start_time": "2022-04-19T12:05:58.085Z"
   },
   {
    "duration": 33,
    "start_time": "2022-04-19T12:06:40.909Z"
   },
   {
    "duration": 1539,
    "start_time": "2022-04-19T12:07:23.157Z"
   },
   {
    "duration": 87,
    "start_time": "2022-04-19T12:07:24.699Z"
   },
   {
    "duration": 34,
    "start_time": "2022-04-19T12:07:24.789Z"
   },
   {
    "duration": 53,
    "start_time": "2022-04-19T12:07:24.827Z"
   },
   {
    "duration": 39,
    "start_time": "2022-04-19T12:07:24.949Z"
   },
   {
    "duration": 26,
    "start_time": "2022-04-19T12:07:25.319Z"
   },
   {
    "duration": 313,
    "start_time": "2022-04-19T12:07:26.276Z"
   },
   {
    "duration": 173,
    "start_time": "2022-04-19T12:07:26.792Z"
   },
   {
    "duration": 151,
    "start_time": "2022-04-19T12:07:26.971Z"
   },
   {
    "duration": 317,
    "start_time": "2022-04-19T12:07:27.318Z"
   },
   {
    "duration": 414,
    "start_time": "2022-04-19T12:07:27.639Z"
   },
   {
    "duration": 1119,
    "start_time": "2022-04-19T12:07:28.056Z"
   },
   {
    "duration": 801,
    "start_time": "2022-04-19T12:07:29.177Z"
   },
   {
    "duration": 173,
    "start_time": "2022-04-19T12:07:29.980Z"
   },
   {
    "duration": 26,
    "start_time": "2022-04-19T12:07:43.483Z"
   },
   {
    "duration": 40,
    "start_time": "2022-04-19T12:08:08.415Z"
   },
   {
    "duration": 10,
    "start_time": "2022-04-19T12:26:45.474Z"
   },
   {
    "duration": 61,
    "start_time": "2022-04-19T12:26:54.504Z"
   },
   {
    "duration": 14,
    "start_time": "2022-04-19T12:27:05.735Z"
   },
   {
    "duration": 13,
    "start_time": "2022-04-19T12:27:19.030Z"
   },
   {
    "duration": 8,
    "start_time": "2022-04-19T12:27:33.285Z"
   },
   {
    "duration": 40,
    "start_time": "2022-04-19T12:31:43.754Z"
   },
   {
    "duration": 39,
    "start_time": "2022-04-19T12:32:21.650Z"
   },
   {
    "duration": 34,
    "start_time": "2022-04-19T12:49:45.648Z"
   },
   {
    "duration": 15,
    "start_time": "2022-04-19T12:51:46.924Z"
   },
   {
    "duration": 12,
    "start_time": "2022-04-19T12:51:56.235Z"
   },
   {
    "duration": 13,
    "start_time": "2022-04-19T12:52:15.365Z"
   },
   {
    "duration": 33,
    "start_time": "2022-04-19T12:52:20.352Z"
   },
   {
    "duration": 40,
    "start_time": "2022-04-19T12:52:59.601Z"
   },
   {
    "duration": 25,
    "start_time": "2022-04-19T12:54:14.085Z"
   },
   {
    "duration": 83,
    "start_time": "2022-04-19T12:55:57.354Z"
   },
   {
    "duration": 14,
    "start_time": "2022-04-19T12:56:16.838Z"
   },
   {
    "duration": 14,
    "start_time": "2022-04-19T12:56:37.067Z"
   },
   {
    "duration": 14,
    "start_time": "2022-04-19T12:57:08.708Z"
   },
   {
    "duration": 43,
    "start_time": "2022-04-19T12:57:20.512Z"
   },
   {
    "duration": 13,
    "start_time": "2022-04-19T12:57:27.213Z"
   },
   {
    "duration": 15,
    "start_time": "2022-04-19T12:58:09.262Z"
   },
   {
    "duration": 43,
    "start_time": "2022-04-19T12:58:21.062Z"
   },
   {
    "duration": 15,
    "start_time": "2022-04-19T12:58:30.300Z"
   },
   {
    "duration": 48,
    "start_time": "2022-04-19T12:59:28.985Z"
   },
   {
    "duration": 66,
    "start_time": "2022-04-19T13:00:15.122Z"
   },
   {
    "duration": 87,
    "start_time": "2022-04-19T13:00:37.152Z"
   },
   {
    "duration": 16,
    "start_time": "2022-04-19T13:02:15.507Z"
   },
   {
    "duration": 30,
    "start_time": "2022-04-19T13:03:09.495Z"
   },
   {
    "duration": 121,
    "start_time": "2022-04-19T13:05:04.237Z"
   },
   {
    "duration": 47,
    "start_time": "2022-04-19T13:05:11.551Z"
   },
   {
    "duration": 43,
    "start_time": "2022-04-19T13:06:48.592Z"
   },
   {
    "duration": 15,
    "start_time": "2022-04-19T13:08:30.224Z"
   },
   {
    "duration": 3,
    "start_time": "2022-04-19T13:09:12.046Z"
   },
   {
    "duration": 84,
    "start_time": "2022-04-19T13:09:12.473Z"
   },
   {
    "duration": 21,
    "start_time": "2022-04-19T13:09:12.852Z"
   },
   {
    "duration": 22,
    "start_time": "2022-04-19T13:09:13.265Z"
   },
   {
    "duration": 21,
    "start_time": "2022-04-19T13:09:14.271Z"
   },
   {
    "duration": 26,
    "start_time": "2022-04-19T13:09:14.887Z"
   },
   {
    "duration": 303,
    "start_time": "2022-04-19T13:09:16.369Z"
   },
   {
    "duration": 187,
    "start_time": "2022-04-19T13:09:17.243Z"
   },
   {
    "duration": 179,
    "start_time": "2022-04-19T13:09:17.532Z"
   },
   {
    "duration": 496,
    "start_time": "2022-04-19T13:09:18.172Z"
   },
   {
    "duration": 601,
    "start_time": "2022-04-19T13:09:18.671Z"
   },
   {
    "duration": 1660,
    "start_time": "2022-04-19T13:09:19.276Z"
   },
   {
    "duration": 742,
    "start_time": "2022-04-19T13:09:20.938Z"
   },
   {
    "duration": 48,
    "start_time": "2022-04-19T13:09:21.683Z"
   },
   {
    "duration": 27,
    "start_time": "2022-04-19T13:09:21.767Z"
   },
   {
    "duration": 1632,
    "start_time": "2022-04-19T13:09:40.517Z"
   },
   {
    "duration": 106,
    "start_time": "2022-04-19T13:09:42.153Z"
   },
   {
    "duration": 21,
    "start_time": "2022-04-19T13:09:42.262Z"
   },
   {
    "duration": 24,
    "start_time": "2022-04-19T13:09:42.286Z"
   },
   {
    "duration": 27,
    "start_time": "2022-04-19T13:09:43.806Z"
   },
   {
    "duration": 33,
    "start_time": "2022-04-19T13:09:45.847Z"
   },
   {
    "duration": 367,
    "start_time": "2022-04-19T13:09:48.935Z"
   },
   {
    "duration": 185,
    "start_time": "2022-04-19T13:09:51.521Z"
   },
   {
    "duration": 153,
    "start_time": "2022-04-19T13:09:52.336Z"
   },
   {
    "duration": 315,
    "start_time": "2022-04-19T13:09:53.566Z"
   },
   {
    "duration": 396,
    "start_time": "2022-04-19T13:09:54.606Z"
   },
   {
    "duration": 1291,
    "start_time": "2022-04-19T13:09:56.260Z"
   },
   {
    "duration": 1397,
    "start_time": "2022-04-19T13:09:59.668Z"
   },
   {
    "duration": 56,
    "start_time": "2022-04-19T13:10:03.735Z"
   },
   {
    "duration": 17,
    "start_time": "2022-04-19T13:10:06.198Z"
   },
   {
    "duration": 14,
    "start_time": "2022-04-19T13:10:26.342Z"
   },
   {
    "duration": 111,
    "start_time": "2022-04-19T13:32:44.097Z"
   },
   {
    "duration": 381,
    "start_time": "2022-04-19T13:32:54.303Z"
   },
   {
    "duration": 735,
    "start_time": "2022-04-19T13:36:13.688Z"
   },
   {
    "duration": 59,
    "start_time": "2022-04-19T13:40:42.931Z"
   },
   {
    "duration": 391,
    "start_time": "2022-04-19T13:41:44.339Z"
   },
   {
    "duration": 160,
    "start_time": "2022-04-19T13:46:52.901Z"
   },
   {
    "duration": 15,
    "start_time": "2022-04-19T13:47:26.460Z"
   },
   {
    "duration": 86,
    "start_time": "2022-04-19T13:47:37.093Z"
   },
   {
    "duration": 28,
    "start_time": "2022-04-19T13:48:15.301Z"
   },
   {
    "duration": 24,
    "start_time": "2022-04-19T13:48:40.694Z"
   },
   {
    "duration": 79,
    "start_time": "2022-04-19T13:49:16.765Z"
   },
   {
    "duration": 24,
    "start_time": "2022-04-19T13:50:11.965Z"
   },
   {
    "duration": 1739,
    "start_time": "2022-04-19T13:50:44.129Z"
   },
   {
    "duration": 84,
    "start_time": "2022-04-19T13:50:46.339Z"
   },
   {
    "duration": 20,
    "start_time": "2022-04-19T13:50:46.793Z"
   },
   {
    "duration": 23,
    "start_time": "2022-04-19T13:50:47.184Z"
   },
   {
    "duration": 26,
    "start_time": "2022-04-19T13:50:48.233Z"
   },
   {
    "duration": 28,
    "start_time": "2022-04-19T13:50:48.881Z"
   },
   {
    "duration": 310,
    "start_time": "2022-04-19T13:50:50.314Z"
   },
   {
    "duration": 181,
    "start_time": "2022-04-19T13:50:51.124Z"
   },
   {
    "duration": 139,
    "start_time": "2022-04-19T13:50:51.366Z"
   },
   {
    "duration": 327,
    "start_time": "2022-04-19T13:50:51.956Z"
   },
   {
    "duration": 527,
    "start_time": "2022-04-19T13:50:52.285Z"
   },
   {
    "duration": 1298,
    "start_time": "2022-04-19T13:50:52.816Z"
   },
   {
    "duration": 823,
    "start_time": "2022-04-19T13:50:54.117Z"
   },
   {
    "duration": 183,
    "start_time": "2022-04-19T13:50:54.951Z"
   },
   {
    "duration": 80,
    "start_time": "2022-04-19T13:51:14.413Z"
   },
   {
    "duration": 135,
    "start_time": "2022-04-19T13:53:09.522Z"
   },
   {
    "duration": 261,
    "start_time": "2022-04-19T14:00:46.089Z"
   },
   {
    "duration": 509,
    "start_time": "2022-04-19T14:03:19.113Z"
   },
   {
    "duration": 310,
    "start_time": "2022-04-19T14:10:12.172Z"
   },
   {
    "duration": 24,
    "start_time": "2022-04-19T14:35:26.243Z"
   },
   {
    "duration": 28,
    "start_time": "2022-04-19T14:35:33.847Z"
   },
   {
    "duration": 28,
    "start_time": "2022-04-19T14:35:44.212Z"
   },
   {
    "duration": 13,
    "start_time": "2022-04-19T14:37:42.740Z"
   },
   {
    "duration": 74,
    "start_time": "2022-04-19T14:39:43.562Z"
   },
   {
    "duration": 1045,
    "start_time": "2022-04-19T14:40:02.309Z"
   },
   {
    "duration": 12,
    "start_time": "2022-04-19T14:40:40.703Z"
   },
   {
    "duration": 943,
    "start_time": "2022-04-19T14:40:56.079Z"
   },
   {
    "duration": 4,
    "start_time": "2022-04-19T14:41:26.620Z"
   },
   {
    "duration": 904,
    "start_time": "2022-04-19T14:41:36.676Z"
   },
   {
    "duration": 953,
    "start_time": "2022-04-19T14:41:48.484Z"
   },
   {
    "duration": 292,
    "start_time": "2022-04-19T14:42:38.896Z"
   },
   {
    "duration": 1087,
    "start_time": "2022-04-19T14:47:11.564Z"
   },
   {
    "duration": 814,
    "start_time": "2022-04-19T14:50:05.052Z"
   },
   {
    "duration": 13,
    "start_time": "2022-04-19T14:50:22.782Z"
   },
   {
    "duration": 12,
    "start_time": "2022-04-19T14:51:16.237Z"
   },
   {
    "duration": 1512,
    "start_time": "2022-04-19T14:55:57.555Z"
   },
   {
    "duration": 125,
    "start_time": "2022-04-19T14:55:59.570Z"
   },
   {
    "duration": 26,
    "start_time": "2022-04-19T14:56:00.275Z"
   },
   {
    "duration": 31,
    "start_time": "2022-04-19T14:56:00.639Z"
   },
   {
    "duration": 36,
    "start_time": "2022-04-19T14:56:01.951Z"
   },
   {
    "duration": 37,
    "start_time": "2022-04-19T14:56:02.564Z"
   },
   {
    "duration": 478,
    "start_time": "2022-04-19T14:56:04.068Z"
   },
   {
    "duration": 253,
    "start_time": "2022-04-19T14:56:05.042Z"
   },
   {
    "duration": 194,
    "start_time": "2022-04-19T14:56:05.412Z"
   },
   {
    "duration": 454,
    "start_time": "2022-04-19T14:56:06.509Z"
   },
   {
    "duration": 568,
    "start_time": "2022-04-19T14:56:07.359Z"
   },
   {
    "duration": 1776,
    "start_time": "2022-04-19T14:56:08.554Z"
   },
   {
    "duration": 766,
    "start_time": "2022-04-19T14:56:10.632Z"
   },
   {
    "duration": 84,
    "start_time": "2022-04-19T14:56:12.915Z"
   },
   {
    "duration": 1146,
    "start_time": "2022-04-19T14:56:16.812Z"
   },
   {
    "duration": 175,
    "start_time": "2022-04-19T14:57:16.871Z"
   },
   {
    "duration": 35,
    "start_time": "2022-04-19T14:57:26.098Z"
   },
   {
    "duration": 32,
    "start_time": "2022-04-19T14:58:13.787Z"
   },
   {
    "duration": 32,
    "start_time": "2022-04-19T14:59:25.074Z"
   },
   {
    "duration": 25,
    "start_time": "2022-04-19T15:00:33.376Z"
   },
   {
    "duration": 24,
    "start_time": "2022-04-19T15:01:14.346Z"
   },
   {
    "duration": 34,
    "start_time": "2022-04-19T15:02:01.710Z"
   },
   {
    "duration": 13,
    "start_time": "2022-04-19T15:02:09.689Z"
   },
   {
    "duration": 29,
    "start_time": "2022-04-19T15:02:22.386Z"
   },
   {
    "duration": 30,
    "start_time": "2022-04-19T15:14:46.761Z"
   },
   {
    "duration": 31,
    "start_time": "2022-04-19T15:14:55.537Z"
   },
   {
    "duration": 39,
    "start_time": "2022-04-19T15:16:23.685Z"
   },
   {
    "duration": 35,
    "start_time": "2022-04-19T15:16:43.489Z"
   },
   {
    "duration": 20,
    "start_time": "2022-04-19T15:17:04.588Z"
   },
   {
    "duration": 21,
    "start_time": "2022-04-19T15:18:00.911Z"
   },
   {
    "duration": 333,
    "start_time": "2022-04-19T15:18:37.005Z"
   },
   {
    "duration": 41,
    "start_time": "2022-04-19T15:19:03.114Z"
   },
   {
    "duration": 19,
    "start_time": "2022-04-19T15:19:38.612Z"
   },
   {
    "duration": 31,
    "start_time": "2022-04-19T15:19:53.971Z"
   },
   {
    "duration": 20,
    "start_time": "2022-04-19T15:20:14.050Z"
   },
   {
    "duration": 15,
    "start_time": "2022-04-19T15:20:34.345Z"
   },
   {
    "duration": 36,
    "start_time": "2022-04-19T15:21:05.833Z"
   },
   {
    "duration": 17,
    "start_time": "2022-04-19T15:21:34.165Z"
   },
   {
    "duration": 26,
    "start_time": "2022-04-19T15:21:50.616Z"
   },
   {
    "duration": 13,
    "start_time": "2022-04-19T15:23:38.533Z"
   },
   {
    "duration": 43,
    "start_time": "2022-04-19T15:23:51.773Z"
   },
   {
    "duration": 11,
    "start_time": "2022-04-19T15:25:42.676Z"
   },
   {
    "duration": 10,
    "start_time": "2022-04-19T15:25:50.968Z"
   },
   {
    "duration": 10,
    "start_time": "2022-04-19T15:27:00.325Z"
   },
   {
    "duration": 2269,
    "start_time": "2022-04-19T15:27:38.992Z"
   },
   {
    "duration": 3837,
    "start_time": "2022-04-19T15:27:59.471Z"
   },
   {
    "duration": 9,
    "start_time": "2022-04-19T15:31:40.085Z"
   },
   {
    "duration": 9,
    "start_time": "2022-04-19T15:35:03.171Z"
   },
   {
    "duration": 5,
    "start_time": "2022-04-19T15:35:29.743Z"
   },
   {
    "duration": 8,
    "start_time": "2022-04-19T15:35:34.011Z"
   },
   {
    "duration": 29,
    "start_time": "2022-04-19T15:39:43.787Z"
   },
   {
    "duration": 26,
    "start_time": "2022-04-19T15:40:13.545Z"
   },
   {
    "duration": 24,
    "start_time": "2022-04-19T15:40:22.519Z"
   },
   {
    "duration": 349,
    "start_time": "2022-04-19T15:41:27.234Z"
   },
   {
    "duration": 26,
    "start_time": "2022-04-19T15:41:37.487Z"
   },
   {
    "duration": 46,
    "start_time": "2022-04-19T15:42:38.898Z"
   },
   {
    "duration": 15,
    "start_time": "2022-04-19T15:42:46.458Z"
   },
   {
    "duration": 41,
    "start_time": "2022-04-19T15:43:09.474Z"
   },
   {
    "duration": 45,
    "start_time": "2022-04-19T15:43:15.799Z"
   },
   {
    "duration": 50,
    "start_time": "2022-04-19T15:43:36.438Z"
   },
   {
    "duration": 11,
    "start_time": "2022-04-19T15:44:00.611Z"
   },
   {
    "duration": 11,
    "start_time": "2022-04-19T15:44:18.308Z"
   },
   {
    "duration": 9,
    "start_time": "2022-04-19T15:44:24.526Z"
   },
   {
    "duration": 318,
    "start_time": "2022-04-19T15:45:02.522Z"
   },
   {
    "duration": 27,
    "start_time": "2022-04-19T15:45:08.373Z"
   },
   {
    "duration": 28,
    "start_time": "2022-04-19T15:45:38.551Z"
   },
   {
    "duration": 13,
    "start_time": "2022-04-19T15:46:07.836Z"
   },
   {
    "duration": 30,
    "start_time": "2022-04-19T15:48:42.678Z"
   },
   {
    "duration": 28,
    "start_time": "2022-04-19T15:49:49.380Z"
   },
   {
    "duration": 42,
    "start_time": "2022-04-19T16:05:21.747Z"
   },
   {
    "duration": 27,
    "start_time": "2022-04-19T16:07:19.042Z"
   },
   {
    "duration": 967,
    "start_time": "2022-04-19T16:07:40.276Z"
   },
   {
    "duration": 816,
    "start_time": "2022-04-19T16:08:09.929Z"
   },
   {
    "duration": 720,
    "start_time": "2022-04-19T16:09:03.051Z"
   },
   {
    "duration": 653,
    "start_time": "2022-04-19T16:09:36.526Z"
   },
   {
    "duration": 876,
    "start_time": "2022-04-19T16:12:38.740Z"
   },
   {
    "duration": 844,
    "start_time": "2022-04-19T16:22:48.430Z"
   },
   {
    "duration": 766,
    "start_time": "2022-04-19T16:23:22.823Z"
   },
   {
    "duration": 114,
    "start_time": "2022-04-19T16:24:21.648Z"
   },
   {
    "duration": 134,
    "start_time": "2022-04-19T16:24:27.102Z"
   },
   {
    "duration": 898,
    "start_time": "2022-04-19T16:24:38.553Z"
   },
   {
    "duration": 32,
    "start_time": "2022-04-19T16:24:56.352Z"
   },
   {
    "duration": 948,
    "start_time": "2022-04-19T16:25:06.631Z"
   },
   {
    "duration": 120,
    "start_time": "2022-04-19T16:28:34.261Z"
   },
   {
    "duration": 12,
    "start_time": "2022-04-19T16:28:48.705Z"
   },
   {
    "duration": 13,
    "start_time": "2022-04-19T16:29:10.632Z"
   },
   {
    "duration": 2057,
    "start_time": "2022-04-19T16:29:51.183Z"
   },
   {
    "duration": 2384,
    "start_time": "2022-04-19T16:30:24.630Z"
   },
   {
    "duration": 26,
    "start_time": "2022-04-19T16:31:08.124Z"
   },
   {
    "duration": 16,
    "start_time": "2022-04-19T16:32:20.591Z"
   },
   {
    "duration": 23,
    "start_time": "2022-04-19T16:32:33.707Z"
   },
   {
    "duration": 28,
    "start_time": "2022-04-19T17:08:35.868Z"
   },
   {
    "duration": 113,
    "start_time": "2022-04-20T08:42:11.969Z"
   },
   {
    "duration": 1938,
    "start_time": "2022-04-20T08:42:19.498Z"
   },
   {
    "duration": 88,
    "start_time": "2022-04-20T08:42:21.438Z"
   },
   {
    "duration": 21,
    "start_time": "2022-04-20T08:42:21.528Z"
   },
   {
    "duration": 22,
    "start_time": "2022-04-20T08:42:22.405Z"
   },
   {
    "duration": 28,
    "start_time": "2022-04-20T08:42:24.252Z"
   },
   {
    "duration": 26,
    "start_time": "2022-04-20T08:42:25.709Z"
   },
   {
    "duration": 310,
    "start_time": "2022-04-20T08:42:27.807Z"
   },
   {
    "duration": 103,
    "start_time": "2022-04-20T09:11:23.921Z"
   },
   {
    "duration": 167,
    "start_time": "2022-04-20T09:11:33.060Z"
   },
   {
    "duration": 124,
    "start_time": "2022-04-20T09:11:34.340Z"
   },
   {
    "duration": 292,
    "start_time": "2022-04-20T09:11:36.074Z"
   },
   {
    "duration": 361,
    "start_time": "2022-04-20T09:11:36.713Z"
   },
   {
    "duration": 1214,
    "start_time": "2022-04-20T09:11:38.454Z"
   },
   {
    "duration": 1949,
    "start_time": "2022-04-20T18:03:32.580Z"
   },
   {
    "duration": 88,
    "start_time": "2022-04-20T18:03:34.532Z"
   },
   {
    "duration": 20,
    "start_time": "2022-04-20T18:03:34.622Z"
   },
   {
    "duration": 41,
    "start_time": "2022-04-20T18:03:34.645Z"
   },
   {
    "duration": 22,
    "start_time": "2022-04-20T18:03:34.689Z"
   },
   {
    "duration": 26,
    "start_time": "2022-04-20T18:03:34.713Z"
   },
   {
    "duration": 348,
    "start_time": "2022-04-20T18:03:34.741Z"
   },
   {
    "duration": 186,
    "start_time": "2022-04-20T18:03:35.091Z"
   },
   {
    "duration": 150,
    "start_time": "2022-04-20T18:03:35.281Z"
   },
   {
    "duration": 318,
    "start_time": "2022-04-20T18:03:35.433Z"
   },
   {
    "duration": 396,
    "start_time": "2022-04-20T18:03:35.752Z"
   },
   {
    "duration": 1249,
    "start_time": "2022-04-20T18:03:36.151Z"
   },
   {
    "duration": 711,
    "start_time": "2022-04-20T18:03:37.402Z"
   },
   {
    "duration": 95,
    "start_time": "2022-04-20T18:03:38.117Z"
   },
   {
    "duration": 970,
    "start_time": "2022-04-20T18:03:38.214Z"
   },
   {
    "duration": 316,
    "start_time": "2022-04-20T18:03:39.187Z"
   },
   {
    "duration": 29,
    "start_time": "2022-04-20T18:03:39.505Z"
   },
   {
    "duration": 11,
    "start_time": "2022-04-20T18:03:39.537Z"
   },
   {
    "duration": 27,
    "start_time": "2022-04-20T18:03:39.582Z"
   },
   {
    "duration": 192,
    "start_time": "2022-04-20T18:03:39.611Z"
   },
   {
    "duration": 0,
    "start_time": "2022-04-20T18:03:39.806Z"
   },
   {
    "duration": 22,
    "start_time": "2022-04-20T18:10:38.017Z"
   },
   {
    "duration": 105,
    "start_time": "2022-04-20T18:17:15.040Z"
   },
   {
    "duration": 16,
    "start_time": "2022-04-20T18:20:04.230Z"
   },
   {
    "duration": 19,
    "start_time": "2022-04-20T18:20:41.391Z"
   },
   {
    "duration": 48,
    "start_time": "2022-04-20T18:28:22.693Z"
   },
   {
    "duration": 1354,
    "start_time": "2022-04-20T18:28:33.364Z"
   },
   {
    "duration": 72,
    "start_time": "2022-04-20T18:28:34.721Z"
   },
   {
    "duration": 14,
    "start_time": "2022-04-20T18:28:34.930Z"
   },
   {
    "duration": 24,
    "start_time": "2022-04-20T18:28:35.537Z"
   },
   {
    "duration": 21,
    "start_time": "2022-04-20T18:28:36.745Z"
   },
   {
    "duration": 24,
    "start_time": "2022-04-20T18:28:37.848Z"
   },
   {
    "duration": 184,
    "start_time": "2022-04-20T18:28:39.612Z"
   },
   {
    "duration": 136,
    "start_time": "2022-04-20T18:28:40.720Z"
   },
   {
    "duration": 83,
    "start_time": "2022-04-20T18:28:40.990Z"
   },
   {
    "duration": 198,
    "start_time": "2022-04-20T18:28:41.547Z"
   },
   {
    "duration": 219,
    "start_time": "2022-04-20T18:28:42.061Z"
   },
   {
    "duration": 876,
    "start_time": "2022-04-20T18:28:42.578Z"
   },
   {
    "duration": 452,
    "start_time": "2022-04-20T18:28:44.117Z"
   },
   {
    "duration": 53,
    "start_time": "2022-04-20T18:28:45.593Z"
   },
   {
    "duration": 1023,
    "start_time": "2022-04-20T18:28:46.961Z"
   },
   {
    "duration": 187,
    "start_time": "2022-04-20T18:28:50.345Z"
   },
   {
    "duration": 18,
    "start_time": "2022-04-20T18:28:51.402Z"
   },
   {
    "duration": 8,
    "start_time": "2022-04-20T18:28:53.064Z"
   },
   {
    "duration": 27,
    "start_time": "2022-04-20T18:28:54.641Z"
   },
   {
    "duration": 33,
    "start_time": "2022-04-20T18:28:56.608Z"
   },
   {
    "duration": 372,
    "start_time": "2022-04-20T18:29:13.695Z"
   },
   {
    "duration": 271,
    "start_time": "2022-04-20T18:38:02.801Z"
   },
   {
    "duration": 1165,
    "start_time": "2022-04-20T18:38:38.771Z"
   },
   {
    "duration": 71,
    "start_time": "2022-04-20T18:38:39.938Z"
   },
   {
    "duration": 14,
    "start_time": "2022-04-20T18:38:40.010Z"
   },
   {
    "duration": 14,
    "start_time": "2022-04-20T18:38:40.533Z"
   },
   {
    "duration": 15,
    "start_time": "2022-04-20T18:38:41.825Z"
   },
   {
    "duration": 21,
    "start_time": "2022-04-20T18:38:43.458Z"
   },
   {
    "duration": 192,
    "start_time": "2022-04-20T18:38:45.785Z"
   },
   {
    "duration": 139,
    "start_time": "2022-04-20T18:38:47.486Z"
   },
   {
    "duration": 96,
    "start_time": "2022-04-20T18:38:48.183Z"
   },
   {
    "duration": 184,
    "start_time": "2022-04-20T18:38:49.739Z"
   },
   {
    "duration": 217,
    "start_time": "2022-04-20T18:38:51.209Z"
   },
   {
    "duration": 909,
    "start_time": "2022-04-20T18:38:52.886Z"
   },
   {
    "duration": 114,
    "start_time": "2022-04-20T18:40:30.992Z"
   },
   {
    "duration": 11,
    "start_time": "2022-04-20T18:41:23.183Z"
   },
   {
    "duration": 13,
    "start_time": "2022-04-20T18:42:28.603Z"
   },
   {
    "duration": 15,
    "start_time": "2022-04-20T18:42:57.146Z"
   },
   {
    "duration": 13,
    "start_time": "2022-04-20T18:43:31.266Z"
   },
   {
    "duration": 1152,
    "start_time": "2022-04-20T18:44:39.677Z"
   },
   {
    "duration": 58,
    "start_time": "2022-04-20T18:44:41.380Z"
   },
   {
    "duration": 14,
    "start_time": "2022-04-20T18:44:42.166Z"
   },
   {
    "duration": 15,
    "start_time": "2022-04-20T18:44:42.733Z"
   },
   {
    "duration": 15,
    "start_time": "2022-04-20T18:44:44.161Z"
   },
   {
    "duration": 19,
    "start_time": "2022-04-20T18:44:45.861Z"
   },
   {
    "duration": 174,
    "start_time": "2022-04-20T18:44:49.168Z"
   },
   {
    "duration": 120,
    "start_time": "2022-04-20T18:44:51.844Z"
   },
   {
    "duration": 75,
    "start_time": "2022-04-20T18:44:52.792Z"
   },
   {
    "duration": 177,
    "start_time": "2022-04-20T18:44:54.357Z"
   },
   {
    "duration": 224,
    "start_time": "2022-04-20T18:44:55.961Z"
   },
   {
    "duration": 12,
    "start_time": "2022-04-20T18:44:57.771Z"
   },
   {
    "duration": 846,
    "start_time": "2022-04-20T18:46:44.483Z"
   },
   {
    "duration": 106,
    "start_time": "2022-04-20T18:47:29.422Z"
   },
   {
    "duration": 11,
    "start_time": "2022-04-20T18:47:50.735Z"
   },
   {
    "duration": 1186,
    "start_time": "2022-04-20T18:48:05.758Z"
   },
   {
    "duration": 64,
    "start_time": "2022-04-20T18:48:06.946Z"
   },
   {
    "duration": 13,
    "start_time": "2022-04-20T18:48:07.012Z"
   },
   {
    "duration": 16,
    "start_time": "2022-04-20T18:48:07.765Z"
   },
   {
    "duration": 24,
    "start_time": "2022-04-20T18:48:09.040Z"
   },
   {
    "duration": 24,
    "start_time": "2022-04-20T18:48:10.641Z"
   },
   {
    "duration": 197,
    "start_time": "2022-04-20T18:48:13.302Z"
   },
   {
    "duration": 105,
    "start_time": "2022-04-20T18:48:14.582Z"
   },
   {
    "duration": 79,
    "start_time": "2022-04-20T18:48:14.819Z"
   },
   {
    "duration": 210,
    "start_time": "2022-04-20T18:48:15.525Z"
   },
   {
    "duration": 327,
    "start_time": "2022-04-20T18:48:16.214Z"
   },
   {
    "duration": 13,
    "start_time": "2022-04-20T18:48:18.062Z"
   },
   {
    "duration": 864,
    "start_time": "2022-04-20T18:48:19.364Z"
   },
   {
    "duration": 112,
    "start_time": "2022-04-20T18:52:08.475Z"
   },
   {
    "duration": 604,
    "start_time": "2022-04-20T18:52:27.409Z"
   },
   {
    "duration": 79,
    "start_time": "2022-04-20T18:52:30.400Z"
   },
   {
    "duration": 1008,
    "start_time": "2022-04-20T18:52:32.407Z"
   },
   {
    "duration": 184,
    "start_time": "2022-04-20T18:52:33.787Z"
   },
   {
    "duration": 18,
    "start_time": "2022-04-20T18:56:05.577Z"
   },
   {
    "duration": 8,
    "start_time": "2022-04-20T18:56:10.469Z"
   },
   {
    "duration": 25,
    "start_time": "2022-04-20T18:56:12.937Z"
   },
   {
    "duration": 19,
    "start_time": "2022-04-20T18:58:14.720Z"
   },
   {
    "duration": 18,
    "start_time": "2022-04-20T18:58:29.994Z"
   },
   {
    "duration": 11,
    "start_time": "2022-04-20T18:58:36.348Z"
   },
   {
    "duration": 22,
    "start_time": "2022-04-20T18:58:47.005Z"
   },
   {
    "duration": 18,
    "start_time": "2022-04-20T18:59:12.808Z"
   },
   {
    "duration": 24,
    "start_time": "2022-04-20T18:59:39.657Z"
   },
   {
    "duration": 30,
    "start_time": "2022-04-20T18:59:46.148Z"
   },
   {
    "duration": 22,
    "start_time": "2022-04-20T19:00:32.022Z"
   },
   {
    "duration": 21,
    "start_time": "2022-04-20T19:01:03.905Z"
   },
   {
    "duration": 1838,
    "start_time": "2022-04-21T10:44:05.433Z"
   },
   {
    "duration": 90,
    "start_time": "2022-04-21T10:44:07.274Z"
   },
   {
    "duration": 19,
    "start_time": "2022-04-21T10:44:07.366Z"
   },
   {
    "duration": 39,
    "start_time": "2022-04-21T10:44:07.388Z"
   },
   {
    "duration": 24,
    "start_time": "2022-04-21T10:44:07.429Z"
   },
   {
    "duration": 26,
    "start_time": "2022-04-21T10:44:07.456Z"
   },
   {
    "duration": 356,
    "start_time": "2022-04-21T10:44:07.484Z"
   },
   {
    "duration": 188,
    "start_time": "2022-04-21T10:44:07.842Z"
   },
   {
    "duration": 152,
    "start_time": "2022-04-21T10:44:08.032Z"
   },
   {
    "duration": 331,
    "start_time": "2022-04-21T10:44:08.190Z"
   },
   {
    "duration": 409,
    "start_time": "2022-04-21T10:44:08.525Z"
   },
   {
    "duration": 22,
    "start_time": "2022-04-21T10:44:08.937Z"
   },
   {
    "duration": 1382,
    "start_time": "2022-04-21T10:44:08.962Z"
   },
   {
    "duration": 742,
    "start_time": "2022-04-21T10:44:10.347Z"
   },
   {
    "duration": 92,
    "start_time": "2022-04-21T10:44:11.092Z"
   },
   {
    "duration": 1123,
    "start_time": "2022-04-21T10:44:11.187Z"
   },
   {
    "duration": 312,
    "start_time": "2022-04-21T10:44:12.312Z"
   },
   {
    "duration": 27,
    "start_time": "2022-04-21T10:44:12.626Z"
   },
   {
    "duration": 12,
    "start_time": "2022-04-21T10:44:12.655Z"
   },
   {
    "duration": 64,
    "start_time": "2022-04-21T10:44:12.669Z"
   },
   {
    "duration": 33,
    "start_time": "2022-04-21T10:44:12.735Z"
   },
   {
    "duration": 668,
    "start_time": "2022-04-21T10:44:12.770Z"
   },
   {
    "duration": 20,
    "start_time": "2022-04-21T10:54:11.511Z"
   },
   {
    "duration": 20,
    "start_time": "2022-04-21T10:54:19.833Z"
   },
   {
    "duration": 29,
    "start_time": "2022-04-21T10:54:24.370Z"
   },
   {
    "duration": 43,
    "start_time": "2022-04-21T11:24:51.427Z"
   },
   {
    "duration": 1264,
    "start_time": "2022-04-21T11:25:03.436Z"
   },
   {
    "duration": 55,
    "start_time": "2022-04-21T11:25:04.702Z"
   },
   {
    "duration": 13,
    "start_time": "2022-04-21T11:25:04.759Z"
   },
   {
    "duration": 14,
    "start_time": "2022-04-21T11:25:05.402Z"
   },
   {
    "duration": 17,
    "start_time": "2022-04-21T11:25:06.402Z"
   },
   {
    "duration": 17,
    "start_time": "2022-04-21T11:25:07.458Z"
   },
   {
    "duration": 170,
    "start_time": "2022-04-21T11:25:08.785Z"
   },
   {
    "duration": 100,
    "start_time": "2022-04-21T11:25:09.671Z"
   },
   {
    "duration": 75,
    "start_time": "2022-04-21T11:25:09.859Z"
   },
   {
    "duration": 191,
    "start_time": "2022-04-21T11:25:10.382Z"
   },
   {
    "duration": 203,
    "start_time": "2022-04-21T11:25:10.826Z"
   },
   {
    "duration": 12,
    "start_time": "2022-04-21T11:25:11.319Z"
   },
   {
    "duration": 940,
    "start_time": "2022-04-21T11:25:11.551Z"
   },
   {
    "duration": 384,
    "start_time": "2022-04-21T11:25:13.856Z"
   },
   {
    "duration": 76,
    "start_time": "2022-04-21T11:25:14.930Z"
   },
   {
    "duration": 1283,
    "start_time": "2022-04-21T11:25:15.721Z"
   },
   {
    "duration": 280,
    "start_time": "2022-04-21T11:25:18.818Z"
   },
   {
    "duration": 19,
    "start_time": "2022-04-21T11:25:20.545Z"
   },
   {
    "duration": 7,
    "start_time": "2022-04-21T11:25:22.840Z"
   },
   {
    "duration": 24,
    "start_time": "2022-04-21T11:25:26.204Z"
   },
   {
    "duration": 26,
    "start_time": "2022-04-21T11:25:41.288Z"
   },
   {
    "duration": 7041,
    "start_time": "2022-04-21T11:27:44.927Z"
   },
   {
    "duration": 74,
    "start_time": "2022-04-21T11:28:20.061Z"
   },
   {
    "duration": 5042,
    "start_time": "2022-04-21T11:29:09.387Z"
   },
   {
    "duration": 6,
    "start_time": "2022-04-21T11:29:26.434Z"
   },
   {
    "duration": 13,
    "start_time": "2022-04-21T11:29:36.734Z"
   },
   {
    "duration": 11,
    "start_time": "2022-04-21T11:31:45.596Z"
   },
   {
    "duration": 14,
    "start_time": "2022-04-21T11:32:14.597Z"
   },
   {
    "duration": 3,
    "start_time": "2022-04-21T11:33:26.372Z"
   },
   {
    "duration": 10,
    "start_time": "2022-04-21T11:33:35.136Z"
   },
   {
    "duration": 3,
    "start_time": "2022-04-21T11:34:50.636Z"
   },
   {
    "duration": 6,
    "start_time": "2022-04-21T11:37:15.392Z"
   },
   {
    "duration": 12,
    "start_time": "2022-04-21T11:37:22.682Z"
   },
   {
    "duration": 16,
    "start_time": "2022-04-21T11:39:58.819Z"
   },
   {
    "duration": 11,
    "start_time": "2022-04-21T11:40:59.137Z"
   },
   {
    "duration": 10,
    "start_time": "2022-04-21T11:41:08.442Z"
   },
   {
    "duration": 24,
    "start_time": "2022-04-21T11:42:24.151Z"
   },
   {
    "duration": 19,
    "start_time": "2022-04-21T11:43:31.386Z"
   },
   {
    "duration": 25,
    "start_time": "2022-04-21T11:45:00.266Z"
   },
   {
    "duration": 8,
    "start_time": "2022-04-21T11:46:57.205Z"
   },
   {
    "duration": 110,
    "start_time": "2022-04-21T11:47:31.091Z"
   },
   {
    "duration": 359,
    "start_time": "2022-04-21T11:50:22.739Z"
   },
   {
    "duration": 22,
    "start_time": "2022-04-21T11:50:46.357Z"
   },
   {
    "duration": 22,
    "start_time": "2022-04-21T11:51:10.238Z"
   },
   {
    "duration": 22,
    "start_time": "2022-04-21T11:51:21.692Z"
   },
   {
    "duration": 160,
    "start_time": "2022-04-21T11:51:54.703Z"
   },
   {
    "duration": 96,
    "start_time": "2022-04-21T11:52:41.423Z"
   },
   {
    "duration": 22,
    "start_time": "2022-04-21T11:52:58.308Z"
   },
   {
    "duration": 1374,
    "start_time": "2022-04-22T10:12:07.834Z"
   },
   {
    "duration": 68,
    "start_time": "2022-04-22T10:12:09.210Z"
   },
   {
    "duration": 14,
    "start_time": "2022-04-22T10:12:09.280Z"
   },
   {
    "duration": 22,
    "start_time": "2022-04-22T10:12:09.296Z"
   },
   {
    "duration": 15,
    "start_time": "2022-04-22T10:12:09.320Z"
   },
   {
    "duration": 20,
    "start_time": "2022-04-22T10:12:09.337Z"
   },
   {
    "duration": 228,
    "start_time": "2022-04-22T10:12:09.358Z"
   },
   {
    "duration": 136,
    "start_time": "2022-04-22T10:12:09.587Z"
   },
   {
    "duration": 94,
    "start_time": "2022-04-22T10:12:09.725Z"
   },
   {
    "duration": 214,
    "start_time": "2022-04-22T10:12:09.821Z"
   },
   {
    "duration": 250,
    "start_time": "2022-04-22T10:12:10.037Z"
   },
   {
    "duration": 22,
    "start_time": "2022-04-22T10:12:10.289Z"
   },
   {
    "duration": 961,
    "start_time": "2022-04-22T10:12:10.313Z"
   },
   {
    "duration": 431,
    "start_time": "2022-04-22T10:12:11.276Z"
   },
   {
    "duration": 53,
    "start_time": "2022-04-22T10:12:11.709Z"
   },
   {
    "duration": 938,
    "start_time": "2022-04-22T10:12:11.764Z"
   },
   {
    "duration": 200,
    "start_time": "2022-04-22T10:12:12.704Z"
   },
   {
    "duration": 19,
    "start_time": "2022-04-22T10:12:12.906Z"
   },
   {
    "duration": 8,
    "start_time": "2022-04-22T10:12:12.926Z"
   },
   {
    "duration": 22,
    "start_time": "2022-04-22T10:12:12.935Z"
   },
   {
    "duration": 215,
    "start_time": "2022-04-22T10:12:12.959Z"
   },
   {
    "duration": 36,
    "start_time": "2022-04-22T10:12:13.176Z"
   },
   {
    "duration": 396,
    "start_time": "2022-04-22T10:12:13.214Z"
   }
  ],
  "kernelspec": {
   "display_name": "Python 3 (ipykernel)",
   "language": "python",
   "name": "python3"
  },
  "language_info": {
   "codemirror_mode": {
    "name": "ipython",
    "version": 3
   },
   "file_extension": ".py",
   "mimetype": "text/x-python",
   "name": "python",
   "nbconvert_exporter": "python",
   "pygments_lexer": "ipython3",
   "version": "3.9.7"
  },
  "toc": {
   "base_numbering": 1,
   "nav_menu": {},
   "number_sections": true,
   "sideBar": true,
   "skip_h1_title": true,
   "title_cell": "Table of Contents",
   "title_sidebar": "Contents",
   "toc_cell": false,
   "toc_position": {},
   "toc_section_display": true,
   "toc_window_display": false
  }
 },
 "nbformat": 4,
 "nbformat_minor": 2
}
