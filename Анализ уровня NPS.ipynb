{
 "cells": [
  {
   "cell_type": "code",
   "execution_count": 1,
   "id": "89f707f7",
   "metadata": {
    "tags": [
     "aa81075c-062f-4de0-b5fe-14c73dc7468e"
    ]
   },
   "outputs": [],
   "source": [
    "import pandas as pd\n",
    "import numpy as np\n",
    "\n",
    "from sqlalchemy import create_engine"
   ]
  },
  {
   "cell_type": "code",
   "execution_count": 2,
   "id": "b19b7de5",
   "metadata": {},
   "outputs": [],
   "source": [
    "path_to_db = '/datasets/telecomm_csi.db'\n",
    "engine = create_engine(f'sqlite:///{path_to_db}', echo = False)"
   ]
  },
  {
   "cell_type": "code",
   "execution_count": 3,
   "id": "54934cd5",
   "metadata": {},
   "outputs": [],
   "source": [
    "query = \"\"\"\n",
    "SELECT u.user_id,\n",
    "       u.lt_day,\n",
    "       CASE\n",
    "           WHEN u.lt_day <= 365 THEN 1\n",
    "           ELSE 0\n",
    "        END AS is_new,\n",
    "        u.age,\n",
    "        u.gender_segment,\n",
    "        u.os_name,\n",
    "        u.cpe_type_name,\n",
    "        l.country,\n",
    "        l.city,\n",
    "        a.title AS age_segment,\n",
    "        ts.title AS traffic_segment,\n",
    "        ls.title AS lifetime_segment,\n",
    "        u.nps_score,\n",
    "        CASE\n",
    "            WHEN u.nps_score <= 6 THEN \"критики\"\n",
    "            WHEN u.nps_score >=7 AND u.nps_score <=8 THEN \"нейтралы\"\n",
    "            ELSE \"сторонники\"\n",
    "        END AS nps_group\n",
    "FROM user AS u\n",
    "LEFT JOIN location AS l ON u.location_id = l.location_id\n",
    "LEFT JOIN age_segment AS a ON u.age_gr_id = a.age_gr_id\n",
    "LEFT JOIN traffic_segment AS ts ON u.tr_gr_id = ts.tr_gr_id\n",
    "LEFT JOIN lifetime_segment AS ls ON u.lt_gr_id = ls.lt_gr_id;\n",
    "\"\"\""
   ]
  },
  {
   "cell_type": "code",
   "execution_count": 4,
   "id": "b2f733e2",
   "metadata": {},
   "outputs": [
    {
     "data": {
      "text/html": [
       "<div>\n",
       "<style scoped>\n",
       "    .dataframe tbody tr th:only-of-type {\n",
       "        vertical-align: middle;\n",
       "    }\n",
       "\n",
       "    .dataframe tbody tr th {\n",
       "        vertical-align: top;\n",
       "    }\n",
       "\n",
       "    .dataframe thead th {\n",
       "        text-align: right;\n",
       "    }\n",
       "</style>\n",
       "<table border=\"1\" class=\"dataframe\">\n",
       "  <thead>\n",
       "    <tr style=\"text-align: right;\">\n",
       "      <th></th>\n",
       "      <th>user_id</th>\n",
       "      <th>lt_day</th>\n",
       "      <th>is_new</th>\n",
       "      <th>age</th>\n",
       "      <th>gender_segment</th>\n",
       "      <th>os_name</th>\n",
       "      <th>cpe_type_name</th>\n",
       "      <th>country</th>\n",
       "      <th>city</th>\n",
       "      <th>age_segment</th>\n",
       "      <th>traffic_segment</th>\n",
       "      <th>lifetime_segment</th>\n",
       "      <th>nps_score</th>\n",
       "      <th>nps_group</th>\n",
       "    </tr>\n",
       "  </thead>\n",
       "  <tbody>\n",
       "    <tr>\n",
       "      <th>0</th>\n",
       "      <td>A001A2</td>\n",
       "      <td>2320</td>\n",
       "      <td>0</td>\n",
       "      <td>45.0</td>\n",
       "      <td>1.0</td>\n",
       "      <td>ANDROID</td>\n",
       "      <td>SMARTPHONE</td>\n",
       "      <td>Россия</td>\n",
       "      <td>Уфа</td>\n",
       "      <td>05 45-54</td>\n",
       "      <td>04 1-5</td>\n",
       "      <td>08 36+</td>\n",
       "      <td>10</td>\n",
       "      <td>сторонники</td>\n",
       "    </tr>\n",
       "    <tr>\n",
       "      <th>1</th>\n",
       "      <td>A001WF</td>\n",
       "      <td>2344</td>\n",
       "      <td>0</td>\n",
       "      <td>53.0</td>\n",
       "      <td>0.0</td>\n",
       "      <td>ANDROID</td>\n",
       "      <td>SMARTPHONE</td>\n",
       "      <td>Россия</td>\n",
       "      <td>Киров</td>\n",
       "      <td>05 45-54</td>\n",
       "      <td>04 1-5</td>\n",
       "      <td>08 36+</td>\n",
       "      <td>10</td>\n",
       "      <td>сторонники</td>\n",
       "    </tr>\n",
       "    <tr>\n",
       "      <th>2</th>\n",
       "      <td>A003Q7</td>\n",
       "      <td>467</td>\n",
       "      <td>0</td>\n",
       "      <td>57.0</td>\n",
       "      <td>0.0</td>\n",
       "      <td>ANDROID</td>\n",
       "      <td>SMARTPHONE</td>\n",
       "      <td>Россия</td>\n",
       "      <td>Москва</td>\n",
       "      <td>06 55-64</td>\n",
       "      <td>08 20-25</td>\n",
       "      <td>06 13-24</td>\n",
       "      <td>10</td>\n",
       "      <td>сторонники</td>\n",
       "    </tr>\n",
       "  </tbody>\n",
       "</table>\n",
       "</div>"
      ],
      "text/plain": [
       "  user_id  lt_day  is_new   age  gender_segment  os_name cpe_type_name  \\\n",
       "0  A001A2    2320       0  45.0             1.0  ANDROID    SMARTPHONE   \n",
       "1  A001WF    2344       0  53.0             0.0  ANDROID    SMARTPHONE   \n",
       "2  A003Q7     467       0  57.0             0.0  ANDROID    SMARTPHONE   \n",
       "\n",
       "  country    city age_segment traffic_segment lifetime_segment  nps_score  \\\n",
       "0  Россия     Уфа    05 45-54          04 1-5           08 36+         10   \n",
       "1  Россия   Киров    05 45-54          04 1-5           08 36+         10   \n",
       "2  Россия  Москва    06 55-64        08 20-25         06 13-24         10   \n",
       "\n",
       "    nps_group  \n",
       "0  сторонники  \n",
       "1  сторонники  \n",
       "2  сторонники  "
      ]
     },
     "execution_count": 4,
     "metadata": {},
     "output_type": "execute_result"
    }
   ],
   "source": [
    "df = pd.read_sql(query, engine)\n",
    "df.head(3)"
   ]
  },
  {
   "cell_type": "code",
   "execution_count": 5,
   "id": "5c8f96eb",
   "metadata": {},
   "outputs": [],
   "source": [
    "df.to_csv('telecomm_csi_tableau.csv', index=False)"
   ]
  },
  {
   "cell_type": "markdown",
   "id": "1a628f0d",
   "metadata": {},
   "source": [
    "### Ссылка на дашборд на сайте Tableau Public:"
   ]
  },
  {
   "cell_type": "markdown",
   "id": "c5fc6cb6",
   "metadata": {},
   "source": [
    "https://public.tableau.com/app/profile/li6712/viz/2_16527059596320/Dashboard1?publish=yes"
   ]
  },
  {
   "cell_type": "markdown",
   "id": "be0f3cc5",
   "metadata": {},
   "source": [
    "### Ссылка на pdf-файл с презентацией:"
   ]
  },
  {
   "cell_type": "markdown",
   "id": "a060d75e",
   "metadata": {},
   "source": [
    "https://disk.yandex.ru/i/RDqH63zQFI5DRg"
   ]
  }
 ],
 "metadata": {
  "ExecuteTimeLog": [
   {
    "duration": 752,
    "start_time": "2021-10-03T17:40:52.731Z"
   },
   {
    "duration": 20,
    "start_time": "2021-10-03T17:40:53.486Z"
   },
   {
    "duration": 4,
    "start_time": "2021-10-03T17:41:04.638Z"
   },
   {
    "duration": 461,
    "start_time": "2021-10-03T17:41:04.912Z"
   },
   {
    "duration": 284,
    "start_time": "2021-10-03T17:41:05.376Z"
   },
   {
    "duration": 574,
    "start_time": "2021-10-06T07:55:05.029Z"
   },
   {
    "duration": 6,
    "start_time": "2021-10-06T07:55:05.605Z"
   },
   {
    "duration": 3,
    "start_time": "2021-10-06T07:55:14.685Z"
   },
   {
    "duration": 406,
    "start_time": "2021-10-06T07:55:15.522Z"
   },
   {
    "duration": 67,
    "start_time": "2021-10-06T07:55:15.929Z"
   },
   {
    "duration": 840,
    "start_time": "2021-10-07T07:54:04.647Z"
   },
   {
    "duration": 10,
    "start_time": "2021-10-07T07:54:05.490Z"
   },
   {
    "duration": 4,
    "start_time": "2021-10-07T07:54:05.544Z"
   },
   {
    "duration": 391,
    "start_time": "2021-10-07T07:54:06.237Z"
   },
   {
    "duration": 293,
    "start_time": "2021-10-07T07:54:06.654Z"
   },
   {
    "duration": 632,
    "start_time": "2022-05-12T07:06:46.235Z"
   },
   {
    "duration": 4,
    "start_time": "2022-05-12T07:06:50.214Z"
   },
   {
    "duration": 30,
    "start_time": "2022-05-12T07:06:52.153Z"
   },
   {
    "duration": 4,
    "start_time": "2022-05-12T07:06:52.991Z"
   },
   {
    "duration": 688,
    "start_time": "2022-05-12T07:06:53.770Z"
   },
   {
    "duration": 305,
    "start_time": "2022-05-12T07:06:55.239Z"
   },
   {
    "duration": 161,
    "start_time": "2022-05-12T07:13:26.286Z"
   },
   {
    "duration": 672,
    "start_time": "2022-05-13T10:51:10.764Z"
   },
   {
    "duration": 26,
    "start_time": "2022-05-13T10:51:12.463Z"
   },
   {
    "duration": 4,
    "start_time": "2022-05-13T10:51:57.217Z"
   },
   {
    "duration": 8182,
    "start_time": "2022-05-13T10:51:58.400Z"
   },
   {
    "duration": 173,
    "start_time": "2022-05-13T10:53:38.815Z"
   },
   {
    "duration": 160,
    "start_time": "2022-05-13T10:53:58.961Z"
   },
   {
    "duration": 5,
    "start_time": "2022-05-13T11:00:46.716Z"
   },
   {
    "duration": 865,
    "start_time": "2022-05-13T11:00:49.996Z"
   },
   {
    "duration": 3,
    "start_time": "2022-05-13T11:15:00.445Z"
   },
   {
    "duration": 554,
    "start_time": "2022-05-13T11:15:02.065Z"
   },
   {
    "duration": 3,
    "start_time": "2022-05-13T11:20:31.756Z"
   },
   {
    "duration": 736,
    "start_time": "2022-05-13T11:20:50.473Z"
   },
   {
    "duration": 3,
    "start_time": "2022-05-13T11:21:56.813Z"
   },
   {
    "duration": 736,
    "start_time": "2022-05-13T11:21:58.473Z"
   },
   {
    "duration": 4,
    "start_time": "2022-05-13T11:22:28.037Z"
   },
   {
    "duration": 752,
    "start_time": "2022-05-13T11:22:29.765Z"
   },
   {
    "duration": 4,
    "start_time": "2022-05-13T11:22:43.685Z"
   },
   {
    "duration": 4671,
    "start_time": "2022-05-13T11:22:45.305Z"
   },
   {
    "duration": 4,
    "start_time": "2022-05-13T11:23:24.705Z"
   },
   {
    "duration": 2866,
    "start_time": "2022-05-13T11:23:25.707Z"
   },
   {
    "duration": 4,
    "start_time": "2022-05-13T11:25:08.245Z"
   },
   {
    "duration": 935,
    "start_time": "2022-05-13T11:25:09.209Z"
   },
   {
    "duration": 4,
    "start_time": "2022-05-13T11:25:25.829Z"
   },
   {
    "duration": 771,
    "start_time": "2022-05-13T11:25:26.805Z"
   },
   {
    "duration": 8,
    "start_time": "2022-05-13T14:53:21.136Z"
   },
   {
    "duration": 48,
    "start_time": "2022-05-13T14:53:22.160Z"
   },
   {
    "duration": 468,
    "start_time": "2022-05-13T14:53:26.316Z"
   },
   {
    "duration": 9,
    "start_time": "2022-05-13T14:53:27.296Z"
   },
   {
    "duration": 2,
    "start_time": "2022-05-13T14:53:27.997Z"
   },
   {
    "duration": 314,
    "start_time": "2022-05-13T14:53:28.684Z"
   },
   {
    "duration": 3,
    "start_time": "2022-05-13T14:53:47.675Z"
   },
   {
    "duration": 287,
    "start_time": "2022-05-13T14:53:48.151Z"
   },
   {
    "duration": 3,
    "start_time": "2022-05-13T14:55:01.984Z"
   },
   {
    "duration": 395,
    "start_time": "2022-05-13T14:55:03.156Z"
   },
   {
    "duration": 2,
    "start_time": "2022-05-13T14:55:09.853Z"
   },
   {
    "duration": 1891,
    "start_time": "2022-05-13T14:55:13.304Z"
   },
   {
    "duration": 3,
    "start_time": "2022-05-13T14:57:15.344Z"
   },
   {
    "duration": 2282,
    "start_time": "2022-05-13T14:57:15.814Z"
   },
   {
    "duration": 3,
    "start_time": "2022-05-13T15:10:00.716Z"
   },
   {
    "duration": 272,
    "start_time": "2022-05-13T15:10:01.615Z"
   },
   {
    "duration": 3,
    "start_time": "2022-05-13T15:11:34.278Z"
   },
   {
    "duration": 183,
    "start_time": "2022-05-13T15:11:35.019Z"
   },
   {
    "duration": 3,
    "start_time": "2022-05-13T15:12:08.091Z"
   },
   {
    "duration": 286,
    "start_time": "2022-05-13T15:12:09.127Z"
   },
   {
    "duration": 3,
    "start_time": "2022-05-13T15:12:56.575Z"
   },
   {
    "duration": 274,
    "start_time": "2022-05-13T15:12:57.491Z"
   },
   {
    "duration": 2,
    "start_time": "2022-05-13T15:13:17.225Z"
   },
   {
    "duration": 4482,
    "start_time": "2022-05-13T15:13:17.796Z"
   },
   {
    "duration": 3,
    "start_time": "2022-05-13T15:15:02.880Z"
   },
   {
    "duration": 180,
    "start_time": "2022-05-13T15:15:03.603Z"
   },
   {
    "duration": 3,
    "start_time": "2022-05-13T15:15:36.099Z"
   },
   {
    "duration": 4370,
    "start_time": "2022-05-13T15:15:36.754Z"
   },
   {
    "duration": 3209,
    "start_time": "2022-05-13T15:15:44.395Z"
   },
   {
    "duration": 55,
    "start_time": "2022-05-13T15:26:58.961Z"
   },
   {
    "duration": 3,
    "start_time": "2022-05-13T15:27:06.398Z"
   },
   {
    "duration": 3,
    "start_time": "2022-05-13T15:27:07.209Z"
   },
   {
    "duration": 3,
    "start_time": "2022-05-13T15:27:07.811Z"
   },
   {
    "duration": 4296,
    "start_time": "2022-05-13T15:27:08.386Z"
   },
   {
    "duration": 3253,
    "start_time": "2022-05-13T15:27:12.684Z"
   },
   {
    "duration": 46,
    "start_time": "2022-05-13T15:27:15.939Z"
   },
   {
    "duration": 2773,
    "start_time": "2022-05-13T15:28:27.162Z"
   },
   {
    "duration": 532,
    "start_time": "2022-05-16T10:37:22.214Z"
   },
   {
    "duration": 21,
    "start_time": "2022-05-16T10:37:22.750Z"
   },
   {
    "duration": 4,
    "start_time": "2022-05-16T10:37:23.027Z"
   },
   {
    "duration": 6749,
    "start_time": "2022-05-16T10:37:24.207Z"
   },
   {
    "duration": 3,
    "start_time": "2022-05-16T10:38:14.615Z"
   },
   {
    "duration": 6189,
    "start_time": "2022-05-16T10:38:15.607Z"
   },
   {
    "duration": 1355,
    "start_time": "2022-05-18T05:10:09.938Z"
   },
   {
    "duration": 514,
    "start_time": "2022-05-18T05:10:19.585Z"
   },
   {
    "duration": 10,
    "start_time": "2022-05-18T05:10:20.102Z"
   },
   {
    "duration": 7,
    "start_time": "2022-05-18T05:10:20.114Z"
   },
   {
    "duration": 5053,
    "start_time": "2022-05-18T05:10:20.123Z"
   },
   {
    "duration": 5286,
    "start_time": "2022-05-18T05:10:25.178Z"
   },
   {
    "duration": 1042,
    "start_time": "2022-05-18T05:10:41.182Z"
   },
   {
    "duration": 1592,
    "start_time": "2022-05-18T05:11:02.592Z"
   },
   {
    "duration": 1550,
    "start_time": "2022-05-18T05:11:13.966Z"
   }
  ],
  "kernelspec": {
   "display_name": "Python 3 (ipykernel)",
   "language": "python",
   "name": "python3"
  },
  "language_info": {
   "codemirror_mode": {
    "name": "ipython",
    "version": 3
   },
   "file_extension": ".py",
   "mimetype": "text/x-python",
   "name": "python",
   "nbconvert_exporter": "python",
   "pygments_lexer": "ipython3",
   "version": "3.9.7"
  },
  "toc": {
   "base_numbering": 1,
   "nav_menu": {},
   "number_sections": true,
   "sideBar": true,
   "skip_h1_title": true,
   "title_cell": "Table of Contents",
   "title_sidebar": "Contents",
   "toc_cell": false,
   "toc_position": {},
   "toc_section_display": true,
   "toc_window_display": false
  }
 },
 "nbformat": 4,
 "nbformat_minor": 5
}
