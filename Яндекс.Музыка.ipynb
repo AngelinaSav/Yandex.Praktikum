{
 "cells": [
  {
   "cell_type": "markdown",
   "metadata": {
    "id": "E0vqbgi9ay0H"
   },
   "source": [
    "# Яндекс.Музыка"
   ]
  },
  {
   "cell_type": "markdown",
   "metadata": {
    "id": "VUC88oWjTJw2"
   },
   "source": [
    "Сравнение Москвы и Петербурга окружено мифами. Например:\n",
    " * Москва — мегаполис, подчинённый жёсткому ритму рабочей недели;\n",
    " * Петербург — культурная столица, со своими вкусами.\n",
    "\n",
    "На данных Яндекс.Музыки мы сравним поведение пользователей двух столиц.\n",
    "\n",
    "**Цель исследования** — проверка трёх гипотез:\n",
    "1. Активность пользователей зависит от дня недели. Причём в Москве и Петербурге это проявляется по-разному.\n",
    "2. В понедельник утром в Москве преобладают одни жанры, а в Петербурге — другие. Так же и вечером пятницы преобладают разные жанры — в зависимости от города. \n",
    "3. Москва и Петербург предпочитают разные жанры музыки. В Москве чаще слушают поп-музыку, в Петербурге — русский рэп.\n",
    "\n",
    "**Ход исследования**\n",
    "\n",
    "Данные о поведении пользователей мы получим из файла `yandex_music_project.csv`. О качестве данных ничего не известно. Поэтому перед проверкой гипотез понадобится обзор данных. \n",
    "\n",
    "Мы проверим данные на ошибки и оценим их влияние на исследование. Затем, на этапе предобработки поищем возможность исправить самые критичные ошибки данных.\n",
    " \n",
    "Таким образом, исследование пройдёт в три этапа:\n",
    " 1. Обзор данных.\n",
    " 2. Предобработка данных.\n",
    " 3. Проверка гипотез."
   ]
  },
  {
   "cell_type": "markdown",
   "metadata": {
    "id": "Ml1hmfXC_Zcs"
   },
   "source": [
    "## Обзор данных\n",
    "\n",
    "Составим первое представление о данных Яндекс.Музыки.\n",
    "\n",
    "\n"
   ]
  },
  {
   "cell_type": "code",
   "execution_count": 1,
   "metadata": {
    "id": "AXN7PHPN_Zcs"
   },
   "outputs": [],
   "source": [
    "import pandas as pd"
   ]
  },
  {
   "cell_type": "code",
   "execution_count": 2,
   "metadata": {
    "id": "fFVu7vqh_Zct"
   },
   "outputs": [],
   "source": [
    "df = pd.read_csv('/datasets/yandex_music_project.csv')"
   ]
  },
  {
   "cell_type": "code",
   "execution_count": 3,
   "metadata": {
    "id": "oWTVX3gW_Zct"
   },
   "outputs": [
    {
     "data": {
      "text/html": [
       "<div>\n",
       "<style scoped>\n",
       "    .dataframe tbody tr th:only-of-type {\n",
       "        vertical-align: middle;\n",
       "    }\n",
       "\n",
       "    .dataframe tbody tr th {\n",
       "        vertical-align: top;\n",
       "    }\n",
       "\n",
       "    .dataframe thead th {\n",
       "        text-align: right;\n",
       "    }\n",
       "</style>\n",
       "<table border=\"1\" class=\"dataframe\">\n",
       "  <thead>\n",
       "    <tr style=\"text-align: right;\">\n",
       "      <th></th>\n",
       "      <th>userID</th>\n",
       "      <th>Track</th>\n",
       "      <th>artist</th>\n",
       "      <th>genre</th>\n",
       "      <th>City</th>\n",
       "      <th>time</th>\n",
       "      <th>Day</th>\n",
       "    </tr>\n",
       "  </thead>\n",
       "  <tbody>\n",
       "    <tr>\n",
       "      <th>0</th>\n",
       "      <td>FFB692EC</td>\n",
       "      <td>Kamigata To Boots</td>\n",
       "      <td>The Mass Missile</td>\n",
       "      <td>rock</td>\n",
       "      <td>Saint-Petersburg</td>\n",
       "      <td>20:28:33</td>\n",
       "      <td>Wednesday</td>\n",
       "    </tr>\n",
       "    <tr>\n",
       "      <th>1</th>\n",
       "      <td>55204538</td>\n",
       "      <td>Delayed Because of Accident</td>\n",
       "      <td>Andreas Rönnberg</td>\n",
       "      <td>rock</td>\n",
       "      <td>Moscow</td>\n",
       "      <td>14:07:09</td>\n",
       "      <td>Friday</td>\n",
       "    </tr>\n",
       "    <tr>\n",
       "      <th>2</th>\n",
       "      <td>20EC38</td>\n",
       "      <td>Funiculì funiculà</td>\n",
       "      <td>Mario Lanza</td>\n",
       "      <td>pop</td>\n",
       "      <td>Saint-Petersburg</td>\n",
       "      <td>20:58:07</td>\n",
       "      <td>Wednesday</td>\n",
       "    </tr>\n",
       "    <tr>\n",
       "      <th>3</th>\n",
       "      <td>A3DD03C9</td>\n",
       "      <td>Dragons in the Sunset</td>\n",
       "      <td>Fire + Ice</td>\n",
       "      <td>folk</td>\n",
       "      <td>Saint-Petersburg</td>\n",
       "      <td>08:37:09</td>\n",
       "      <td>Monday</td>\n",
       "    </tr>\n",
       "    <tr>\n",
       "      <th>4</th>\n",
       "      <td>E2DC1FAE</td>\n",
       "      <td>Soul People</td>\n",
       "      <td>Space Echo</td>\n",
       "      <td>dance</td>\n",
       "      <td>Moscow</td>\n",
       "      <td>08:34:34</td>\n",
       "      <td>Monday</td>\n",
       "    </tr>\n",
       "    <tr>\n",
       "      <th>5</th>\n",
       "      <td>842029A1</td>\n",
       "      <td>Преданная</td>\n",
       "      <td>IMPERVTOR</td>\n",
       "      <td>rusrap</td>\n",
       "      <td>Saint-Petersburg</td>\n",
       "      <td>13:09:41</td>\n",
       "      <td>Friday</td>\n",
       "    </tr>\n",
       "    <tr>\n",
       "      <th>6</th>\n",
       "      <td>4CB90AA5</td>\n",
       "      <td>True</td>\n",
       "      <td>Roman Messer</td>\n",
       "      <td>dance</td>\n",
       "      <td>Moscow</td>\n",
       "      <td>13:00:07</td>\n",
       "      <td>Wednesday</td>\n",
       "    </tr>\n",
       "    <tr>\n",
       "      <th>7</th>\n",
       "      <td>F03E1C1F</td>\n",
       "      <td>Feeling This Way</td>\n",
       "      <td>Polina Griffith</td>\n",
       "      <td>dance</td>\n",
       "      <td>Moscow</td>\n",
       "      <td>20:47:49</td>\n",
       "      <td>Wednesday</td>\n",
       "    </tr>\n",
       "    <tr>\n",
       "      <th>8</th>\n",
       "      <td>8FA1D3BE</td>\n",
       "      <td>И вновь продолжается бой</td>\n",
       "      <td>NaN</td>\n",
       "      <td>ruspop</td>\n",
       "      <td>Moscow</td>\n",
       "      <td>09:17:40</td>\n",
       "      <td>Friday</td>\n",
       "    </tr>\n",
       "    <tr>\n",
       "      <th>9</th>\n",
       "      <td>E772D5C0</td>\n",
       "      <td>Pessimist</td>\n",
       "      <td>NaN</td>\n",
       "      <td>dance</td>\n",
       "      <td>Saint-Petersburg</td>\n",
       "      <td>21:20:49</td>\n",
       "      <td>Wednesday</td>\n",
       "    </tr>\n",
       "  </tbody>\n",
       "</table>\n",
       "</div>"
      ],
      "text/plain": [
       "     userID                        Track            artist   genre  \\\n",
       "0  FFB692EC            Kamigata To Boots  The Mass Missile    rock   \n",
       "1  55204538  Delayed Because of Accident  Andreas Rönnberg    rock   \n",
       "2    20EC38            Funiculì funiculà       Mario Lanza     pop   \n",
       "3  A3DD03C9        Dragons in the Sunset        Fire + Ice    folk   \n",
       "4  E2DC1FAE                  Soul People        Space Echo   dance   \n",
       "5  842029A1                    Преданная         IMPERVTOR  rusrap   \n",
       "6  4CB90AA5                         True      Roman Messer   dance   \n",
       "7  F03E1C1F             Feeling This Way   Polina Griffith   dance   \n",
       "8  8FA1D3BE     И вновь продолжается бой               NaN  ruspop   \n",
       "9  E772D5C0                    Pessimist               NaN   dance   \n",
       "\n",
       "             City        time        Day  \n",
       "0  Saint-Petersburg  20:28:33  Wednesday  \n",
       "1            Moscow  14:07:09     Friday  \n",
       "2  Saint-Petersburg  20:58:07  Wednesday  \n",
       "3  Saint-Petersburg  08:37:09     Monday  \n",
       "4            Moscow  08:34:34     Monday  \n",
       "5  Saint-Petersburg  13:09:41     Friday  \n",
       "6            Moscow  13:00:07  Wednesday  \n",
       "7            Moscow  20:47:49  Wednesday  \n",
       "8            Moscow  09:17:40     Friday  \n",
       "9  Saint-Petersburg  21:20:49  Wednesday  "
      ]
     },
     "execution_count": 3,
     "metadata": {},
     "output_type": "execute_result"
    }
   ],
   "source": [
    "df.head(10)"
   ]
  },
  {
   "cell_type": "code",
   "execution_count": 4,
   "metadata": {
    "id": "DSf2kIb-_Zct"
   },
   "outputs": [
    {
     "name": "stdout",
     "output_type": "stream",
     "text": [
      "<class 'pandas.core.frame.DataFrame'>\n",
      "RangeIndex: 65079 entries, 0 to 65078\n",
      "Data columns (total 7 columns):\n",
      " #   Column    Non-Null Count  Dtype \n",
      "---  ------    --------------  ----- \n",
      " 0     userID  65079 non-null  object\n",
      " 1   Track     63848 non-null  object\n",
      " 2   artist    57876 non-null  object\n",
      " 3   genre     63881 non-null  object\n",
      " 4     City    65079 non-null  object\n",
      " 5   time      65079 non-null  object\n",
      " 6   Day       65079 non-null  object\n",
      "dtypes: object(7)\n",
      "memory usage: 3.5+ MB\n"
     ]
    }
   ],
   "source": [
    "df.info()"
   ]
  },
  {
   "cell_type": "markdown",
   "metadata": {
    "id": "TaQ2Iwbr_Zct"
   },
   "source": [
    "Итак, в таблице семь столбцов. Тип данных во всех столбцах — `object`.\n",
    "\n",
    "Согласно документации к данным:\n",
    "* `userID` — идентификатор пользователя;\n",
    "* `Track` — название трека;  \n",
    "* `artist` — имя исполнителя;\n",
    "* `genre` — название жанра;\n",
    "* `City` — город пользователя;\n",
    "* `time` — время начала прослушивания;\n",
    "* `Day` — день недели.\n",
    "\n",
    "В названиях колонок видны три нарушения стиля:\n",
    "1. Строчные буквы сочетаются с прописными.\n",
    "2. Встречаются пробелы.\n",
    "3. Используется верблюжий регистр.\n",
    "\n",
    "\n",
    "\n",
    "Количество значений в столбцах различается. Значит, в данных есть пропущенные значения.\n"
   ]
  },
  {
   "cell_type": "markdown",
   "metadata": {
    "id": "MCB6-dXG_Zct"
   },
   "source": [
    "**Выводы**\n",
    "\n",
    "В каждой строке таблицы — данные о прослушанном треке. Часть колонок описывает саму композицию: название, исполнителя и жанр. Остальные данные рассказывают о пользователе: из какого он города, когда он слушал музыку. \n",
    "\n",
    "Предварительно можно утверждать, что, данных достаточно для проверки гипотез. Но встречаются пропуски в данных, а в названиях колонок — расхождения с хорошим стилем.\n",
    "\n",
    "Чтобы двигаться дальше, нужно устранить проблемы в данных."
   ]
  },
  {
   "cell_type": "markdown",
   "metadata": {
    "id": "SjYF6Ub9_Zct"
   },
   "source": [
    "## Предобработка данных\n",
    "Исправим стиль в заголовках столбцов, исключим пропуски. Затем проверим данные на дубликаты."
   ]
  },
  {
   "cell_type": "markdown",
   "metadata": {
    "id": "dIaKXr29_Zct"
   },
   "source": [
    "### Стиль заголовков\n",
    "Выведем на экран названия столбцов:"
   ]
  },
  {
   "cell_type": "code",
   "execution_count": 5,
   "metadata": {
    "id": "oKOTdF_Q_Zct"
   },
   "outputs": [
    {
     "data": {
      "text/plain": [
       "Index(['  userID', 'Track', 'artist', 'genre', '  City  ', 'time', 'Day'], dtype='object')"
      ]
     },
     "execution_count": 5,
     "metadata": {},
     "output_type": "execute_result"
    }
   ],
   "source": [
    "df.columns"
   ]
  },
  {
   "cell_type": "markdown",
   "metadata": {
    "id": "zj5534cv_Zct"
   },
   "source": [
    "Приведём названия в соответствие с хорошим стилем:\n",
    "* несколько слов в названии запишем в «змеином_регистре»,\n",
    "* все символы сделаем строчными,\n",
    "* устраним пробелы."
   ]
  },
  {
   "cell_type": "code",
   "execution_count": 6,
   "metadata": {
    "id": "ISlFqs5y_Zct"
   },
   "outputs": [],
   "source": [
    "df = df.rename(columns={'  userID':'user_id', 'Track':'track', '  City  ':'city', 'Day':'day'})"
   ]
  },
  {
   "cell_type": "code",
   "execution_count": 7,
   "metadata": {
    "id": "d4NOAmTW_Zct"
   },
   "outputs": [
    {
     "data": {
      "text/plain": [
       "Index(['user_id', 'track', 'artist', 'genre', 'city', 'time', 'day'], dtype='object')"
      ]
     },
     "execution_count": 7,
     "metadata": {},
     "output_type": "execute_result"
    }
   ],
   "source": [
    "# проверка результатов - перечень названий столбцов\n",
    "df.columns"
   ]
  },
  {
   "cell_type": "markdown",
   "metadata": {
    "id": "5ISfbcfY_Zct"
   },
   "source": [
    "### Пропуски значений\n",
    "Сначала посчитаем, сколько в таблице пропущенных значений:"
   ]
  },
  {
   "cell_type": "code",
   "execution_count": 8,
   "metadata": {
    "id": "RskX29qr_Zct"
   },
   "outputs": [
    {
     "data": {
      "text/plain": [
       "user_id       0\n",
       "track      1231\n",
       "artist     7203\n",
       "genre      1198\n",
       "city          0\n",
       "time          0\n",
       "day           0\n",
       "dtype: int64"
      ]
     },
     "execution_count": 8,
     "metadata": {},
     "output_type": "execute_result"
    }
   ],
   "source": [
    "df.isna().sum()"
   ]
  },
  {
   "cell_type": "markdown",
   "metadata": {
    "id": "qubhgnlO_Zct"
   },
   "source": [
    "Не все пропущенные значения влияют на исследование. Так в `track` и `artist` пропуски не важны для нашей работы. Достаточно заменить их явными обозначениями.\n",
    "\n",
    "Но пропуски в `genre` могут помешать сравнению музыкальных вкусов в Москве и Санкт-Петербурге. На практике было бы правильно установить причину пропусков и восстановить данные. Такой возможности нет. Придётся:\n",
    "* заполнить и эти пропуски явными обозначениями,\n",
    "* оценить, насколько они повредят расчётам. "
   ]
  },
  {
   "cell_type": "markdown",
   "metadata": {
    "id": "fSv2laPA_Zct"
   },
   "source": [
    "Заменим пропущенные значения в столбцах `track`, `artist` и `genre` на строку `'unknown'`:"
   ]
  },
  {
   "cell_type": "code",
   "execution_count": 9,
   "metadata": {
    "id": "KplB5qWs_Zct"
   },
   "outputs": [],
   "source": [
    "columns_to_replace = ['track', 'artist', 'genre']\n",
    "for column in columns_to_replace:\n",
    "    df[column] = df[column].fillna('unknown')"
   ]
  },
  {
   "cell_type": "markdown",
   "metadata": {
    "id": "Ilsm-MZo_Zct"
   },
   "source": [
    "Убедимся, что в таблице не осталось пропусков."
   ]
  },
  {
   "cell_type": "code",
   "execution_count": 10,
   "metadata": {
    "id": "Tq4nYRX4_Zct"
   },
   "outputs": [
    {
     "data": {
      "text/plain": [
       "user_id    0\n",
       "track      0\n",
       "artist     0\n",
       "genre      0\n",
       "city       0\n",
       "time       0\n",
       "day        0\n",
       "dtype: int64"
      ]
     },
     "execution_count": 10,
     "metadata": {},
     "output_type": "execute_result"
    }
   ],
   "source": [
    "df.isna().sum()"
   ]
  },
  {
   "cell_type": "markdown",
   "metadata": {
    "id": "BWKRtBJ3_Zct"
   },
   "source": [
    "### Дубликаты\n",
    "Посчитаем явные дубликаты в таблице:"
   ]
  },
  {
   "cell_type": "code",
   "execution_count": 11,
   "metadata": {
    "id": "36eES_S0_Zct"
   },
   "outputs": [
    {
     "data": {
      "text/plain": [
       "3826"
      ]
     },
     "execution_count": 11,
     "metadata": {},
     "output_type": "execute_result"
    }
   ],
   "source": [
    "df.duplicated().sum()"
   ]
  },
  {
   "cell_type": "markdown",
   "metadata": {
    "id": "Ot25h6XR_Zct"
   },
   "source": [
    "Удалим явные дубликаты:"
   ]
  },
  {
   "cell_type": "code",
   "execution_count": 12,
   "metadata": {
    "id": "exFHq6tt_Zct"
   },
   "outputs": [],
   "source": [
    "df = df.drop_duplicates().reset_index(drop=True)"
   ]
  },
  {
   "cell_type": "code",
   "execution_count": 13,
   "metadata": {
    "id": "-8PuNWQ0_Zct"
   },
   "outputs": [
    {
     "data": {
      "text/plain": [
       "0"
      ]
     },
     "execution_count": 13,
     "metadata": {},
     "output_type": "execute_result"
    }
   ],
   "source": [
    "df.duplicated().sum() "
   ]
  },
  {
   "cell_type": "markdown",
   "metadata": {
    "id": "QlFBsxAr_Zct"
   },
   "source": [
    "Теперь избавимся от неявных дубликатов в колонке `genre`."
   ]
  },
  {
   "cell_type": "code",
   "execution_count": 14,
   "metadata": {
    "id": "JIUcqzZN_Zct"
   },
   "outputs": [
    {
     "data": {
      "text/plain": [
       "array(['acid', 'acoustic', 'action', 'adult', 'africa', 'afrikaans',\n",
       "       'alternative', 'alternativepunk', 'ambient', 'americana',\n",
       "       'animated', 'anime', 'arabesk', 'arabic', 'arena',\n",
       "       'argentinetango', 'art', 'audiobook', 'author', 'avantgarde',\n",
       "       'axé', 'baile', 'balkan', 'beats', 'bigroom', 'black', 'bluegrass',\n",
       "       'blues', 'bollywood', 'bossa', 'brazilian', 'breakbeat', 'breaks',\n",
       "       'broadway', 'cantautori', 'cantopop', 'canzone', 'caribbean',\n",
       "       'caucasian', 'celtic', 'chamber', 'chanson', 'children', 'chill',\n",
       "       'chinese', 'choral', 'christian', 'christmas', 'classical',\n",
       "       'classicmetal', 'club', 'colombian', 'comedy', 'conjazz',\n",
       "       'contemporary', 'country', 'cuban', 'dance', 'dancehall',\n",
       "       'dancepop', 'dark', 'death', 'deep', 'deutschrock', 'deutschspr',\n",
       "       'dirty', 'disco', 'dnb', 'documentary', 'downbeat', 'downtempo',\n",
       "       'drum', 'dub', 'dubstep', 'eastern', 'easy', 'electronic',\n",
       "       'electropop', 'emo', 'entehno', 'epicmetal', 'estrada', 'ethnic',\n",
       "       'eurofolk', 'european', 'experimental', 'extrememetal', 'fado',\n",
       "       'fairytail', 'film', 'fitness', 'flamenco', 'folk', 'folklore',\n",
       "       'folkmetal', 'folkrock', 'folktronica', 'forró', 'frankreich',\n",
       "       'französisch', 'french', 'funk', 'future', 'gangsta', 'garage',\n",
       "       'german', 'ghazal', 'gitarre', 'glitch', 'gospel', 'gothic',\n",
       "       'grime', 'grunge', 'gypsy', 'handsup', \"hard'n'heavy\", 'hardcore',\n",
       "       'hardstyle', 'hardtechno', 'hip', 'hip-hop', 'hiphop',\n",
       "       'historisch', 'holiday', 'hop', 'horror', 'house', 'hymn', 'idm',\n",
       "       'independent', 'indian', 'indie', 'indipop', 'industrial',\n",
       "       'inspirational', 'instrumental', 'international', 'irish', 'jam',\n",
       "       'japanese', 'jazz', 'jewish', 'jpop', 'jungle', 'k-pop',\n",
       "       'karadeniz', 'karaoke', 'kayokyoku', 'korean', 'laiko', 'latin',\n",
       "       'latino', 'leftfield', 'local', 'lounge', 'loungeelectronic',\n",
       "       'lovers', 'malaysian', 'mandopop', 'marschmusik', 'meditative',\n",
       "       'mediterranean', 'melodic', 'metal', 'metalcore', 'mexican',\n",
       "       'middle', 'minimal', 'miscellaneous', 'modern', 'mood', 'mpb',\n",
       "       'muslim', 'native', 'neoklassik', 'neue', 'new', 'newage',\n",
       "       'newwave', 'nu', 'nujazz', 'numetal', 'oceania', 'old', 'opera',\n",
       "       'orchestral', 'other', 'piano', 'podcasts', 'pop', 'popdance',\n",
       "       'popelectronic', 'popeurodance', 'poprussian', 'post',\n",
       "       'posthardcore', 'postrock', 'power', 'progmetal', 'progressive',\n",
       "       'psychedelic', 'punjabi', 'punk', 'quebecois', 'ragga', 'ram',\n",
       "       'rancheras', 'rap', 'rave', 'reggae', 'reggaeton', 'regional',\n",
       "       'relax', 'religious', 'retro', 'rhythm', 'rnb', 'rnr', 'rock',\n",
       "       'rockabilly', 'rockalternative', 'rockindie', 'rockother',\n",
       "       'romance', 'roots', 'ruspop', 'rusrap', 'rusrock', 'russian',\n",
       "       'salsa', 'samba', 'scenic', 'schlager', 'self', 'sertanejo',\n",
       "       'shanson', 'shoegazing', 'showtunes', 'singer', 'ska', 'skarock',\n",
       "       'slow', 'smooth', 'soft', 'soul', 'soulful', 'sound', 'soundtrack',\n",
       "       'southern', 'specialty', 'speech', 'spiritual', 'sport',\n",
       "       'stonerrock', 'surf', 'swing', 'synthpop', 'synthrock',\n",
       "       'sängerportrait', 'tango', 'tanzorchester', 'taraftar', 'tatar',\n",
       "       'tech', 'techno', 'teen', 'thrash', 'top', 'traditional',\n",
       "       'tradjazz', 'trance', 'tribal', 'trip', 'triphop', 'tropical',\n",
       "       'türk', 'türkçe', 'ukrrock', 'unknown', 'urban', 'uzbek',\n",
       "       'variété', 'vi', 'videogame', 'vocal', 'western', 'world',\n",
       "       'worldbeat', 'ïîï', 'электроника'], dtype=object)"
      ]
     },
     "execution_count": 14,
     "metadata": {},
     "output_type": "execute_result"
    }
   ],
   "source": [
    "df['genre'].sort_values().unique()  "
   ]
  },
  {
   "cell_type": "code",
   "execution_count": 15,
   "metadata": {
    "id": "ErNDkmns_Zct"
   },
   "outputs": [],
   "source": [
    "# Функция для замены неявных дубликатов\n",
    "def replace_wrong_genres(wrong_genres, correct_genre):\n",
    "    df['genre'] = df['genre'].replace(wrong_genres, correct_genre)"
   ]
  },
  {
   "cell_type": "code",
   "execution_count": 16,
   "metadata": {
    "id": "YN5i2hpmSo09"
   },
   "outputs": [],
   "source": [
    "# Устранение неявных дубликатов\n",
    "replace_wrong_genres(['hip', 'hop', 'hip-hop'], 'hiphop')"
   ]
  },
  {
   "cell_type": "code",
   "execution_count": 17,
   "metadata": {
    "id": "wvixALnFG15m"
   },
   "outputs": [
    {
     "data": {
      "text/plain": [
       "array(['acid', 'acoustic', 'action', 'adult', 'africa', 'afrikaans',\n",
       "       'alternative', 'alternativepunk', 'ambient', 'americana',\n",
       "       'animated', 'anime', 'arabesk', 'arabic', 'arena',\n",
       "       'argentinetango', 'art', 'audiobook', 'author', 'avantgarde',\n",
       "       'axé', 'baile', 'balkan', 'beats', 'bigroom', 'black', 'bluegrass',\n",
       "       'blues', 'bollywood', 'bossa', 'brazilian', 'breakbeat', 'breaks',\n",
       "       'broadway', 'cantautori', 'cantopop', 'canzone', 'caribbean',\n",
       "       'caucasian', 'celtic', 'chamber', 'chanson', 'children', 'chill',\n",
       "       'chinese', 'choral', 'christian', 'christmas', 'classical',\n",
       "       'classicmetal', 'club', 'colombian', 'comedy', 'conjazz',\n",
       "       'contemporary', 'country', 'cuban', 'dance', 'dancehall',\n",
       "       'dancepop', 'dark', 'death', 'deep', 'deutschrock', 'deutschspr',\n",
       "       'dirty', 'disco', 'dnb', 'documentary', 'downbeat', 'downtempo',\n",
       "       'drum', 'dub', 'dubstep', 'eastern', 'easy', 'electronic',\n",
       "       'electropop', 'emo', 'entehno', 'epicmetal', 'estrada', 'ethnic',\n",
       "       'eurofolk', 'european', 'experimental', 'extrememetal', 'fado',\n",
       "       'fairytail', 'film', 'fitness', 'flamenco', 'folk', 'folklore',\n",
       "       'folkmetal', 'folkrock', 'folktronica', 'forró', 'frankreich',\n",
       "       'französisch', 'french', 'funk', 'future', 'gangsta', 'garage',\n",
       "       'german', 'ghazal', 'gitarre', 'glitch', 'gospel', 'gothic',\n",
       "       'grime', 'grunge', 'gypsy', 'handsup', \"hard'n'heavy\", 'hardcore',\n",
       "       'hardstyle', 'hardtechno', 'hiphop', 'historisch', 'holiday',\n",
       "       'horror', 'house', 'hymn', 'idm', 'independent', 'indian', 'indie',\n",
       "       'indipop', 'industrial', 'inspirational', 'instrumental',\n",
       "       'international', 'irish', 'jam', 'japanese', 'jazz', 'jewish',\n",
       "       'jpop', 'jungle', 'k-pop', 'karadeniz', 'karaoke', 'kayokyoku',\n",
       "       'korean', 'laiko', 'latin', 'latino', 'leftfield', 'local',\n",
       "       'lounge', 'loungeelectronic', 'lovers', 'malaysian', 'mandopop',\n",
       "       'marschmusik', 'meditative', 'mediterranean', 'melodic', 'metal',\n",
       "       'metalcore', 'mexican', 'middle', 'minimal', 'miscellaneous',\n",
       "       'modern', 'mood', 'mpb', 'muslim', 'native', 'neoklassik', 'neue',\n",
       "       'new', 'newage', 'newwave', 'nu', 'nujazz', 'numetal', 'oceania',\n",
       "       'old', 'opera', 'orchestral', 'other', 'piano', 'podcasts', 'pop',\n",
       "       'popdance', 'popelectronic', 'popeurodance', 'poprussian', 'post',\n",
       "       'posthardcore', 'postrock', 'power', 'progmetal', 'progressive',\n",
       "       'psychedelic', 'punjabi', 'punk', 'quebecois', 'ragga', 'ram',\n",
       "       'rancheras', 'rap', 'rave', 'reggae', 'reggaeton', 'regional',\n",
       "       'relax', 'religious', 'retro', 'rhythm', 'rnb', 'rnr', 'rock',\n",
       "       'rockabilly', 'rockalternative', 'rockindie', 'rockother',\n",
       "       'romance', 'roots', 'ruspop', 'rusrap', 'rusrock', 'russian',\n",
       "       'salsa', 'samba', 'scenic', 'schlager', 'self', 'sertanejo',\n",
       "       'shanson', 'shoegazing', 'showtunes', 'singer', 'ska', 'skarock',\n",
       "       'slow', 'smooth', 'soft', 'soul', 'soulful', 'sound', 'soundtrack',\n",
       "       'southern', 'specialty', 'speech', 'spiritual', 'sport',\n",
       "       'stonerrock', 'surf', 'swing', 'synthpop', 'synthrock',\n",
       "       'sängerportrait', 'tango', 'tanzorchester', 'taraftar', 'tatar',\n",
       "       'tech', 'techno', 'teen', 'thrash', 'top', 'traditional',\n",
       "       'tradjazz', 'trance', 'tribal', 'trip', 'triphop', 'tropical',\n",
       "       'türk', 'türkçe', 'ukrrock', 'unknown', 'urban', 'uzbek',\n",
       "       'variété', 'vi', 'videogame', 'vocal', 'western', 'world',\n",
       "       'worldbeat', 'ïîï', 'электроника'], dtype=object)"
      ]
     },
     "execution_count": 17,
     "metadata": {},
     "output_type": "execute_result"
    }
   ],
   "source": [
    "# Проверка на неявные дубликаты\n",
    "df['genre'].sort_values().unique()"
   ]
  },
  {
   "cell_type": "markdown",
   "metadata": {
    "id": "jz6a9-7HQUDd"
   },
   "source": [
    "**Выводы**\n",
    "\n",
    "Предобработка обнаружила три проблемы в данных:\n",
    "\n",
    "- нарушения в стиле заголовков,\n",
    "- пропущенные значения,\n",
    "- дубликаты — явные и неявные.\n",
    "\n",
    "Мы исправили заголовки, чтобы упростить работу с таблицей. Без дубликатов исследование станет более точным.\n",
    "\n",
    "Пропущенные значения мы заменили на `'unknown'`. Ещё предстоит увидеть, не повредят ли исследованию пропуски в колонке `genre`.\n",
    "\n",
    "Теперь можно перейти к проверке гипотез. "
   ]
  },
  {
   "cell_type": "markdown",
   "metadata": {
    "id": "WttZHXH0SqKk"
   },
   "source": [
    "## Проверка гипотез"
   ]
  },
  {
   "cell_type": "markdown",
   "metadata": {
    "id": "Im936VVi_Zcu"
   },
   "source": [
    "### Сравнение поведения пользователей двух столиц"
   ]
  },
  {
   "cell_type": "markdown",
   "metadata": {
    "id": "nwt_MuaL_Zcu"
   },
   "source": [
    "Первая гипотеза утверждает, что пользователи по-разному слушают музыку в Москве и Санкт-Петербурге. Проверим это предположение по данным о трёх днях недели — понедельнике, среде и пятнице. Для этого:\n",
    "\n",
    "* Разделим пользователей Москвы и Санкт-Петербурга\n",
    "* Сравним, сколько треков послушала каждая группа пользователей в понедельник, среду и пятницу.\n"
   ]
  },
  {
   "cell_type": "code",
   "execution_count": 184,
   "metadata": {
    "id": "0_Qs96oh_Zcu"
   },
   "outputs": [
    {
     "data": {
      "text/plain": [
       "city\n",
       "Moscow              42741\n",
       "Saint-Petersburg    18512\n",
       "Name: track, dtype: int64"
      ]
     },
     "execution_count": 184,
     "metadata": {},
     "output_type": "execute_result"
    }
   ],
   "source": [
    "# Подсчёт прослушиваний в каждом городе\n",
    "df.groupby('city')['track'].count()"
   ]
  },
  {
   "cell_type": "markdown",
   "metadata": {
    "id": "dzli3w8o_Zcu"
   },
   "source": [
    "В Москве прослушиваний больше, чем в Петербурге. Из этого не следует, что московские пользователи чаще слушают музыку. Просто самих пользователей в Москве больше.\n",
    "\n",
    "Теперь сгруппируем данные по дню недели и подсчитаем прослушивания в понедельник, среду и пятницу. Учтём, что в данных есть информация только о прослушиваниях только за эти дни."
   ]
  },
  {
   "cell_type": "code",
   "execution_count": 18,
   "metadata": {
    "id": "uZMKjiJz_Zcu"
   },
   "outputs": [
    {
     "data": {
      "text/plain": [
       "day\n",
       "Friday       21840\n",
       "Monday       21354\n",
       "Wednesday    18059\n",
       "Name: track, dtype: int64"
      ]
     },
     "execution_count": 18,
     "metadata": {},
     "output_type": "execute_result"
    }
   ],
   "source": [
    "# Подсчёт прослушиваний в каждый из трёх дней\n",
    "df.groupby('day')['track'].count()"
   ]
  },
  {
   "cell_type": "markdown",
   "metadata": {
    "id": "cC2tNrlL_Zcu"
   },
   "source": [
    "В среднем пользователи из двух городов менее активны по средам. Но картина может измениться, если рассмотреть каждый город в отдельности."
   ]
  },
  {
   "cell_type": "code",
   "execution_count": 19,
   "metadata": {
    "id": "Nz3GdQB1_Zcu"
   },
   "outputs": [],
   "source": [
    "# Функция для подсчёта прослушиваний для конкретного города и дня.\n",
    "\n",
    "def number_tracks(day, city):\n",
    "    track_list = df[(df['day'] == day)&(df['city'] == city)]\n",
    "    track_list_count = track_list['user_id'].count()\n",
    "    return track_list_count"
   ]
  },
  {
   "cell_type": "code",
   "execution_count": 20,
   "metadata": {
    "id": "rJcRATNQ_Zcu"
   },
   "outputs": [
    {
     "data": {
      "text/plain": [
       "15740"
      ]
     },
     "execution_count": 20,
     "metadata": {},
     "output_type": "execute_result"
    }
   ],
   "source": [
    "# количество прослушиваний в Москве по понедельникам\n",
    "number_tracks('Monday', 'Moscow')"
   ]
  },
  {
   "cell_type": "code",
   "execution_count": 21,
   "metadata": {
    "id": "hq_ncZ5T_Zcu"
   },
   "outputs": [
    {
     "data": {
      "text/plain": [
       "5614"
      ]
     },
     "execution_count": 21,
     "metadata": {},
     "output_type": "execute_result"
    }
   ],
   "source": [
    "# количество прослушиваний в Санкт-Петербурге по понедельникам\n",
    "number_tracks('Monday', 'Saint-Petersburg')"
   ]
  },
  {
   "cell_type": "code",
   "execution_count": 22,
   "metadata": {
    "id": "_NTy2VPU_Zcu"
   },
   "outputs": [
    {
     "data": {
      "text/plain": [
       "11056"
      ]
     },
     "execution_count": 22,
     "metadata": {},
     "output_type": "execute_result"
    }
   ],
   "source": [
    "# количество прослушиваний в Москве по средам\n",
    "number_tracks('Wednesday', 'Moscow')"
   ]
  },
  {
   "cell_type": "code",
   "execution_count": 23,
   "metadata": {
    "id": "j2y3TAwo_Zcu"
   },
   "outputs": [
    {
     "data": {
      "text/plain": [
       "7003"
      ]
     },
     "execution_count": 23,
     "metadata": {},
     "output_type": "execute_result"
    }
   ],
   "source": [
    "# количество прослушиваний в Санкт-Петербурге по средам\n",
    "number_tracks('Wednesday', 'Saint-Petersburg')"
   ]
  },
  {
   "cell_type": "code",
   "execution_count": 24,
   "metadata": {
    "id": "vYDw5u_K_Zcu"
   },
   "outputs": [
    {
     "data": {
      "text/plain": [
       "15945"
      ]
     },
     "execution_count": 24,
     "metadata": {},
     "output_type": "execute_result"
    }
   ],
   "source": [
    "# количество прослушиваний в Москве по пятницам\n",
    "number_tracks('Friday', 'Moscow')"
   ]
  },
  {
   "cell_type": "code",
   "execution_count": 25,
   "metadata": {
    "id": "8_yzFtW3_Zcu"
   },
   "outputs": [
    {
     "data": {
      "text/plain": [
       "5895"
      ]
     },
     "execution_count": 25,
     "metadata": {},
     "output_type": "execute_result"
    }
   ],
   "source": [
    "# количество прослушиваний в Санкт-Петербурге по пятницам\n",
    "number_tracks('Friday', 'Saint-Petersburg')"
   ]
  },
  {
   "cell_type": "code",
   "execution_count": 26,
   "metadata": {
    "id": "APAcLpOr_Zcu"
   },
   "outputs": [
    {
     "data": {
      "text/html": [
       "<div>\n",
       "<style scoped>\n",
       "    .dataframe tbody tr th:only-of-type {\n",
       "        vertical-align: middle;\n",
       "    }\n",
       "\n",
       "    .dataframe tbody tr th {\n",
       "        vertical-align: top;\n",
       "    }\n",
       "\n",
       "    .dataframe thead th {\n",
       "        text-align: right;\n",
       "    }\n",
       "</style>\n",
       "<table border=\"1\" class=\"dataframe\">\n",
       "  <thead>\n",
       "    <tr style=\"text-align: right;\">\n",
       "      <th></th>\n",
       "      <th>city</th>\n",
       "      <th>monday</th>\n",
       "      <th>wednesday</th>\n",
       "      <th>friday</th>\n",
       "    </tr>\n",
       "  </thead>\n",
       "  <tbody>\n",
       "    <tr>\n",
       "      <th>0</th>\n",
       "      <td>Moscow</td>\n",
       "      <td>15740</td>\n",
       "      <td>11056</td>\n",
       "      <td>15945</td>\n",
       "    </tr>\n",
       "    <tr>\n",
       "      <th>1</th>\n",
       "      <td>Saint-Petersburg</td>\n",
       "      <td>5614</td>\n",
       "      <td>7003</td>\n",
       "      <td>5895</td>\n",
       "    </tr>\n",
       "  </tbody>\n",
       "</table>\n",
       "</div>"
      ],
      "text/plain": [
       "               city  monday  wednesday  friday\n",
       "0            Moscow   15740      11056   15945\n",
       "1  Saint-Petersburg    5614       7003    5895"
      ]
     },
     "execution_count": 26,
     "metadata": {},
     "output_type": "execute_result"
    }
   ],
   "source": [
    "# Таблица с результатами\n",
    "data = [['Moscow', 15740, 11056, 15945],\n",
    "       ['Saint-Petersburg', 5614, 7003, 5895]]\n",
    "columns = ['city', 'monday', 'wednesday', 'friday']\n",
    "results_by_day = pd.DataFrame(data=data, columns=columns)\n",
    "results_by_day"
   ]
  },
  {
   "cell_type": "markdown",
   "metadata": {
    "id": "-EgPIHYu_Zcu"
   },
   "source": [
    "**Выводы**\n",
    "\n",
    "Данные показывают разницу поведения пользователей:\n",
    "\n",
    "- В Москве пик прослушиваний приходится на понедельник и пятницу, а в среду заметен спад.\n",
    "- В Петербурге, наоборот, больше слушают музыку по средам. Активность в понедельник и пятницу здесь почти в равной мере уступает среде.\n",
    "\n",
    "Значит, данные говорят в пользу первой гипотезы."
   ]
  },
  {
   "cell_type": "markdown",
   "metadata": {
    "id": "atZAxtq4_Zcu"
   },
   "source": [
    "### Музыка в начале и в конце недели"
   ]
  },
  {
   "cell_type": "markdown",
   "metadata": {
    "id": "eXrQqXFH_Zcu"
   },
   "source": [
    "Согласно второй гипотезе, утром в понедельник в Москве преобладают одни жанры, а в Петербурге — другие. Так же и вечером пятницы преобладают разные жанры — в зависимости от города."
   ]
  },
  {
   "cell_type": "markdown",
   "metadata": {
    "id": "S8UcW6Hw_Zcu"
   },
   "source": [
    "Сохраним таблицы с данными в две переменные:\n",
    "* по Москве — в `moscow_general`;\n",
    "* по Санкт-Петербургу — в `spb_general`."
   ]
  },
  {
   "cell_type": "code",
   "execution_count": 27,
   "metadata": {
    "id": "qeaFfM_P_Zcu"
   },
   "outputs": [
    {
     "data": {
      "text/html": [
       "<div>\n",
       "<style scoped>\n",
       "    .dataframe tbody tr th:only-of-type {\n",
       "        vertical-align: middle;\n",
       "    }\n",
       "\n",
       "    .dataframe tbody tr th {\n",
       "        vertical-align: top;\n",
       "    }\n",
       "\n",
       "    .dataframe thead th {\n",
       "        text-align: right;\n",
       "    }\n",
       "</style>\n",
       "<table border=\"1\" class=\"dataframe\">\n",
       "  <thead>\n",
       "    <tr style=\"text-align: right;\">\n",
       "      <th></th>\n",
       "      <th>user_id</th>\n",
       "      <th>track</th>\n",
       "      <th>artist</th>\n",
       "      <th>genre</th>\n",
       "      <th>city</th>\n",
       "      <th>time</th>\n",
       "      <th>day</th>\n",
       "    </tr>\n",
       "  </thead>\n",
       "  <tbody>\n",
       "    <tr>\n",
       "      <th>1</th>\n",
       "      <td>55204538</td>\n",
       "      <td>Delayed Because of Accident</td>\n",
       "      <td>Andreas Rönnberg</td>\n",
       "      <td>rock</td>\n",
       "      <td>Moscow</td>\n",
       "      <td>14:07:09</td>\n",
       "      <td>Friday</td>\n",
       "    </tr>\n",
       "    <tr>\n",
       "      <th>4</th>\n",
       "      <td>E2DC1FAE</td>\n",
       "      <td>Soul People</td>\n",
       "      <td>Space Echo</td>\n",
       "      <td>dance</td>\n",
       "      <td>Moscow</td>\n",
       "      <td>08:34:34</td>\n",
       "      <td>Monday</td>\n",
       "    </tr>\n",
       "    <tr>\n",
       "      <th>6</th>\n",
       "      <td>4CB90AA5</td>\n",
       "      <td>True</td>\n",
       "      <td>Roman Messer</td>\n",
       "      <td>dance</td>\n",
       "      <td>Moscow</td>\n",
       "      <td>13:00:07</td>\n",
       "      <td>Wednesday</td>\n",
       "    </tr>\n",
       "    <tr>\n",
       "      <th>7</th>\n",
       "      <td>F03E1C1F</td>\n",
       "      <td>Feeling This Way</td>\n",
       "      <td>Polina Griffith</td>\n",
       "      <td>dance</td>\n",
       "      <td>Moscow</td>\n",
       "      <td>20:47:49</td>\n",
       "      <td>Wednesday</td>\n",
       "    </tr>\n",
       "    <tr>\n",
       "      <th>8</th>\n",
       "      <td>8FA1D3BE</td>\n",
       "      <td>И вновь продолжается бой</td>\n",
       "      <td>unknown</td>\n",
       "      <td>ruspop</td>\n",
       "      <td>Moscow</td>\n",
       "      <td>09:17:40</td>\n",
       "      <td>Friday</td>\n",
       "    </tr>\n",
       "    <tr>\n",
       "      <th>...</th>\n",
       "      <td>...</td>\n",
       "      <td>...</td>\n",
       "      <td>...</td>\n",
       "      <td>...</td>\n",
       "      <td>...</td>\n",
       "      <td>...</td>\n",
       "      <td>...</td>\n",
       "    </tr>\n",
       "    <tr>\n",
       "      <th>61247</th>\n",
       "      <td>83A474E7</td>\n",
       "      <td>I Worship Only What You Bleed</td>\n",
       "      <td>The Black Dahlia Murder</td>\n",
       "      <td>extrememetal</td>\n",
       "      <td>Moscow</td>\n",
       "      <td>21:07:12</td>\n",
       "      <td>Monday</td>\n",
       "    </tr>\n",
       "    <tr>\n",
       "      <th>61248</th>\n",
       "      <td>729CBB09</td>\n",
       "      <td>My Name</td>\n",
       "      <td>McLean</td>\n",
       "      <td>rnb</td>\n",
       "      <td>Moscow</td>\n",
       "      <td>13:32:28</td>\n",
       "      <td>Wednesday</td>\n",
       "    </tr>\n",
       "    <tr>\n",
       "      <th>61250</th>\n",
       "      <td>C5E3A0D5</td>\n",
       "      <td>Jalopiina</td>\n",
       "      <td>unknown</td>\n",
       "      <td>industrial</td>\n",
       "      <td>Moscow</td>\n",
       "      <td>20:09:26</td>\n",
       "      <td>Friday</td>\n",
       "    </tr>\n",
       "    <tr>\n",
       "      <th>61251</th>\n",
       "      <td>321D0506</td>\n",
       "      <td>Freight Train</td>\n",
       "      <td>Chas McDevitt</td>\n",
       "      <td>rock</td>\n",
       "      <td>Moscow</td>\n",
       "      <td>21:43:59</td>\n",
       "      <td>Friday</td>\n",
       "    </tr>\n",
       "    <tr>\n",
       "      <th>61252</th>\n",
       "      <td>3A64EF84</td>\n",
       "      <td>Tell Me Sweet Little Lies</td>\n",
       "      <td>Monica Lopez</td>\n",
       "      <td>country</td>\n",
       "      <td>Moscow</td>\n",
       "      <td>21:59:46</td>\n",
       "      <td>Friday</td>\n",
       "    </tr>\n",
       "  </tbody>\n",
       "</table>\n",
       "<p>42741 rows × 7 columns</p>\n",
       "</div>"
      ],
      "text/plain": [
       "        user_id                          track                   artist  \\\n",
       "1      55204538    Delayed Because of Accident         Andreas Rönnberg   \n",
       "4      E2DC1FAE                    Soul People               Space Echo   \n",
       "6      4CB90AA5                           True             Roman Messer   \n",
       "7      F03E1C1F               Feeling This Way          Polina Griffith   \n",
       "8      8FA1D3BE       И вновь продолжается бой                  unknown   \n",
       "...         ...                            ...                      ...   \n",
       "61247  83A474E7  I Worship Only What You Bleed  The Black Dahlia Murder   \n",
       "61248  729CBB09                        My Name                   McLean   \n",
       "61250  C5E3A0D5                      Jalopiina                  unknown   \n",
       "61251  321D0506                  Freight Train            Chas McDevitt   \n",
       "61252  3A64EF84      Tell Me Sweet Little Lies             Monica Lopez   \n",
       "\n",
       "              genre    city      time        day  \n",
       "1              rock  Moscow  14:07:09     Friday  \n",
       "4             dance  Moscow  08:34:34     Monday  \n",
       "6             dance  Moscow  13:00:07  Wednesday  \n",
       "7             dance  Moscow  20:47:49  Wednesday  \n",
       "8            ruspop  Moscow  09:17:40     Friday  \n",
       "...             ...     ...       ...        ...  \n",
       "61247  extrememetal  Moscow  21:07:12     Monday  \n",
       "61248           rnb  Moscow  13:32:28  Wednesday  \n",
       "61250    industrial  Moscow  20:09:26     Friday  \n",
       "61251          rock  Moscow  21:43:59     Friday  \n",
       "61252       country  Moscow  21:59:46     Friday  \n",
       "\n",
       "[42741 rows x 7 columns]"
      ]
     },
     "execution_count": 27,
     "metadata": {},
     "output_type": "execute_result"
    }
   ],
   "source": [
    "moscow_general = df[df['city'] == 'Moscow']\n",
    "moscow_general"
   ]
  },
  {
   "cell_type": "code",
   "execution_count": 28,
   "metadata": {
    "id": "ORaVRKto_Zcu"
   },
   "outputs": [
    {
     "data": {
      "text/html": [
       "<div>\n",
       "<style scoped>\n",
       "    .dataframe tbody tr th:only-of-type {\n",
       "        vertical-align: middle;\n",
       "    }\n",
       "\n",
       "    .dataframe tbody tr th {\n",
       "        vertical-align: top;\n",
       "    }\n",
       "\n",
       "    .dataframe thead th {\n",
       "        text-align: right;\n",
       "    }\n",
       "</style>\n",
       "<table border=\"1\" class=\"dataframe\">\n",
       "  <thead>\n",
       "    <tr style=\"text-align: right;\">\n",
       "      <th></th>\n",
       "      <th>user_id</th>\n",
       "      <th>track</th>\n",
       "      <th>artist</th>\n",
       "      <th>genre</th>\n",
       "      <th>city</th>\n",
       "      <th>time</th>\n",
       "      <th>day</th>\n",
       "    </tr>\n",
       "  </thead>\n",
       "  <tbody>\n",
       "    <tr>\n",
       "      <th>0</th>\n",
       "      <td>FFB692EC</td>\n",
       "      <td>Kamigata To Boots</td>\n",
       "      <td>The Mass Missile</td>\n",
       "      <td>rock</td>\n",
       "      <td>Saint-Petersburg</td>\n",
       "      <td>20:28:33</td>\n",
       "      <td>Wednesday</td>\n",
       "    </tr>\n",
       "    <tr>\n",
       "      <th>2</th>\n",
       "      <td>20EC38</td>\n",
       "      <td>Funiculì funiculà</td>\n",
       "      <td>Mario Lanza</td>\n",
       "      <td>pop</td>\n",
       "      <td>Saint-Petersburg</td>\n",
       "      <td>20:58:07</td>\n",
       "      <td>Wednesday</td>\n",
       "    </tr>\n",
       "    <tr>\n",
       "      <th>3</th>\n",
       "      <td>A3DD03C9</td>\n",
       "      <td>Dragons in the Sunset</td>\n",
       "      <td>Fire + Ice</td>\n",
       "      <td>folk</td>\n",
       "      <td>Saint-Petersburg</td>\n",
       "      <td>08:37:09</td>\n",
       "      <td>Monday</td>\n",
       "    </tr>\n",
       "    <tr>\n",
       "      <th>5</th>\n",
       "      <td>842029A1</td>\n",
       "      <td>Преданная</td>\n",
       "      <td>IMPERVTOR</td>\n",
       "      <td>rusrap</td>\n",
       "      <td>Saint-Petersburg</td>\n",
       "      <td>13:09:41</td>\n",
       "      <td>Friday</td>\n",
       "    </tr>\n",
       "    <tr>\n",
       "      <th>9</th>\n",
       "      <td>E772D5C0</td>\n",
       "      <td>Pessimist</td>\n",
       "      <td>unknown</td>\n",
       "      <td>dance</td>\n",
       "      <td>Saint-Petersburg</td>\n",
       "      <td>21:20:49</td>\n",
       "      <td>Wednesday</td>\n",
       "    </tr>\n",
       "    <tr>\n",
       "      <th>...</th>\n",
       "      <td>...</td>\n",
       "      <td>...</td>\n",
       "      <td>...</td>\n",
       "      <td>...</td>\n",
       "      <td>...</td>\n",
       "      <td>...</td>\n",
       "      <td>...</td>\n",
       "    </tr>\n",
       "    <tr>\n",
       "      <th>61239</th>\n",
       "      <td>D94F810B</td>\n",
       "      <td>Theme from the Walking Dead</td>\n",
       "      <td>Proyecto Halloween</td>\n",
       "      <td>film</td>\n",
       "      <td>Saint-Petersburg</td>\n",
       "      <td>21:14:40</td>\n",
       "      <td>Monday</td>\n",
       "    </tr>\n",
       "    <tr>\n",
       "      <th>61240</th>\n",
       "      <td>BC8EC5CF</td>\n",
       "      <td>Red Lips: Gta (Rover Rework)</td>\n",
       "      <td>Rover</td>\n",
       "      <td>electronic</td>\n",
       "      <td>Saint-Petersburg</td>\n",
       "      <td>21:06:50</td>\n",
       "      <td>Monday</td>\n",
       "    </tr>\n",
       "    <tr>\n",
       "      <th>61241</th>\n",
       "      <td>29E04611</td>\n",
       "      <td>Bre Petrunko</td>\n",
       "      <td>Perunika Trio</td>\n",
       "      <td>world</td>\n",
       "      <td>Saint-Petersburg</td>\n",
       "      <td>13:56:00</td>\n",
       "      <td>Monday</td>\n",
       "    </tr>\n",
       "    <tr>\n",
       "      <th>61242</th>\n",
       "      <td>1B91C621</td>\n",
       "      <td>(Hello) Cloud Mountain</td>\n",
       "      <td>sleepmakeswaves</td>\n",
       "      <td>postrock</td>\n",
       "      <td>Saint-Petersburg</td>\n",
       "      <td>09:22:13</td>\n",
       "      <td>Monday</td>\n",
       "    </tr>\n",
       "    <tr>\n",
       "      <th>61249</th>\n",
       "      <td>D08D4A55</td>\n",
       "      <td>Maybe One Day (feat. Black Spade)</td>\n",
       "      <td>Blu &amp; Exile</td>\n",
       "      <td>hiphop</td>\n",
       "      <td>Saint-Petersburg</td>\n",
       "      <td>10:00:00</td>\n",
       "      <td>Monday</td>\n",
       "    </tr>\n",
       "  </tbody>\n",
       "</table>\n",
       "<p>18512 rows × 7 columns</p>\n",
       "</div>"
      ],
      "text/plain": [
       "        user_id                              track              artist  \\\n",
       "0      FFB692EC                  Kamigata To Boots    The Mass Missile   \n",
       "2        20EC38                  Funiculì funiculà         Mario Lanza   \n",
       "3      A3DD03C9              Dragons in the Sunset          Fire + Ice   \n",
       "5      842029A1                          Преданная           IMPERVTOR   \n",
       "9      E772D5C0                          Pessimist             unknown   \n",
       "...         ...                                ...                 ...   \n",
       "61239  D94F810B        Theme from the Walking Dead  Proyecto Halloween   \n",
       "61240  BC8EC5CF       Red Lips: Gta (Rover Rework)               Rover   \n",
       "61241  29E04611                       Bre Petrunko       Perunika Trio   \n",
       "61242  1B91C621             (Hello) Cloud Mountain     sleepmakeswaves   \n",
       "61249  D08D4A55  Maybe One Day (feat. Black Spade)         Blu & Exile   \n",
       "\n",
       "            genre              city      time        day  \n",
       "0            rock  Saint-Petersburg  20:28:33  Wednesday  \n",
       "2             pop  Saint-Petersburg  20:58:07  Wednesday  \n",
       "3            folk  Saint-Petersburg  08:37:09     Monday  \n",
       "5          rusrap  Saint-Petersburg  13:09:41     Friday  \n",
       "9           dance  Saint-Petersburg  21:20:49  Wednesday  \n",
       "...           ...               ...       ...        ...  \n",
       "61239        film  Saint-Petersburg  21:14:40     Monday  \n",
       "61240  electronic  Saint-Petersburg  21:06:50     Monday  \n",
       "61241       world  Saint-Petersburg  13:56:00     Monday  \n",
       "61242    postrock  Saint-Petersburg  09:22:13     Monday  \n",
       "61249      hiphop  Saint-Petersburg  10:00:00     Monday  \n",
       "\n",
       "[18512 rows x 7 columns]"
      ]
     },
     "execution_count": 28,
     "metadata": {},
     "output_type": "execute_result"
    }
   ],
   "source": [
    "spb_general = df[df['city'] == 'Saint-Petersburg']\n",
    "spb_general"
   ]
  },
  {
   "cell_type": "code",
   "execution_count": 29,
   "metadata": {
    "id": "laJT9BYl_Zcu"
   },
   "outputs": [],
   "source": [
    "# Объявление функции genre_weekday(),\n",
    "# которая возвращает информацию о самых популярных жанрах в указанный день в заданное время\n",
    "\n",
    "def genre_weekday(table, day, time1, time2):\n",
    "    genre_df = table[table['day'] == day]\n",
    "    genre_df = genre_df[genre_df['time'] > time1]\n",
    "    genre_df = genre_df[genre_df['time'] < time2]\n",
    "    genre_df_count = genre_df.groupby('genre')['track'].count()\n",
    "    genre_df_sorted = genre_df_count.sort_values(ascending=False)\n",
    "    return genre_df_sorted.head(10)"
   ]
  },
  {
   "cell_type": "markdown",
   "metadata": {
    "id": "la2s2_PF_Zcu"
   },
   "source": [
    "Cравним результаты функции `genre_weekday()` для Москвы и Санкт-Петербурга в понедельник утром (с 7:00 до 11:00) и в пятницу вечером (с 17:00 до 23:00):"
   ]
  },
  {
   "cell_type": "code",
   "execution_count": 30,
   "metadata": {
    "id": "yz7itPUQ_Zcu"
   },
   "outputs": [
    {
     "data": {
      "text/plain": [
       "genre\n",
       "pop            781\n",
       "dance          549\n",
       "electronic     480\n",
       "rock           474\n",
       "hiphop         286\n",
       "ruspop         186\n",
       "world          181\n",
       "rusrap         175\n",
       "alternative    164\n",
       "unknown        161\n",
       "Name: track, dtype: int64"
      ]
     },
     "execution_count": 30,
     "metadata": {},
     "output_type": "execute_result"
    }
   ],
   "source": [
    "genre_weekday(moscow_general, 'Monday', '07:00', '11:00')"
   ]
  },
  {
   "cell_type": "code",
   "execution_count": 31,
   "metadata": {
    "id": "kwUcHPdy_Zcu"
   },
   "outputs": [
    {
     "data": {
      "text/plain": [
       "genre\n",
       "pop            218\n",
       "dance          182\n",
       "rock           162\n",
       "electronic     147\n",
       "hiphop          80\n",
       "ruspop          64\n",
       "alternative     58\n",
       "rusrap          55\n",
       "jazz            44\n",
       "classical       40\n",
       "Name: track, dtype: int64"
      ]
     },
     "execution_count": 31,
     "metadata": {},
     "output_type": "execute_result"
    }
   ],
   "source": [
    "genre_weekday(spb_general, 'Monday', '07:00', '11:00')"
   ]
  },
  {
   "cell_type": "code",
   "execution_count": 32,
   "metadata": {
    "id": "EzXVRE1o_Zcu"
   },
   "outputs": [
    {
     "data": {
      "text/plain": [
       "genre\n",
       "pop            713\n",
       "rock           517\n",
       "dance          495\n",
       "electronic     482\n",
       "hiphop         273\n",
       "world          208\n",
       "ruspop         170\n",
       "alternative    163\n",
       "classical      163\n",
       "rusrap         142\n",
       "Name: track, dtype: int64"
      ]
     },
     "execution_count": 32,
     "metadata": {},
     "output_type": "execute_result"
    }
   ],
   "source": [
    "genre_weekday(moscow_general, 'Friday', '17:00', '23:00')"
   ]
  },
  {
   "cell_type": "code",
   "execution_count": 33,
   "metadata": {
    "id": "JZaEKu5v_Zcu"
   },
   "outputs": [
    {
     "data": {
      "text/plain": [
       "genre\n",
       "pop            256\n",
       "electronic     216\n",
       "rock           216\n",
       "dance          210\n",
       "hiphop          97\n",
       "alternative     63\n",
       "jazz            61\n",
       "classical       60\n",
       "rusrap          59\n",
       "world           54\n",
       "Name: track, dtype: int64"
      ]
     },
     "execution_count": 33,
     "metadata": {},
     "output_type": "execute_result"
    }
   ],
   "source": [
    "genre_weekday(spb_general, 'Friday', '17:00', '23:00')"
   ]
  },
  {
   "cell_type": "markdown",
   "metadata": {
    "id": "wrCe4MNX_Zcu"
   },
   "source": [
    "**Выводы**\n",
    "\n",
    "Если сравнить топ-10 жанров в понедельник утром, можно сделать такие выводы:\n",
    "\n",
    "1. В Москве и Петербурге слушают похожую музыку. Единственное отличие — в московский рейтинг вошёл жанр “world”, а в петербургский — джаз и классика.\n",
    "\n",
    "2. В Москве пропущенных значений оказалось так много, что значение `'unknown'` заняло десятое место среди самых популярных жанров. Значит, пропущенные значения занимают существенную долю в данных и угрожают достоверности исследования.\n",
    "\n",
    "Вечер пятницы не меняет эту картину. Некоторые жанры поднимаются немного выше, другие спускаются, но в целом топ-10 остаётся тем же самым.\n",
    "\n",
    "Таким образом, вторая гипотеза подтвердилась лишь частично:\n",
    "* Пользователи слушают похожую музыку в начале недели и в конце.\n",
    "* Разница между Москвой и Петербургом не слишком выражена. В Москве чаще слушают русскую популярную музыку, в Петербурге — джаз.\n",
    "\n",
    "Однако пропуски в данных ставят под сомнение этот результат. В Москве их так много, что рейтинг топ-10 мог бы выглядеть иначе, если бы не утерянные  данные о жанрах."
   ]
  },
  {
   "cell_type": "markdown",
   "metadata": {
    "id": "JolODAqr_Zcu"
   },
   "source": [
    "### Жанровые предпочтения в Москве и Петербурге\n",
    "\n",
    "Гипотеза: Петербург — столица рэпа, музыку этого жанра там слушают чаще, чем в Москве.  А Москва — город контрастов, в котором, тем не менее, преобладает поп-музыка."
   ]
  },
  {
   "cell_type": "markdown",
   "metadata": {
    "id": "DlegSvaT_Zcu"
   },
   "source": [
    "Сгруппируем таблицу `moscow_general` по жанру и посчитаем прослушивания треков каждого жанра. Затем отсортируем результат в порядке убывания и сохраним его в таблице `moscow_genres`."
   ]
  },
  {
   "cell_type": "code",
   "execution_count": 34,
   "metadata": {
    "id": "r19lIPke_Zcu"
   },
   "outputs": [],
   "source": [
    "moscow_genres = moscow_general.groupby('genre')['track'].count().sort_values(ascending=False)"
   ]
  },
  {
   "cell_type": "code",
   "execution_count": 35,
   "metadata": {
    "id": "WhCSooF8_Zcv"
   },
   "outputs": [
    {
     "data": {
      "text/plain": [
       "genre\n",
       "pop            5892\n",
       "dance          4435\n",
       "rock           3965\n",
       "electronic     3786\n",
       "hiphop         2096\n",
       "classical      1616\n",
       "world          1432\n",
       "alternative    1379\n",
       "ruspop         1372\n",
       "rusrap         1161\n",
       "Name: track, dtype: int64"
      ]
     },
     "execution_count": 35,
     "metadata": {},
     "output_type": "execute_result"
    }
   ],
   "source": [
    "# просмотр первых 10 строк moscow_genres\n",
    "moscow_genres.head(10)"
   ]
  },
  {
   "cell_type": "markdown",
   "metadata": {},
   "source": [
    "Повторим то же для Санкт-Петербурга."
   ]
  },
  {
   "cell_type": "code",
   "execution_count": 36,
   "metadata": {
    "id": "gluLIpE7_Zcv"
   },
   "outputs": [],
   "source": [
    "spb_genres = spb_general.groupby('genre')['track'].count().sort_values(ascending=False)"
   ]
  },
  {
   "cell_type": "code",
   "execution_count": 37,
   "metadata": {
    "id": "uaGJHjVU_Zcv"
   },
   "outputs": [
    {
     "data": {
      "text/plain": [
       "genre\n",
       "pop            2431\n",
       "dance          1932\n",
       "rock           1879\n",
       "electronic     1736\n",
       "hiphop          960\n",
       "alternative     649\n",
       "classical       646\n",
       "rusrap          564\n",
       "ruspop          538\n",
       "world           515\n",
       "Name: track, dtype: int64"
      ]
     },
     "execution_count": 37,
     "metadata": {},
     "output_type": "execute_result"
    }
   ],
   "source": [
    "# просмотр первых 10 строк spb_genres\n",
    "spb_genres.head(10)"
   ]
  },
  {
   "cell_type": "markdown",
   "metadata": {
    "id": "RY51YJYu_Zcv"
   },
   "source": [
    "**Выводы**"
   ]
  },
  {
   "cell_type": "markdown",
   "metadata": {
    "id": "nVhnJEm__Zcv"
   },
   "source": [
    "Гипотеза частично подтвердилась:\n",
    "* Поп-музыка — самый популярный жанр в Москве, как и предполагала гипотеза. Более того, в топ-10 жанров встречается близкий жанр — русская популярная музыка.\n",
    "* Вопреки ожиданиям, рэп одинаково популярен в Москве и Петербурге. \n"
   ]
  },
  {
   "cell_type": "markdown",
   "metadata": {
    "id": "ykKQ0N65_Zcv"
   },
   "source": [
    "## Итоги исследования"
   ]
  },
  {
   "cell_type": "markdown",
   "metadata": {
    "id": "tjUwbHb3_Zcv"
   },
   "source": [
    "Мы проверили три гипотезы и установили:\n",
    "\n",
    "1. День недели по-разному влияет на активность пользователей в Москве и Петербурге. \n",
    "\n",
    "Первая гипотеза полностью подтвердилась.\n",
    "\n",
    "2. Музыкальные предпочтения не сильно меняются в течение недели — будь то Москва или Петербург. Небольшие различия заметны в начале недели, по понедельникам:\n",
    "* в Москве слушают музыку жанра “world”,\n",
    "* в Петербурге — джаз и классику.\n",
    "\n",
    "Таким образом, вторая гипотеза подтвердилась лишь отчасти. Этот результат мог оказаться иным, если бы не пропуски в данных.\n",
    "\n",
    "3. Во вкусах пользователей Москвы и Петербурга больше общего чем различий. Вопреки ожиданиям, предпочтения жанров в Петербурге напоминают московские.\n",
    "\n",
    "Третья гипотеза не подтвердилась. Если различия в предпочтениях и существуют, на основной массе пользователей они незаметны."
   ]
  }
 ],
 "metadata": {
  "ExecuteTimeLog": [
   {
    "duration": 79,
    "start_time": "2021-12-14T20:47:55.100Z"
   },
   {
    "duration": 272,
    "start_time": "2021-12-14T20:48:12.056Z"
   },
   {
    "duration": 230,
    "start_time": "2021-12-14T20:49:13.304Z"
   },
   {
    "duration": 280,
    "start_time": "2021-12-14T20:50:01.933Z"
   },
   {
    "duration": 255,
    "start_time": "2021-12-14T20:50:32.554Z"
   },
   {
    "duration": 269,
    "start_time": "2021-12-14T20:50:38.552Z"
   },
   {
    "duration": 1862,
    "start_time": "2021-12-14T20:52:44.932Z"
   },
   {
    "duration": 227,
    "start_time": "2021-12-14T20:53:06.664Z"
   },
   {
    "duration": 546,
    "start_time": "2021-12-14T20:53:54.594Z"
   },
   {
    "duration": 180,
    "start_time": "2021-12-14T20:56:45.207Z"
   },
   {
    "duration": 139,
    "start_time": "2021-12-14T20:56:56.161Z"
   },
   {
    "duration": 133,
    "start_time": "2021-12-14T20:57:15.602Z"
   },
   {
    "duration": 137,
    "start_time": "2021-12-14T20:57:24.232Z"
   },
   {
    "duration": 676,
    "start_time": "2021-12-14T21:00:50.599Z"
   },
   {
    "duration": 135,
    "start_time": "2021-12-14T21:01:18.595Z"
   },
   {
    "duration": 133,
    "start_time": "2021-12-14T21:01:35.288Z"
   },
   {
    "duration": 15,
    "start_time": "2021-12-14T21:01:40.944Z"
   },
   {
    "duration": 23,
    "start_time": "2021-12-14T21:02:21.354Z"
   },
   {
    "duration": 4,
    "start_time": "2021-12-14T21:17:01.300Z"
   },
   {
    "duration": 3,
    "start_time": "2021-12-14T21:21:32.434Z"
   },
   {
    "duration": 25,
    "start_time": "2021-12-14T21:21:42.585Z"
   },
   {
    "duration": 4,
    "start_time": "2021-12-14T21:21:45.863Z"
   },
   {
    "duration": 34,
    "start_time": "2021-12-14T21:23:29.508Z"
   },
   {
    "duration": 16,
    "start_time": "2021-12-14T21:32:13.910Z"
   },
   {
    "duration": 20,
    "start_time": "2021-12-14T21:33:25.763Z"
   },
   {
    "duration": 49,
    "start_time": "2021-12-14T21:34:32.014Z"
   },
   {
    "duration": 56,
    "start_time": "2021-12-14T21:36:49.800Z"
   },
   {
    "duration": 49,
    "start_time": "2021-12-14T21:36:52.510Z"
   },
   {
    "duration": 7,
    "start_time": "2021-12-14T21:39:35.762Z"
   },
   {
    "duration": 4,
    "start_time": "2021-12-14T21:48:14.607Z"
   },
   {
    "duration": 14,
    "start_time": "2021-12-14T21:48:17.245Z"
   },
   {
    "duration": 8,
    "start_time": "2021-12-14T21:48:57.294Z"
   },
   {
    "duration": 29,
    "start_time": "2021-12-14T21:53:24.947Z"
   },
   {
    "duration": 281,
    "start_time": "2021-12-14T21:57:12.613Z"
   },
   {
    "duration": 332,
    "start_time": "2021-12-14T21:57:44.937Z"
   },
   {
    "duration": 227,
    "start_time": "2021-12-14T22:00:06.539Z"
   },
   {
    "duration": 28,
    "start_time": "2021-12-14T22:02:09.087Z"
   },
   {
    "duration": 11,
    "start_time": "2021-12-14T22:08:07.821Z"
   },
   {
    "duration": 9,
    "start_time": "2021-12-14T22:08:32.033Z"
   },
   {
    "duration": 11,
    "start_time": "2021-12-14T22:08:36.799Z"
   },
   {
    "duration": 9,
    "start_time": "2021-12-14T22:09:01.823Z"
   },
   {
    "duration": 451,
    "start_time": "2021-12-15T12:09:59.323Z"
   },
   {
    "duration": 6,
    "start_time": "2021-12-15T12:10:04.579Z"
   },
   {
    "duration": 994,
    "start_time": "2021-12-15T12:10:08.738Z"
   },
   {
    "duration": 798,
    "start_time": "2021-12-15T12:10:29.608Z"
   },
   {
    "duration": 207,
    "start_time": "2021-12-15T12:10:32.308Z"
   },
   {
    "duration": 31,
    "start_time": "2021-12-15T12:10:35.083Z"
   },
   {
    "duration": 36,
    "start_time": "2021-12-15T12:10:41.296Z"
   },
   {
    "duration": 5,
    "start_time": "2021-12-15T12:10:46.951Z"
   },
   {
    "duration": 38,
    "start_time": "2021-12-15T12:10:51.441Z"
   },
   {
    "duration": 5,
    "start_time": "2021-12-15T12:10:53.481Z"
   },
   {
    "duration": 33,
    "start_time": "2021-12-15T12:11:00.253Z"
   },
   {
    "duration": 25,
    "start_time": "2021-12-15T12:11:06.265Z"
   },
   {
    "duration": 34,
    "start_time": "2021-12-15T12:11:08.353Z"
   },
   {
    "duration": 88,
    "start_time": "2021-12-15T12:11:13.923Z"
   },
   {
    "duration": 116,
    "start_time": "2021-12-15T12:11:16.196Z"
   },
   {
    "duration": 88,
    "start_time": "2021-12-15T12:11:18.423Z"
   },
   {
    "duration": 10,
    "start_time": "2021-12-15T12:11:23.740Z"
   },
   {
    "duration": 4,
    "start_time": "2021-12-15T12:11:32.785Z"
   },
   {
    "duration": 22,
    "start_time": "2021-12-15T12:11:35.119Z"
   },
   {
    "duration": 9,
    "start_time": "2021-12-15T12:11:40.353Z"
   },
   {
    "duration": 16,
    "start_time": "2021-12-15T12:11:49.754Z"
   },
   {
    "duration": 15,
    "start_time": "2021-12-15T12:11:55.017Z"
   },
   {
    "duration": 5,
    "start_time": "2021-12-15T12:12:03.901Z"
   },
   {
    "duration": 32,
    "start_time": "2021-12-15T12:12:08.214Z"
   },
   {
    "duration": 20,
    "start_time": "2021-12-15T12:13:40.133Z"
   },
   {
    "duration": 23,
    "start_time": "2021-12-15T12:14:08.237Z"
   },
   {
    "duration": 19,
    "start_time": "2021-12-15T12:15:04.589Z"
   },
   {
    "duration": 27,
    "start_time": "2021-12-15T12:15:41.701Z"
   },
   {
    "duration": 21,
    "start_time": "2021-12-15T12:16:14.174Z"
   },
   {
    "duration": 446,
    "start_time": "2021-12-15T12:24:36.699Z"
   },
   {
    "duration": 386,
    "start_time": "2021-12-15T12:26:44.933Z"
   },
   {
    "duration": 12,
    "start_time": "2021-12-15T12:41:59.029Z"
   },
   {
    "duration": 17,
    "start_time": "2021-12-15T12:42:21.251Z"
   },
   {
    "duration": 15,
    "start_time": "2021-12-15T12:48:51.016Z"
   },
   {
    "duration": 35,
    "start_time": "2021-12-15T12:49:05.972Z"
   },
   {
    "duration": 18,
    "start_time": "2021-12-15T12:49:16.829Z"
   },
   {
    "duration": 49,
    "start_time": "2021-12-15T12:53:27.143Z"
   },
   {
    "duration": 19,
    "start_time": "2021-12-15T13:02:04.361Z"
   },
   {
    "duration": 381,
    "start_time": "2021-12-15T13:03:25.606Z"
   },
   {
    "duration": 7,
    "start_time": "2021-12-15T13:03:35.349Z"
   },
   {
    "duration": 22,
    "start_time": "2021-12-15T13:03:38.285Z"
   },
   {
    "duration": 423,
    "start_time": "2021-12-15T13:05:02.697Z"
   },
   {
    "duration": 23,
    "start_time": "2021-12-15T13:05:09.149Z"
   },
   {
    "duration": 27,
    "start_time": "2021-12-15T13:05:56.363Z"
   },
   {
    "duration": 53,
    "start_time": "2021-12-15T13:06:13.676Z"
   },
   {
    "duration": 39,
    "start_time": "2021-12-15T13:06:48.479Z"
   },
   {
    "duration": 6,
    "start_time": "2021-12-15T13:07:33.538Z"
   },
   {
    "duration": 7,
    "start_time": "2021-12-15T13:07:39.397Z"
   },
   {
    "duration": 35,
    "start_time": "2021-12-15T13:10:08.679Z"
   },
   {
    "duration": 22,
    "start_time": "2021-12-15T13:10:42.214Z"
   },
   {
    "duration": 23,
    "start_time": "2021-12-15T13:12:46.473Z"
   },
   {
    "duration": 35,
    "start_time": "2021-12-15T13:12:55.176Z"
   },
   {
    "duration": 8,
    "start_time": "2021-12-15T13:13:07.041Z"
   },
   {
    "duration": 37,
    "start_time": "2021-12-15T13:13:09.010Z"
   },
   {
    "duration": 41,
    "start_time": "2021-12-15T13:14:14.311Z"
   },
   {
    "duration": 27,
    "start_time": "2021-12-15T13:15:13.038Z"
   },
   {
    "duration": 37,
    "start_time": "2021-12-15T13:16:54.411Z"
   },
   {
    "duration": 18,
    "start_time": "2021-12-15T13:17:38.334Z"
   },
   {
    "duration": 461,
    "start_time": "2021-12-15T13:22:09.920Z"
   },
   {
    "duration": 12,
    "start_time": "2021-12-15T13:22:16.132Z"
   },
   {
    "duration": 6,
    "start_time": "2021-12-15T13:23:31.289Z"
   },
   {
    "duration": 7,
    "start_time": "2021-12-15T13:24:13.208Z"
   },
   {
    "duration": 6,
    "start_time": "2021-12-15T13:24:20.969Z"
   },
   {
    "duration": 10,
    "start_time": "2021-12-15T13:25:56.592Z"
   },
   {
    "duration": 6,
    "start_time": "2021-12-15T13:26:24.160Z"
   },
   {
    "duration": 3,
    "start_time": "2021-12-15T13:28:07.031Z"
   },
   {
    "duration": 179,
    "start_time": "2021-12-15T13:28:18.124Z"
   },
   {
    "duration": 22,
    "start_time": "2021-12-15T13:28:31.071Z"
   },
   {
    "duration": 31,
    "start_time": "2021-12-15T13:28:58.518Z"
   },
   {
    "duration": 4,
    "start_time": "2021-12-15T13:30:13.338Z"
   },
   {
    "duration": 26,
    "start_time": "2021-12-15T13:30:41.519Z"
   },
   {
    "duration": 4,
    "start_time": "2021-12-15T13:30:54.560Z"
   },
   {
    "duration": 30,
    "start_time": "2021-12-15T13:31:12.541Z"
   },
   {
    "duration": 22,
    "start_time": "2021-12-15T13:31:46.737Z"
   },
   {
    "duration": 29,
    "start_time": "2021-12-15T13:31:57.349Z"
   },
   {
    "duration": 80,
    "start_time": "2021-12-15T13:32:15.096Z"
   },
   {
    "duration": 89,
    "start_time": "2021-12-15T13:32:18.532Z"
   },
   {
    "duration": 74,
    "start_time": "2021-12-15T13:32:31.857Z"
   },
   {
    "duration": 8,
    "start_time": "2021-12-15T13:32:47.197Z"
   },
   {
    "duration": 4,
    "start_time": "2021-12-15T13:33:08.402Z"
   },
   {
    "duration": 21,
    "start_time": "2021-12-15T13:33:12.591Z"
   },
   {
    "duration": 8,
    "start_time": "2021-12-15T13:33:24.363Z"
   },
   {
    "duration": 5,
    "start_time": "2021-12-15T13:35:19.812Z"
   },
   {
    "duration": 26,
    "start_time": "2021-12-15T13:35:30.392Z"
   },
   {
    "duration": 19,
    "start_time": "2021-12-15T13:35:43.892Z"
   },
   {
    "duration": 20,
    "start_time": "2021-12-15T13:36:02.044Z"
   },
   {
    "duration": 19,
    "start_time": "2021-12-15T13:36:17.110Z"
   },
   {
    "duration": 22,
    "start_time": "2021-12-15T13:36:37.479Z"
   },
   {
    "duration": 19,
    "start_time": "2021-12-15T13:36:48.725Z"
   },
   {
    "duration": 19,
    "start_time": "2021-12-15T13:37:00.114Z"
   },
   {
    "duration": 18,
    "start_time": "2021-12-15T13:37:14.754Z"
   },
   {
    "duration": 20,
    "start_time": "2021-12-15T13:37:29.891Z"
   },
   {
    "duration": 19,
    "start_time": "2021-12-15T13:37:44.160Z"
   },
   {
    "duration": 24,
    "start_time": "2021-12-15T13:39:17.778Z"
   },
   {
    "duration": 16,
    "start_time": "2021-12-15T13:39:33.966Z"
   },
   {
    "duration": 27,
    "start_time": "2021-12-15T13:39:50.113Z"
   },
   {
    "duration": 17,
    "start_time": "2021-12-15T13:40:04.118Z"
   },
   {
    "duration": 7,
    "start_time": "2021-12-15T13:42:38.651Z"
   },
   {
    "duration": 5,
    "start_time": "2021-12-15T13:42:45.600Z"
   },
   {
    "duration": 675,
    "start_time": "2021-12-15T14:22:30.336Z"
   },
   {
    "duration": 135,
    "start_time": "2021-12-15T14:22:31.013Z"
   },
   {
    "duration": 18,
    "start_time": "2021-12-15T14:22:31.150Z"
   },
   {
    "duration": 26,
    "start_time": "2021-12-15T14:22:31.170Z"
   },
   {
    "duration": 13,
    "start_time": "2021-12-15T14:22:31.198Z"
   },
   {
    "duration": 31,
    "start_time": "2021-12-15T14:22:31.213Z"
   },
   {
    "duration": 33,
    "start_time": "2021-12-15T14:22:31.246Z"
   },
   {
    "duration": 40,
    "start_time": "2021-12-15T14:22:31.282Z"
   },
   {
    "duration": 20,
    "start_time": "2021-12-15T14:22:31.324Z"
   },
   {
    "duration": 40,
    "start_time": "2021-12-15T14:22:31.345Z"
   },
   {
    "duration": 67,
    "start_time": "2021-12-15T14:22:31.387Z"
   },
   {
    "duration": 56,
    "start_time": "2021-12-15T14:22:31.456Z"
   },
   {
    "duration": 55,
    "start_time": "2021-12-15T14:22:31.514Z"
   },
   {
    "duration": 5,
    "start_time": "2021-12-15T14:22:31.571Z"
   },
   {
    "duration": 3,
    "start_time": "2021-12-15T14:22:31.578Z"
   },
   {
    "duration": 16,
    "start_time": "2021-12-15T14:22:31.582Z"
   },
   {
    "duration": 6,
    "start_time": "2021-12-15T14:22:31.600Z"
   },
   {
    "duration": 36,
    "start_time": "2021-12-15T14:22:31.608Z"
   },
   {
    "duration": 10,
    "start_time": "2021-12-15T14:22:31.646Z"
   },
   {
    "duration": 3,
    "start_time": "2021-12-15T14:22:31.657Z"
   },
   {
    "duration": 18,
    "start_time": "2021-12-15T14:22:31.661Z"
   },
   {
    "duration": 12,
    "start_time": "2021-12-15T14:22:31.680Z"
   },
   {
    "duration": 13,
    "start_time": "2021-12-15T14:22:31.695Z"
   },
   {
    "duration": 43,
    "start_time": "2021-12-15T14:22:31.710Z"
   },
   {
    "duration": 14,
    "start_time": "2021-12-15T14:22:31.754Z"
   },
   {
    "duration": 13,
    "start_time": "2021-12-15T14:22:31.770Z"
   },
   {
    "duration": 9,
    "start_time": "2021-12-15T14:22:31.784Z"
   },
   {
    "duration": 52,
    "start_time": "2021-12-15T14:22:31.794Z"
   },
   {
    "duration": 18,
    "start_time": "2021-12-15T14:22:31.847Z"
   },
   {
    "duration": 4,
    "start_time": "2021-12-15T14:22:31.867Z"
   },
   {
    "duration": 21,
    "start_time": "2021-12-15T14:22:31.873Z"
   },
   {
    "duration": 10,
    "start_time": "2021-12-15T14:22:31.896Z"
   },
   {
    "duration": 43,
    "start_time": "2021-12-15T14:22:31.908Z"
   },
   {
    "duration": 10,
    "start_time": "2021-12-15T14:22:31.953Z"
   },
   {
    "duration": 9,
    "start_time": "2021-12-15T14:22:31.964Z"
   },
   {
    "duration": 4,
    "start_time": "2021-12-15T14:22:31.975Z"
   },
   {
    "duration": 7,
    "start_time": "2021-12-15T14:22:31.981Z"
   },
   {
    "duration": 3,
    "start_time": "2021-12-15T14:22:31.990Z"
   },
   {
    "duration": 17,
    "start_time": "2021-12-15T14:43:07.739Z"
   },
   {
    "duration": 6,
    "start_time": "2021-12-15T14:43:40.680Z"
   },
   {
    "duration": 5,
    "start_time": "2021-12-15T14:44:29.862Z"
   },
   {
    "duration": 31,
    "start_time": "2021-12-15T14:44:49.223Z"
   },
   {
    "duration": 29,
    "start_time": "2021-12-15T14:45:14.047Z"
   },
   {
    "duration": 73,
    "start_time": "2021-12-15T14:45:25.506Z"
   },
   {
    "duration": 73,
    "start_time": "2021-12-15T14:45:32.960Z"
   },
   {
    "duration": 94,
    "start_time": "2021-12-15T14:45:44.451Z"
   },
   {
    "duration": 74,
    "start_time": "2021-12-15T14:45:54.454Z"
   },
   {
    "duration": 77,
    "start_time": "2021-12-15T14:45:59.981Z"
   },
   {
    "duration": 82,
    "start_time": "2021-12-15T14:46:16.528Z"
   },
   {
    "duration": 189,
    "start_time": "2021-12-15T14:47:23.919Z"
   },
   {
    "duration": 62,
    "start_time": "2021-12-15T14:47:31.446Z"
   },
   {
    "duration": 55,
    "start_time": "2021-12-15T14:47:47.492Z"
   },
   {
    "duration": 4,
    "start_time": "2021-12-15T14:49:52.929Z"
   },
   {
    "duration": 4,
    "start_time": "2021-12-15T14:49:55.316Z"
   },
   {
    "duration": 10,
    "start_time": "2021-12-15T14:50:00.469Z"
   },
   {
    "duration": 10,
    "start_time": "2021-12-15T14:50:05.997Z"
   },
   {
    "duration": 3,
    "start_time": "2021-12-15T14:52:20.399Z"
   },
   {
    "duration": 196,
    "start_time": "2021-12-15T14:52:22.594Z"
   },
   {
    "duration": 17,
    "start_time": "2021-12-15T14:52:25.207Z"
   },
   {
    "duration": 57,
    "start_time": "2021-12-15T14:52:33.553Z"
   },
   {
    "duration": 6,
    "start_time": "2021-12-15T14:52:56.255Z"
   },
   {
    "duration": 17,
    "start_time": "2021-12-15T14:53:05.986Z"
   },
   {
    "duration": 5,
    "start_time": "2021-12-15T14:53:08.281Z"
   },
   {
    "duration": 31,
    "start_time": "2021-12-15T14:53:14.892Z"
   },
   {
    "duration": 23,
    "start_time": "2021-12-15T14:53:28.158Z"
   },
   {
    "duration": 31,
    "start_time": "2021-12-15T14:53:30.453Z"
   },
   {
    "duration": 80,
    "start_time": "2021-12-15T14:53:41.493Z"
   },
   {
    "duration": 92,
    "start_time": "2021-12-15T14:53:45.553Z"
   },
   {
    "duration": 75,
    "start_time": "2021-12-15T14:53:47.746Z"
   },
   {
    "duration": 58,
    "start_time": "2021-12-15T14:53:55.868Z"
   },
   {
    "duration": 4,
    "start_time": "2021-12-15T14:54:06.251Z"
   },
   {
    "duration": 10,
    "start_time": "2021-12-15T14:54:17.678Z"
   },
   {
    "duration": 8,
    "start_time": "2021-12-15T14:54:21.383Z"
   },
   {
    "duration": 15,
    "start_time": "2021-12-15T14:54:56.949Z"
   },
   {
    "duration": 15,
    "start_time": "2021-12-15T14:55:03.141Z"
   },
   {
    "duration": 59,
    "start_time": "2021-12-15T14:55:53.258Z"
   },
   {
    "duration": 61,
    "start_time": "2021-12-15T14:56:16.650Z"
   },
   {
    "duration": 16,
    "start_time": "2021-12-15T14:56:53.893Z"
   },
   {
    "duration": 16,
    "start_time": "2021-12-15T14:57:01.843Z"
   },
   {
    "duration": 4,
    "start_time": "2021-12-15T14:58:21.171Z"
   },
   {
    "duration": 30,
    "start_time": "2021-12-15T14:58:26.073Z"
   },
   {
    "duration": 18,
    "start_time": "2021-12-15T14:58:28.348Z"
   },
   {
    "duration": 21,
    "start_time": "2021-12-15T14:58:38.563Z"
   },
   {
    "duration": 18,
    "start_time": "2021-12-15T14:58:47.410Z"
   },
   {
    "duration": 144,
    "start_time": "2021-12-15T14:58:59.574Z"
   },
   {
    "duration": 27,
    "start_time": "2021-12-15T14:59:03.545Z"
   },
   {
    "duration": 19,
    "start_time": "2021-12-15T14:59:13.550Z"
   },
   {
    "duration": 20,
    "start_time": "2021-12-15T14:59:23.574Z"
   },
   {
    "duration": 18,
    "start_time": "2021-12-15T14:59:31.858Z"
   },
   {
    "duration": 12,
    "start_time": "2021-12-15T14:59:50.379Z"
   },
   {
    "duration": 36,
    "start_time": "2021-12-15T15:00:07.497Z"
   },
   {
    "duration": 43,
    "start_time": "2021-12-15T15:00:18.630Z"
   },
   {
    "duration": 9,
    "start_time": "2021-12-15T15:00:32.516Z"
   },
   {
    "duration": 26,
    "start_time": "2021-12-15T15:00:50.457Z"
   },
   {
    "duration": 17,
    "start_time": "2021-12-15T15:01:03.496Z"
   },
   {
    "duration": 22,
    "start_time": "2021-12-15T15:01:12.008Z"
   },
   {
    "duration": 16,
    "start_time": "2021-12-15T15:01:24.307Z"
   },
   {
    "duration": 12,
    "start_time": "2021-12-15T15:01:36.488Z"
   },
   {
    "duration": 6,
    "start_time": "2021-12-15T15:01:46.737Z"
   },
   {
    "duration": 9,
    "start_time": "2021-12-15T15:01:55.016Z"
   },
   {
    "duration": 6,
    "start_time": "2021-12-15T15:02:02.649Z"
   },
   {
    "duration": 3,
    "start_time": "2021-12-15T15:09:41.684Z"
   },
   {
    "duration": 203,
    "start_time": "2021-12-15T15:09:44.016Z"
   },
   {
    "duration": 16,
    "start_time": "2021-12-15T15:09:46.040Z"
   },
   {
    "duration": 41,
    "start_time": "2021-12-15T15:09:54.649Z"
   },
   {
    "duration": 6,
    "start_time": "2021-12-15T15:10:20.024Z"
   },
   {
    "duration": 131,
    "start_time": "2021-12-15T15:10:43.909Z"
   },
   {
    "duration": 14,
    "start_time": "2021-12-15T15:11:25.896Z"
   },
   {
    "duration": 5,
    "start_time": "2021-12-15T15:11:28.404Z"
   },
   {
    "duration": 31,
    "start_time": "2021-12-15T15:11:35.541Z"
   },
   {
    "duration": 24,
    "start_time": "2021-12-15T15:11:45.921Z"
   },
   {
    "duration": 33,
    "start_time": "2021-12-15T15:11:51.962Z"
   },
   {
    "duration": 80,
    "start_time": "2021-12-15T15:12:07.280Z"
   },
   {
    "duration": 92,
    "start_time": "2021-12-15T15:12:09.457Z"
   },
   {
    "duration": 81,
    "start_time": "2021-12-15T15:12:11.665Z"
   },
   {
    "duration": 58,
    "start_time": "2021-12-15T15:12:19.809Z"
   },
   {
    "duration": 4,
    "start_time": "2021-12-15T15:13:43.019Z"
   },
   {
    "duration": 10,
    "start_time": "2021-12-15T15:13:55.048Z"
   },
   {
    "duration": 61,
    "start_time": "2021-12-15T15:13:58.577Z"
   },
   {
    "duration": 16,
    "start_time": "2021-12-15T15:15:14.766Z"
   },
   {
    "duration": 17,
    "start_time": "2021-12-15T15:15:21.285Z"
   },
   {
    "duration": 5,
    "start_time": "2021-12-15T15:15:28.324Z"
   },
   {
    "duration": 21,
    "start_time": "2021-12-15T15:17:00.445Z"
   },
   {
    "duration": 20,
    "start_time": "2021-12-15T15:17:02.263Z"
   },
   {
    "duration": 19,
    "start_time": "2021-12-15T15:17:03.664Z"
   },
   {
    "duration": 24,
    "start_time": "2021-12-15T15:17:05.007Z"
   },
   {
    "duration": 22,
    "start_time": "2021-12-15T15:17:06.263Z"
   },
   {
    "duration": 19,
    "start_time": "2021-12-15T15:17:07.693Z"
   },
   {
    "duration": 13,
    "start_time": "2021-12-15T15:17:23.203Z"
   },
   {
    "duration": 34,
    "start_time": "2021-12-15T15:17:46.618Z"
   },
   {
    "duration": 34,
    "start_time": "2021-12-15T15:17:58.634Z"
   },
   {
    "duration": 7,
    "start_time": "2021-12-15T15:18:14.048Z"
   },
   {
    "duration": 37,
    "start_time": "2021-12-15T15:18:16.401Z"
   },
   {
    "duration": 25,
    "start_time": "2021-12-15T15:18:22.051Z"
   },
   {
    "duration": 24,
    "start_time": "2021-12-15T15:18:23.817Z"
   },
   {
    "duration": 19,
    "start_time": "2021-12-15T15:18:24.899Z"
   },
   {
    "duration": 14,
    "start_time": "2021-12-15T15:18:31.485Z"
   },
   {
    "duration": 7,
    "start_time": "2021-12-15T15:18:36.509Z"
   },
   {
    "duration": 10,
    "start_time": "2021-12-15T15:18:44.008Z"
   },
   {
    "duration": 8,
    "start_time": "2021-12-15T15:18:46.036Z"
   },
   {
    "duration": 353,
    "start_time": "2022-07-04T15:57:14.499Z"
   },
   {
    "duration": 194,
    "start_time": "2022-07-04T15:57:26.071Z"
   },
   {
    "duration": 15,
    "start_time": "2022-07-04T15:57:35.441Z"
   },
   {
    "duration": 43,
    "start_time": "2022-07-04T15:57:46.942Z"
   },
   {
    "duration": 4,
    "start_time": "2022-07-04T15:58:58.463Z"
   },
   {
    "duration": 11,
    "start_time": "2022-07-04T15:59:51.740Z"
   },
   {
    "duration": 4,
    "start_time": "2022-07-04T15:59:59.150Z"
   },
   {
    "duration": 21,
    "start_time": "2022-07-04T16:00:28.266Z"
   },
   {
    "duration": 18,
    "start_time": "2022-07-04T16:04:05.250Z"
   },
   {
    "duration": 26,
    "start_time": "2022-07-04T16:04:34.550Z"
   },
   {
    "duration": 60,
    "start_time": "2022-07-04T16:05:07.698Z"
   },
   {
    "duration": 71,
    "start_time": "2022-07-04T16:11:06.610Z"
   },
   {
    "duration": 57,
    "start_time": "2022-07-04T16:11:07.722Z"
   },
   {
    "duration": 32,
    "start_time": "2022-07-04T16:11:10.727Z"
   },
   {
    "duration": 3,
    "start_time": "2022-07-04T16:12:10.606Z"
   },
   {
    "duration": 12,
    "start_time": "2022-07-04T16:12:11.370Z"
   },
   {
    "duration": 33,
    "start_time": "2022-07-04T16:12:12.206Z"
   },
   {
    "duration": 12,
    "start_time": "2022-07-04T16:14:13.990Z"
   },
   {
    "duration": 3,
    "start_time": "2022-07-04T16:14:33.582Z"
   },
   {
    "duration": 14,
    "start_time": "2022-07-04T16:14:41.923Z"
   },
   {
    "duration": 13,
    "start_time": "2022-07-04T16:14:42.890Z"
   },
   {
    "duration": 14,
    "start_time": "2022-07-04T16:14:43.554Z"
   },
   {
    "duration": 13,
    "start_time": "2022-07-04T16:14:44.150Z"
   },
   {
    "duration": 15,
    "start_time": "2022-07-04T16:14:44.706Z"
   },
   {
    "duration": 12,
    "start_time": "2022-07-04T16:14:46.127Z"
   },
   {
    "duration": 9,
    "start_time": "2022-07-04T16:14:51.270Z"
   },
   {
    "duration": 18,
    "start_time": "2022-07-04T16:15:31.863Z"
   },
   {
    "duration": 16,
    "start_time": "2022-07-04T16:15:40.747Z"
   },
   {
    "duration": 4,
    "start_time": "2022-07-04T16:16:20.222Z"
   },
   {
    "duration": 19,
    "start_time": "2022-07-04T16:16:44.464Z"
   },
   {
    "duration": 11,
    "start_time": "2022-07-04T16:16:49.974Z"
   },
   {
    "duration": 15,
    "start_time": "2022-07-04T16:16:54.594Z"
   },
   {
    "duration": 11,
    "start_time": "2022-07-04T16:16:59.103Z"
   },
   {
    "duration": 9,
    "start_time": "2022-07-04T16:18:50.634Z"
   },
   {
    "duration": 5,
    "start_time": "2022-07-04T16:18:56.578Z"
   },
   {
    "duration": 7,
    "start_time": "2022-07-04T16:19:05.823Z"
   },
   {
    "duration": 5,
    "start_time": "2022-07-04T16:19:08.730Z"
   }
  ],
  "colab": {
   "collapsed_sections": [
    "E0vqbgi9ay0H",
    "VUC88oWjTJw2"
   ],
   "name": "yandex_music_project_2021.2.ipynb",
   "provenance": []
  },
  "kernelspec": {
   "display_name": "Python 3 (ipykernel)",
   "language": "python",
   "name": "python3"
  },
  "language_info": {
   "codemirror_mode": {
    "name": "ipython",
    "version": 3
   },
   "file_extension": ".py",
   "mimetype": "text/x-python",
   "name": "python",
   "nbconvert_exporter": "python",
   "pygments_lexer": "ipython3",
   "version": "3.9.7"
  },
  "toc": {
   "base_numbering": 1,
   "nav_menu": {},
   "number_sections": true,
   "sideBar": true,
   "skip_h1_title": true,
   "title_cell": "Table of Contents",
   "title_sidebar": "Contents",
   "toc_cell": false,
   "toc_position": {},
   "toc_section_display": true,
   "toc_window_display": true
  }
 },
 "nbformat": 4,
 "nbformat_minor": 1
}
